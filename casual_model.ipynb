{
  "nbformat": 4,
  "nbformat_minor": 0,
  "metadata": {
    "colab": {
      "provenance": [],
      "machine_shape": "hm",
      "gpuType": "A100",
      "authorship_tag": "ABX9TyNtGo4vUEJSiWPK3HDTp9yF",
      "include_colab_link": true
    },
    "kernelspec": {
      "name": "ir",
      "display_name": "R"
    },
    "language_info": {
      "name": "R"
    },
    "accelerator": "GPU"
  },
  "cells": [
    {
      "cell_type": "markdown",
      "metadata": {
        "id": "view-in-github",
        "colab_type": "text"
      },
      "source": [
        "<a href=\"https://colab.research.google.com/github/Roy-Byun/IDC2808-Casual-Model-for-Bias-Detection-and-Mitigation-for-CNN/blob/main/casual_model.ipynb\" target=\"_parent\"><img src=\"https://colab.research.google.com/assets/colab-badge.svg\" alt=\"Open In Colab\"/></a>"
      ]
    },
    {
      "cell_type": "code",
      "execution_count": 97,
      "metadata": {
        "colab": {
          "base_uri": "https://localhost:8080/"
        },
        "id": "sv7p1qAOC7_6",
        "outputId": "532818cf-2c9c-4901-db1e-5a5d17414b27"
      },
      "outputs": [
        {
          "output_type": "stream",
          "name": "stderr",
          "text": [
            "Installing package into ‘/usr/local/lib/R/site-library’\n",
            "(as ‘lib’ is unspecified)\n",
            "\n",
            "Installing package into ‘/usr/local/lib/R/site-library’\n",
            "(as ‘lib’ is unspecified)\n",
            "\n",
            "Installing package into ‘/usr/local/lib/R/site-library’\n",
            "(as ‘lib’ is unspecified)\n",
            "\n",
            "Installing package into ‘/usr/local/lib/R/site-library’\n",
            "(as ‘lib’ is unspecified)\n",
            "\n",
            "Installing package into ‘/usr/local/lib/R/site-library’\n",
            "(as ‘lib’ is unspecified)\n",
            "\n"
          ]
        }
      ],
      "source": [
        "install.packages(\"lavaan\")\n",
        "install.packages(\"nnet\")\n",
        "install.packages(\"googledrive\")\n",
        "install.packages(\"dplyr\")\n",
        "install.packages(\"tidyr\")"
      ]
    },
    {
      "cell_type": "code",
      "source": [
        "library(\"lavaan\")\n",
        "library(\"nnet\")\n",
        "library(\"googledrive\")\n",
        "library(\"dplyr\")\n",
        "library(\"tidyr\")"
      ],
      "metadata": {
        "id": "QvCfa6oNDxzN"
      },
      "execution_count": 98,
      "outputs": []
    },
    {
      "cell_type": "code",
      "source": [
        "# Authenticate and mount Google Drive\n",
        "drive_auth(scopes = c(\"https://www.googleapis.com/auth/drive\"))\n"
      ],
      "metadata": {
        "colab": {
          "base_uri": "https://localhost:8080/"
        },
        "id": "HP38UGStDyXc",
        "outputId": "3cfb7be0-ec00-4a77-d3d9-c3b65bceb075"
      },
      "execution_count": 99,
      "outputs": [
        {
          "output_type": "stream",
          "name": "stderr",
          "text": [
            "\u001b[1m\u001b[22mThe \u001b[34mgoogledrive\u001b[39m package is requesting access to your Google account.\n",
            "Enter '1' to start a new auth process or select a pre-authorized account.\n",
            "\u001b[1m1\u001b[22m: Send me to the browser for a new auth process.\n",
            "\u001b[1m2\u001b[22m: academic.roika.uses@gmail.com\n"
          ]
        },
        {
          "name": "stdout",
          "output_type": "stream",
          "text": [
            "Selection: 2\n"
          ]
        }
      ]
    },
    {
      "cell_type": "code",
      "source": [
        "file_id <- \"1cw0C4tzIQIOHGnB2hwZCXTb-zQP1omhq03bTFtbOME8\"\n",
        "drive_download(as_id(file_id), path = \"data.csv\", overwrite = TRUE)\n",
        "\n"
      ],
      "metadata": {
        "colab": {
          "base_uri": "https://localhost:8080/"
        },
        "id": "Ojw9KqNHEidZ",
        "outputId": "a0b9e18e-ee5a-459b-80fc-842191574a7b"
      },
      "execution_count": 100,
      "outputs": [
        {
          "output_type": "stream",
          "name": "stderr",
          "text": [
            "Auto-refreshing stale OAuth token.\n",
            "\n",
            "File downloaded:\n",
            "\n",
            "• \u001b[36mtest_predictions\u001b[39m \u001b[90m<id: 1cw0C4tzIQIOHGnB2hwZCXTb-zQP1omhq03bTFtbOME8>\u001b[39m\n",
            "\n",
            "Saved locally as:\n",
            "\n",
            "• \u001b[34mdata.csv\u001b[39m\n",
            "\n"
          ]
        }
      ]
    },
    {
      "cell_type": "code",
      "source": [
        "# Read the CSV into a dataframe\n",
        "data <- read.csv(\"data.csv\")\n",
        "head(data)"
      ],
      "metadata": {
        "colab": {
          "base_uri": "https://localhost:8080/",
          "height": 410
        },
        "id": "4_ebi_JKFf4S",
        "outputId": "6f7fb330-c30a-47d7-dfb1-b740d4fdfa8f"
      },
      "execution_count": 101,
      "outputs": [
        {
          "output_type": "display_data",
          "data": {
            "text/html": [
              "<table class=\"dataframe\">\n",
              "<caption>A data.frame: 6 × 24</caption>\n",
              "<thead>\n",
              "\t<tr><th></th><th scope=col>file</th><th scope=col>age</th><th scope=col>gender</th><th scope=col>race</th><th scope=col>service_test</th><th scope=col>image_path</th><th scope=col>angry</th><th scope=col>disgust</th><th scope=col>fear</th><th scope=col>happy</th><th scope=col>⋯</th><th scope=col>set</th><th scope=col>emotion_encoded</th><th scope=col>pred_angry</th><th scope=col>pred_disgust</th><th scope=col>pred_fear</th><th scope=col>pred_happy</th><th scope=col>pred_neutral</th><th scope=col>pred_sad</th><th scope=col>pred_surprise</th><th scope=col>pred_dominant_emotion</th></tr>\n",
              "\t<tr><th></th><th scope=col>&lt;chr&gt;</th><th scope=col>&lt;chr&gt;</th><th scope=col>&lt;chr&gt;</th><th scope=col>&lt;chr&gt;</th><th scope=col>&lt;lgl&gt;</th><th scope=col>&lt;chr&gt;</th><th scope=col>&lt;dbl&gt;</th><th scope=col>&lt;dbl&gt;</th><th scope=col>&lt;dbl&gt;</th><th scope=col>&lt;dbl&gt;</th><th scope=col>⋯</th><th scope=col>&lt;chr&gt;</th><th scope=col>&lt;int&gt;</th><th scope=col>&lt;dbl&gt;</th><th scope=col>&lt;dbl&gt;</th><th scope=col>&lt;dbl&gt;</th><th scope=col>&lt;dbl&gt;</th><th scope=col>&lt;dbl&gt;</th><th scope=col>&lt;dbl&gt;</th><th scope=col>&lt;dbl&gt;</th><th scope=col>&lt;chr&gt;</th></tr>\n",
              "</thead>\n",
              "<tbody>\n",
              "\t<tr><th scope=row>1</th><td>val/1269.jpg </td><td>20-29</td><td>Female</td><td>East Asian     </td><td>FALSE</td><td>/content/drive/MyDrive/Colab Notebooks/Implementation_of_AI_Project/Dataset/FairFace/val/1269.jpg </td><td> 4.1539691</td><td>0.0005425039</td><td>1.656175e+00</td><td>8.754689e-02</td><td>⋯</td><td>val</td><td>4</td><td>0.03514380</td><td>0.002285881</td><td>0.08279880</td><td>0.09479114</td><td>0.5673999</td><td>0.2085685</td><td>0.009011921</td><td>neutral</td></tr>\n",
              "\t<tr><th scope=row>2</th><td>val/8609.jpg </td><td>20-29</td><td>Male  </td><td>Southeast Asian</td><td> TRUE</td><td>/content/drive/MyDrive/Colab Notebooks/Implementation_of_AI_Project/Dataset/FairFace/val/8609.jpg </td><td> 7.6796679</td><td>0.3187014807</td><td>5.887059e+01</td><td>4.713769e-02</td><td>⋯</td><td>val</td><td>2</td><td>0.09615987</td><td>0.003617336</td><td>0.08916902</td><td>0.01487149</td><td>0.3847439</td><td>0.4024809</td><td>0.008957511</td><td>sad    </td></tr>\n",
              "\t<tr><th scope=row>3</th><td>val/10024.jpg</td><td>20-29</td><td>Male  </td><td>Black          </td><td>FALSE</td><td>/content/drive/MyDrive/Colab Notebooks/Implementation_of_AI_Project/Dataset/FairFace/val/10024.jpg</td><td> 0.1374362</td><td>0.0000000171</td><td>2.352087e-03</td><td>9.478812e-01</td><td>⋯</td><td>val</td><td>4</td><td>0.04268722</td><td>0.000743211</td><td>0.01335575</td><td>0.02731055</td><td>0.7540942</td><td>0.1592955</td><td>0.002513579</td><td>neutral</td></tr>\n",
              "\t<tr><th scope=row>4</th><td>val/1695.jpg </td><td>20-29</td><td>Male  </td><td>Southeast Asian</td><td> TRUE</td><td>/content/drive/MyDrive/Colab Notebooks/Implementation_of_AI_Project/Dataset/FairFace/val/1695.jpg </td><td>69.0098345</td><td>0.0000000077</td><td>7.946858e-02</td><td>3.359739e-04</td><td>⋯</td><td>val</td><td>0</td><td>0.21173555</td><td>0.001597813</td><td>0.02623859</td><td>0.02440022</td><td>0.3284020</td><td>0.4053957</td><td>0.002230090</td><td>sad    </td></tr>\n",
              "\t<tr><th scope=row>5</th><td>val/8219.jpg </td><td>20-29</td><td>Male  </td><td>Middle Eastern </td><td> TRUE</td><td>/content/drive/MyDrive/Colab Notebooks/Implementation_of_AI_Project/Dataset/FairFace/val/8219.jpg </td><td> 4.9099679</td><td>0.0112926099</td><td>6.545527e+00</td><td>1.588660e+00</td><td>⋯</td><td>val</td><td>5</td><td>0.11357626</td><td>0.006283884</td><td>0.14535478</td><td>0.12307832</td><td>0.3382777</td><td>0.2478852</td><td>0.025543863</td><td>neutral</td></tr>\n",
              "\t<tr><th scope=row>6</th><td>val/3903.jpg </td><td>10-19</td><td>Male  </td><td>White          </td><td> TRUE</td><td>/content/drive/MyDrive/Colab Notebooks/Implementation_of_AI_Project/Dataset/FairFace/val/3903.jpg </td><td> 0.0000269</td><td>0.0000004570</td><td>2.348464e-04</td><td>9.999740e+01</td><td>⋯</td><td>val</td><td>3</td><td>0.32413808</td><td>0.008224904</td><td>0.10323457</td><td>0.12733549</td><td>0.2131242</td><td>0.2112593</td><td>0.012683422</td><td>angry  </td></tr>\n",
              "</tbody>\n",
              "</table>\n"
            ],
            "text/markdown": "\nA data.frame: 6 × 24\n\n| <!--/--> | file &lt;chr&gt; | age &lt;chr&gt; | gender &lt;chr&gt; | race &lt;chr&gt; | service_test &lt;lgl&gt; | image_path &lt;chr&gt; | angry &lt;dbl&gt; | disgust &lt;dbl&gt; | fear &lt;dbl&gt; | happy &lt;dbl&gt; | ⋯ ⋯ | set &lt;chr&gt; | emotion_encoded &lt;int&gt; | pred_angry &lt;dbl&gt; | pred_disgust &lt;dbl&gt; | pred_fear &lt;dbl&gt; | pred_happy &lt;dbl&gt; | pred_neutral &lt;dbl&gt; | pred_sad &lt;dbl&gt; | pred_surprise &lt;dbl&gt; | pred_dominant_emotion &lt;chr&gt; |\n|---|---|---|---|---|---|---|---|---|---|---|---|---|---|---|---|---|---|---|---|---|---|\n| 1 | val/1269.jpg  | 20-29 | Female | East Asian      | FALSE | /content/drive/MyDrive/Colab Notebooks/Implementation_of_AI_Project/Dataset/FairFace/val/1269.jpg  |  4.1539691 | 0.0005425039 | 1.656175e+00 | 8.754689e-02 | ⋯ | val | 4 | 0.03514380 | 0.002285881 | 0.08279880 | 0.09479114 | 0.5673999 | 0.2085685 | 0.009011921 | neutral |\n| 2 | val/8609.jpg  | 20-29 | Male   | Southeast Asian |  TRUE | /content/drive/MyDrive/Colab Notebooks/Implementation_of_AI_Project/Dataset/FairFace/val/8609.jpg  |  7.6796679 | 0.3187014807 | 5.887059e+01 | 4.713769e-02 | ⋯ | val | 2 | 0.09615987 | 0.003617336 | 0.08916902 | 0.01487149 | 0.3847439 | 0.4024809 | 0.008957511 | sad     |\n| 3 | val/10024.jpg | 20-29 | Male   | Black           | FALSE | /content/drive/MyDrive/Colab Notebooks/Implementation_of_AI_Project/Dataset/FairFace/val/10024.jpg |  0.1374362 | 0.0000000171 | 2.352087e-03 | 9.478812e-01 | ⋯ | val | 4 | 0.04268722 | 0.000743211 | 0.01335575 | 0.02731055 | 0.7540942 | 0.1592955 | 0.002513579 | neutral |\n| 4 | val/1695.jpg  | 20-29 | Male   | Southeast Asian |  TRUE | /content/drive/MyDrive/Colab Notebooks/Implementation_of_AI_Project/Dataset/FairFace/val/1695.jpg  | 69.0098345 | 0.0000000077 | 7.946858e-02 | 3.359739e-04 | ⋯ | val | 0 | 0.21173555 | 0.001597813 | 0.02623859 | 0.02440022 | 0.3284020 | 0.4053957 | 0.002230090 | sad     |\n| 5 | val/8219.jpg  | 20-29 | Male   | Middle Eastern  |  TRUE | /content/drive/MyDrive/Colab Notebooks/Implementation_of_AI_Project/Dataset/FairFace/val/8219.jpg  |  4.9099679 | 0.0112926099 | 6.545527e+00 | 1.588660e+00 | ⋯ | val | 5 | 0.11357626 | 0.006283884 | 0.14535478 | 0.12307832 | 0.3382777 | 0.2478852 | 0.025543863 | neutral |\n| 6 | val/3903.jpg  | 10-19 | Male   | White           |  TRUE | /content/drive/MyDrive/Colab Notebooks/Implementation_of_AI_Project/Dataset/FairFace/val/3903.jpg  |  0.0000269 | 0.0000004570 | 2.348464e-04 | 9.999740e+01 | ⋯ | val | 3 | 0.32413808 | 0.008224904 | 0.10323457 | 0.12733549 | 0.2131242 | 0.2112593 | 0.012683422 | angry   |\n\n",
            "text/latex": "A data.frame: 6 × 24\n\\begin{tabular}{r|lllllllllllllllllllll}\n  & file & age & gender & race & service\\_test & image\\_path & angry & disgust & fear & happy & ⋯ & set & emotion\\_encoded & pred\\_angry & pred\\_disgust & pred\\_fear & pred\\_happy & pred\\_neutral & pred\\_sad & pred\\_surprise & pred\\_dominant\\_emotion\\\\\n  & <chr> & <chr> & <chr> & <chr> & <lgl> & <chr> & <dbl> & <dbl> & <dbl> & <dbl> & ⋯ & <chr> & <int> & <dbl> & <dbl> & <dbl> & <dbl> & <dbl> & <dbl> & <dbl> & <chr>\\\\\n\\hline\n\t1 & val/1269.jpg  & 20-29 & Female & East Asian      & FALSE & /content/drive/MyDrive/Colab Notebooks/Implementation\\_of\\_AI\\_Project/Dataset/FairFace/val/1269.jpg  &  4.1539691 & 0.0005425039 & 1.656175e+00 & 8.754689e-02 & ⋯ & val & 4 & 0.03514380 & 0.002285881 & 0.08279880 & 0.09479114 & 0.5673999 & 0.2085685 & 0.009011921 & neutral\\\\\n\t2 & val/8609.jpg  & 20-29 & Male   & Southeast Asian &  TRUE & /content/drive/MyDrive/Colab Notebooks/Implementation\\_of\\_AI\\_Project/Dataset/FairFace/val/8609.jpg  &  7.6796679 & 0.3187014807 & 5.887059e+01 & 4.713769e-02 & ⋯ & val & 2 & 0.09615987 & 0.003617336 & 0.08916902 & 0.01487149 & 0.3847439 & 0.4024809 & 0.008957511 & sad    \\\\\n\t3 & val/10024.jpg & 20-29 & Male   & Black           & FALSE & /content/drive/MyDrive/Colab Notebooks/Implementation\\_of\\_AI\\_Project/Dataset/FairFace/val/10024.jpg &  0.1374362 & 0.0000000171 & 2.352087e-03 & 9.478812e-01 & ⋯ & val & 4 & 0.04268722 & 0.000743211 & 0.01335575 & 0.02731055 & 0.7540942 & 0.1592955 & 0.002513579 & neutral\\\\\n\t4 & val/1695.jpg  & 20-29 & Male   & Southeast Asian &  TRUE & /content/drive/MyDrive/Colab Notebooks/Implementation\\_of\\_AI\\_Project/Dataset/FairFace/val/1695.jpg  & 69.0098345 & 0.0000000077 & 7.946858e-02 & 3.359739e-04 & ⋯ & val & 0 & 0.21173555 & 0.001597813 & 0.02623859 & 0.02440022 & 0.3284020 & 0.4053957 & 0.002230090 & sad    \\\\\n\t5 & val/8219.jpg  & 20-29 & Male   & Middle Eastern  &  TRUE & /content/drive/MyDrive/Colab Notebooks/Implementation\\_of\\_AI\\_Project/Dataset/FairFace/val/8219.jpg  &  4.9099679 & 0.0112926099 & 6.545527e+00 & 1.588660e+00 & ⋯ & val & 5 & 0.11357626 & 0.006283884 & 0.14535478 & 0.12307832 & 0.3382777 & 0.2478852 & 0.025543863 & neutral\\\\\n\t6 & val/3903.jpg  & 10-19 & Male   & White           &  TRUE & /content/drive/MyDrive/Colab Notebooks/Implementation\\_of\\_AI\\_Project/Dataset/FairFace/val/3903.jpg  &  0.0000269 & 0.0000004570 & 2.348464e-04 & 9.999740e+01 & ⋯ & val & 3 & 0.32413808 & 0.008224904 & 0.10323457 & 0.12733549 & 0.2131242 & 0.2112593 & 0.012683422 & angry  \\\\\n\\end{tabular}\n",
            "text/plain": [
              "  file          age   gender race            service_test\n",
              "1 val/1269.jpg  20-29 Female East Asian      FALSE       \n",
              "2 val/8609.jpg  20-29 Male   Southeast Asian  TRUE       \n",
              "3 val/10024.jpg 20-29 Male   Black           FALSE       \n",
              "4 val/1695.jpg  20-29 Male   Southeast Asian  TRUE       \n",
              "5 val/8219.jpg  20-29 Male   Middle Eastern   TRUE       \n",
              "6 val/3903.jpg  10-19 Male   White            TRUE       \n",
              "  image_path                                                                                        \n",
              "1 /content/drive/MyDrive/Colab Notebooks/Implementation_of_AI_Project/Dataset/FairFace/val/1269.jpg \n",
              "2 /content/drive/MyDrive/Colab Notebooks/Implementation_of_AI_Project/Dataset/FairFace/val/8609.jpg \n",
              "3 /content/drive/MyDrive/Colab Notebooks/Implementation_of_AI_Project/Dataset/FairFace/val/10024.jpg\n",
              "4 /content/drive/MyDrive/Colab Notebooks/Implementation_of_AI_Project/Dataset/FairFace/val/1695.jpg \n",
              "5 /content/drive/MyDrive/Colab Notebooks/Implementation_of_AI_Project/Dataset/FairFace/val/8219.jpg \n",
              "6 /content/drive/MyDrive/Colab Notebooks/Implementation_of_AI_Project/Dataset/FairFace/val/3903.jpg \n",
              "  angry      disgust      fear         happy        ⋯ set emotion_encoded\n",
              "1  4.1539691 0.0005425039 1.656175e+00 8.754689e-02 ⋯ val 4              \n",
              "2  7.6796679 0.3187014807 5.887059e+01 4.713769e-02 ⋯ val 2              \n",
              "3  0.1374362 0.0000000171 2.352087e-03 9.478812e-01 ⋯ val 4              \n",
              "4 69.0098345 0.0000000077 7.946858e-02 3.359739e-04 ⋯ val 0              \n",
              "5  4.9099679 0.0112926099 6.545527e+00 1.588660e+00 ⋯ val 5              \n",
              "6  0.0000269 0.0000004570 2.348464e-04 9.999740e+01 ⋯ val 3              \n",
              "  pred_angry pred_disgust pred_fear  pred_happy pred_neutral pred_sad \n",
              "1 0.03514380 0.002285881  0.08279880 0.09479114 0.5673999    0.2085685\n",
              "2 0.09615987 0.003617336  0.08916902 0.01487149 0.3847439    0.4024809\n",
              "3 0.04268722 0.000743211  0.01335575 0.02731055 0.7540942    0.1592955\n",
              "4 0.21173555 0.001597813  0.02623859 0.02440022 0.3284020    0.4053957\n",
              "5 0.11357626 0.006283884  0.14535478 0.12307832 0.3382777    0.2478852\n",
              "6 0.32413808 0.008224904  0.10323457 0.12733549 0.2131242    0.2112593\n",
              "  pred_surprise pred_dominant_emotion\n",
              "1 0.009011921   neutral              \n",
              "2 0.008957511   sad                  \n",
              "3 0.002513579   neutral              \n",
              "4 0.002230090   sad                  \n",
              "5 0.025543863   neutral              \n",
              "6 0.012683422   angry                "
            ]
          },
          "metadata": {}
        }
      ]
    },
    {
      "cell_type": "code",
      "source": [
        "# Visualize the structure of the dataset\n",
        "str(data)"
      ],
      "metadata": {
        "colab": {
          "base_uri": "https://localhost:8080/"
        },
        "id": "iyCqTM-TGND_",
        "outputId": "3edf00c2-79b1-4ccf-9f41-2f5b3001fc30"
      },
      "execution_count": 102,
      "outputs": [
        {
          "output_type": "stream",
          "name": "stdout",
          "text": [
            "'data.frame':\t5477 obs. of  24 variables:\n",
            " $ file                 : chr  \"val/1269.jpg\" \"val/8609.jpg\" \"val/10024.jpg\" \"val/1695.jpg\" ...\n",
            " $ age                  : chr  \"20-29\" \"20-29\" \"20-29\" \"20-29\" ...\n",
            " $ gender               : chr  \"Female\" \"Male\" \"Male\" \"Male\" ...\n",
            " $ race                 : chr  \"East Asian\" \"Southeast Asian\" \"Black\" \"Southeast Asian\" ...\n",
            " $ service_test         : logi  FALSE TRUE FALSE TRUE TRUE TRUE ...\n",
            " $ image_path           : chr  \"/content/drive/MyDrive/Colab Notebooks/Implementation_of_AI_Project/Dataset/FairFace/val/1269.jpg\" \"/content/drive/MyDrive/Colab Notebooks/Implementation_of_AI_Project/Dataset/FairFace/val/8609.jpg\" \"/content/drive/MyDrive/Colab Notebooks/Implementation_of_AI_Project/Dataset/FairFace/val/10024.jpg\" \"/content/drive/MyDrive/Colab Notebooks/Implementation_of_AI_Project/Dataset/FairFace/val/1695.jpg\" ...\n",
            " $ angry                : num  4.154 7.68 0.137 69.01 4.91 ...\n",
            " $ disgust              : num  5.43e-04 3.19e-01 1.71e-08 7.70e-09 1.13e-02 ...\n",
            " $ fear                 : num  1.65618 58.87059 0.00235 0.07947 6.54553 ...\n",
            " $ happy                : num  0.087547 0.047138 0.947881 0.000336 1.58866 ...\n",
            " $ sad                  : num  9.67 23.22 42.35 20.87 82.37 ...\n",
            " $ surprise             : num  6.37e-03 4.20e-01 1.61e-05 2.46e-08 3.63e-02 ...\n",
            " $ neutral              : num  84.42 9.44 56.57 10.04 4.54 ...\n",
            " $ dominant_emotion     : chr  \"neutral\" \"fear\" \"neutral\" \"angry\" ...\n",
            " $ set                  : chr  \"val\" \"val\" \"val\" \"val\" ...\n",
            " $ emotion_encoded      : int  4 2 4 0 5 3 3 3 3 4 ...\n",
            " $ pred_angry           : num  0.0351 0.0962 0.0427 0.2117 0.1136 ...\n",
            " $ pred_disgust         : num  0.002286 0.003617 0.000743 0.001598 0.006284 ...\n",
            " $ pred_fear            : num  0.0828 0.0892 0.0134 0.0262 0.1454 ...\n",
            " $ pred_happy           : num  0.0948 0.0149 0.0273 0.0244 0.1231 ...\n",
            " $ pred_neutral         : num  0.567 0.385 0.754 0.328 0.338 ...\n",
            " $ pred_sad             : num  0.209 0.402 0.159 0.405 0.248 ...\n",
            " $ pred_surprise        : num  0.00901 0.00896 0.00251 0.00223 0.02554 ...\n",
            " $ pred_dominant_emotion: chr  \"neutral\" \"sad\" \"neutral\" \"sad\" ...\n"
          ]
        }
      ]
    },
    {
      "cell_type": "code",
      "source": [
        "# One-Hot Encoding of True Emotions class\n",
        "\n",
        "# Define emotions\n",
        "emotions <- c(\"angry\", \"disgust\", \"fear\", \"happy\", \"neutral\", \"sad\", \"surprise\")\n",
        "\n",
        "# One-hot encoding for True Classification\n",
        "true_class <- as.data.frame(t(sapply(data$dominant_emotion, function(x) as.integer(emotions == x))))\n",
        "colnames(true_class) <- paste0(\"true_\", emotions)\n"
      ],
      "metadata": {
        "id": "QNib4-9tJh70"
      },
      "execution_count": 103,
      "outputs": []
    },
    {
      "cell_type": "code",
      "source": [
        "# Retain original columns and add only binarized emotions\n",
        "model_data <- data %>%\n",
        "  bind_cols(true_class)\n",
        "\n",
        "# View the updated dataset\n",
        "head(model_data)\n"
      ],
      "metadata": {
        "colab": {
          "base_uri": "https://localhost:8080/",
          "height": 410
        },
        "id": "AJ2wu7RXKSRJ",
        "outputId": "bce1d576-533b-4e1d-e1dc-830ef62dd076"
      },
      "execution_count": 104,
      "outputs": [
        {
          "output_type": "display_data",
          "data": {
            "text/html": [
              "<table class=\"dataframe\">\n",
              "<caption>A data.frame: 6 × 31</caption>\n",
              "<thead>\n",
              "\t<tr><th></th><th scope=col>file</th><th scope=col>age</th><th scope=col>gender</th><th scope=col>race</th><th scope=col>service_test</th><th scope=col>image_path</th><th scope=col>angry</th><th scope=col>disgust</th><th scope=col>fear</th><th scope=col>happy</th><th scope=col>⋯</th><th scope=col>pred_sad</th><th scope=col>pred_surprise</th><th scope=col>pred_dominant_emotion</th><th scope=col>true_angry</th><th scope=col>true_disgust</th><th scope=col>true_fear</th><th scope=col>true_happy</th><th scope=col>true_neutral</th><th scope=col>true_sad</th><th scope=col>true_surprise</th></tr>\n",
              "\t<tr><th></th><th scope=col>&lt;chr&gt;</th><th scope=col>&lt;chr&gt;</th><th scope=col>&lt;chr&gt;</th><th scope=col>&lt;chr&gt;</th><th scope=col>&lt;lgl&gt;</th><th scope=col>&lt;chr&gt;</th><th scope=col>&lt;dbl&gt;</th><th scope=col>&lt;dbl&gt;</th><th scope=col>&lt;dbl&gt;</th><th scope=col>&lt;dbl&gt;</th><th scope=col>⋯</th><th scope=col>&lt;dbl&gt;</th><th scope=col>&lt;dbl&gt;</th><th scope=col>&lt;chr&gt;</th><th scope=col>&lt;int&gt;</th><th scope=col>&lt;int&gt;</th><th scope=col>&lt;int&gt;</th><th scope=col>&lt;int&gt;</th><th scope=col>&lt;int&gt;</th><th scope=col>&lt;int&gt;</th><th scope=col>&lt;int&gt;</th></tr>\n",
              "</thead>\n",
              "<tbody>\n",
              "\t<tr><th scope=row>neutral</th><td>val/1269.jpg </td><td>20-29</td><td>Female</td><td>East Asian     </td><td>FALSE</td><td>/content/drive/MyDrive/Colab Notebooks/Implementation_of_AI_Project/Dataset/FairFace/val/1269.jpg </td><td> 4.1539691</td><td>0.0005425039</td><td>1.656175e+00</td><td>8.754689e-02</td><td>⋯</td><td>0.2085685</td><td>0.009011921</td><td>neutral</td><td>0</td><td>0</td><td>0</td><td>0</td><td>1</td><td>0</td><td>0</td></tr>\n",
              "\t<tr><th scope=row>fear</th><td>val/8609.jpg </td><td>20-29</td><td>Male  </td><td>Southeast Asian</td><td> TRUE</td><td>/content/drive/MyDrive/Colab Notebooks/Implementation_of_AI_Project/Dataset/FairFace/val/8609.jpg </td><td> 7.6796679</td><td>0.3187014807</td><td>5.887059e+01</td><td>4.713769e-02</td><td>⋯</td><td>0.4024809</td><td>0.008957511</td><td>sad    </td><td>0</td><td>0</td><td>1</td><td>0</td><td>0</td><td>0</td><td>0</td></tr>\n",
              "\t<tr><th scope=row>neutral.1</th><td>val/10024.jpg</td><td>20-29</td><td>Male  </td><td>Black          </td><td>FALSE</td><td>/content/drive/MyDrive/Colab Notebooks/Implementation_of_AI_Project/Dataset/FairFace/val/10024.jpg</td><td> 0.1374362</td><td>0.0000000171</td><td>2.352087e-03</td><td>9.478812e-01</td><td>⋯</td><td>0.1592955</td><td>0.002513579</td><td>neutral</td><td>0</td><td>0</td><td>0</td><td>0</td><td>1</td><td>0</td><td>0</td></tr>\n",
              "\t<tr><th scope=row>angry</th><td>val/1695.jpg </td><td>20-29</td><td>Male  </td><td>Southeast Asian</td><td> TRUE</td><td>/content/drive/MyDrive/Colab Notebooks/Implementation_of_AI_Project/Dataset/FairFace/val/1695.jpg </td><td>69.0098345</td><td>0.0000000077</td><td>7.946858e-02</td><td>3.359739e-04</td><td>⋯</td><td>0.4053957</td><td>0.002230090</td><td>sad    </td><td>1</td><td>0</td><td>0</td><td>0</td><td>0</td><td>0</td><td>0</td></tr>\n",
              "\t<tr><th scope=row>sad</th><td>val/8219.jpg </td><td>20-29</td><td>Male  </td><td>Middle Eastern </td><td> TRUE</td><td>/content/drive/MyDrive/Colab Notebooks/Implementation_of_AI_Project/Dataset/FairFace/val/8219.jpg </td><td> 4.9099679</td><td>0.0112926099</td><td>6.545527e+00</td><td>1.588660e+00</td><td>⋯</td><td>0.2478852</td><td>0.025543863</td><td>neutral</td><td>0</td><td>0</td><td>0</td><td>0</td><td>0</td><td>1</td><td>0</td></tr>\n",
              "\t<tr><th scope=row>happy</th><td>val/3903.jpg </td><td>10-19</td><td>Male  </td><td>White          </td><td> TRUE</td><td>/content/drive/MyDrive/Colab Notebooks/Implementation_of_AI_Project/Dataset/FairFace/val/3903.jpg </td><td> 0.0000269</td><td>0.0000004570</td><td>2.348464e-04</td><td>9.999740e+01</td><td>⋯</td><td>0.2112593</td><td>0.012683422</td><td>angry  </td><td>0</td><td>0</td><td>0</td><td>1</td><td>0</td><td>0</td><td>0</td></tr>\n",
              "</tbody>\n",
              "</table>\n"
            ],
            "text/markdown": "\nA data.frame: 6 × 31\n\n| <!--/--> | file &lt;chr&gt; | age &lt;chr&gt; | gender &lt;chr&gt; | race &lt;chr&gt; | service_test &lt;lgl&gt; | image_path &lt;chr&gt; | angry &lt;dbl&gt; | disgust &lt;dbl&gt; | fear &lt;dbl&gt; | happy &lt;dbl&gt; | ⋯ ⋯ | pred_sad &lt;dbl&gt; | pred_surprise &lt;dbl&gt; | pred_dominant_emotion &lt;chr&gt; | true_angry &lt;int&gt; | true_disgust &lt;int&gt; | true_fear &lt;int&gt; | true_happy &lt;int&gt; | true_neutral &lt;int&gt; | true_sad &lt;int&gt; | true_surprise &lt;int&gt; |\n|---|---|---|---|---|---|---|---|---|---|---|---|---|---|---|---|---|---|---|---|---|---|\n| neutral | val/1269.jpg  | 20-29 | Female | East Asian      | FALSE | /content/drive/MyDrive/Colab Notebooks/Implementation_of_AI_Project/Dataset/FairFace/val/1269.jpg  |  4.1539691 | 0.0005425039 | 1.656175e+00 | 8.754689e-02 | ⋯ | 0.2085685 | 0.009011921 | neutral | 0 | 0 | 0 | 0 | 1 | 0 | 0 |\n| fear | val/8609.jpg  | 20-29 | Male   | Southeast Asian |  TRUE | /content/drive/MyDrive/Colab Notebooks/Implementation_of_AI_Project/Dataset/FairFace/val/8609.jpg  |  7.6796679 | 0.3187014807 | 5.887059e+01 | 4.713769e-02 | ⋯ | 0.4024809 | 0.008957511 | sad     | 0 | 0 | 1 | 0 | 0 | 0 | 0 |\n| neutral.1 | val/10024.jpg | 20-29 | Male   | Black           | FALSE | /content/drive/MyDrive/Colab Notebooks/Implementation_of_AI_Project/Dataset/FairFace/val/10024.jpg |  0.1374362 | 0.0000000171 | 2.352087e-03 | 9.478812e-01 | ⋯ | 0.1592955 | 0.002513579 | neutral | 0 | 0 | 0 | 0 | 1 | 0 | 0 |\n| angry | val/1695.jpg  | 20-29 | Male   | Southeast Asian |  TRUE | /content/drive/MyDrive/Colab Notebooks/Implementation_of_AI_Project/Dataset/FairFace/val/1695.jpg  | 69.0098345 | 0.0000000077 | 7.946858e-02 | 3.359739e-04 | ⋯ | 0.4053957 | 0.002230090 | sad     | 1 | 0 | 0 | 0 | 0 | 0 | 0 |\n| sad | val/8219.jpg  | 20-29 | Male   | Middle Eastern  |  TRUE | /content/drive/MyDrive/Colab Notebooks/Implementation_of_AI_Project/Dataset/FairFace/val/8219.jpg  |  4.9099679 | 0.0112926099 | 6.545527e+00 | 1.588660e+00 | ⋯ | 0.2478852 | 0.025543863 | neutral | 0 | 0 | 0 | 0 | 0 | 1 | 0 |\n| happy | val/3903.jpg  | 10-19 | Male   | White           |  TRUE | /content/drive/MyDrive/Colab Notebooks/Implementation_of_AI_Project/Dataset/FairFace/val/3903.jpg  |  0.0000269 | 0.0000004570 | 2.348464e-04 | 9.999740e+01 | ⋯ | 0.2112593 | 0.012683422 | angry   | 0 | 0 | 0 | 1 | 0 | 0 | 0 |\n\n",
            "text/latex": "A data.frame: 6 × 31\n\\begin{tabular}{r|lllllllllllllllllllll}\n  & file & age & gender & race & service\\_test & image\\_path & angry & disgust & fear & happy & ⋯ & pred\\_sad & pred\\_surprise & pred\\_dominant\\_emotion & true\\_angry & true\\_disgust & true\\_fear & true\\_happy & true\\_neutral & true\\_sad & true\\_surprise\\\\\n  & <chr> & <chr> & <chr> & <chr> & <lgl> & <chr> & <dbl> & <dbl> & <dbl> & <dbl> & ⋯ & <dbl> & <dbl> & <chr> & <int> & <int> & <int> & <int> & <int> & <int> & <int>\\\\\n\\hline\n\tneutral & val/1269.jpg  & 20-29 & Female & East Asian      & FALSE & /content/drive/MyDrive/Colab Notebooks/Implementation\\_of\\_AI\\_Project/Dataset/FairFace/val/1269.jpg  &  4.1539691 & 0.0005425039 & 1.656175e+00 & 8.754689e-02 & ⋯ & 0.2085685 & 0.009011921 & neutral & 0 & 0 & 0 & 0 & 1 & 0 & 0\\\\\n\tfear & val/8609.jpg  & 20-29 & Male   & Southeast Asian &  TRUE & /content/drive/MyDrive/Colab Notebooks/Implementation\\_of\\_AI\\_Project/Dataset/FairFace/val/8609.jpg  &  7.6796679 & 0.3187014807 & 5.887059e+01 & 4.713769e-02 & ⋯ & 0.4024809 & 0.008957511 & sad     & 0 & 0 & 1 & 0 & 0 & 0 & 0\\\\\n\tneutral.1 & val/10024.jpg & 20-29 & Male   & Black           & FALSE & /content/drive/MyDrive/Colab Notebooks/Implementation\\_of\\_AI\\_Project/Dataset/FairFace/val/10024.jpg &  0.1374362 & 0.0000000171 & 2.352087e-03 & 9.478812e-01 & ⋯ & 0.1592955 & 0.002513579 & neutral & 0 & 0 & 0 & 0 & 1 & 0 & 0\\\\\n\tangry & val/1695.jpg  & 20-29 & Male   & Southeast Asian &  TRUE & /content/drive/MyDrive/Colab Notebooks/Implementation\\_of\\_AI\\_Project/Dataset/FairFace/val/1695.jpg  & 69.0098345 & 0.0000000077 & 7.946858e-02 & 3.359739e-04 & ⋯ & 0.4053957 & 0.002230090 & sad     & 1 & 0 & 0 & 0 & 0 & 0 & 0\\\\\n\tsad & val/8219.jpg  & 20-29 & Male   & Middle Eastern  &  TRUE & /content/drive/MyDrive/Colab Notebooks/Implementation\\_of\\_AI\\_Project/Dataset/FairFace/val/8219.jpg  &  4.9099679 & 0.0112926099 & 6.545527e+00 & 1.588660e+00 & ⋯ & 0.2478852 & 0.025543863 & neutral & 0 & 0 & 0 & 0 & 0 & 1 & 0\\\\\n\thappy & val/3903.jpg  & 10-19 & Male   & White           &  TRUE & /content/drive/MyDrive/Colab Notebooks/Implementation\\_of\\_AI\\_Project/Dataset/FairFace/val/3903.jpg  &  0.0000269 & 0.0000004570 & 2.348464e-04 & 9.999740e+01 & ⋯ & 0.2112593 & 0.012683422 & angry   & 0 & 0 & 0 & 1 & 0 & 0 & 0\\\\\n\\end{tabular}\n",
            "text/plain": [
              "          file          age   gender race            service_test\n",
              "neutral   val/1269.jpg  20-29 Female East Asian      FALSE       \n",
              "fear      val/8609.jpg  20-29 Male   Southeast Asian  TRUE       \n",
              "neutral.1 val/10024.jpg 20-29 Male   Black           FALSE       \n",
              "angry     val/1695.jpg  20-29 Male   Southeast Asian  TRUE       \n",
              "sad       val/8219.jpg  20-29 Male   Middle Eastern   TRUE       \n",
              "happy     val/3903.jpg  10-19 Male   White            TRUE       \n",
              "          image_path                                                                                        \n",
              "neutral   /content/drive/MyDrive/Colab Notebooks/Implementation_of_AI_Project/Dataset/FairFace/val/1269.jpg \n",
              "fear      /content/drive/MyDrive/Colab Notebooks/Implementation_of_AI_Project/Dataset/FairFace/val/8609.jpg \n",
              "neutral.1 /content/drive/MyDrive/Colab Notebooks/Implementation_of_AI_Project/Dataset/FairFace/val/10024.jpg\n",
              "angry     /content/drive/MyDrive/Colab Notebooks/Implementation_of_AI_Project/Dataset/FairFace/val/1695.jpg \n",
              "sad       /content/drive/MyDrive/Colab Notebooks/Implementation_of_AI_Project/Dataset/FairFace/val/8219.jpg \n",
              "happy     /content/drive/MyDrive/Colab Notebooks/Implementation_of_AI_Project/Dataset/FairFace/val/3903.jpg \n",
              "          angry      disgust      fear         happy        ⋯ pred_sad \n",
              "neutral    4.1539691 0.0005425039 1.656175e+00 8.754689e-02 ⋯ 0.2085685\n",
              "fear       7.6796679 0.3187014807 5.887059e+01 4.713769e-02 ⋯ 0.4024809\n",
              "neutral.1  0.1374362 0.0000000171 2.352087e-03 9.478812e-01 ⋯ 0.1592955\n",
              "angry     69.0098345 0.0000000077 7.946858e-02 3.359739e-04 ⋯ 0.4053957\n",
              "sad        4.9099679 0.0112926099 6.545527e+00 1.588660e+00 ⋯ 0.2478852\n",
              "happy      0.0000269 0.0000004570 2.348464e-04 9.999740e+01 ⋯ 0.2112593\n",
              "          pred_surprise pred_dominant_emotion true_angry true_disgust true_fear\n",
              "neutral   0.009011921   neutral               0          0            0        \n",
              "fear      0.008957511   sad                   0          0            1        \n",
              "neutral.1 0.002513579   neutral               0          0            0        \n",
              "angry     0.002230090   sad                   1          0            0        \n",
              "sad       0.025543863   neutral               0          0            0        \n",
              "happy     0.012683422   angry                 0          0            0        \n",
              "          true_happy true_neutral true_sad true_surprise\n",
              "neutral   0          1            0        0            \n",
              "fear      0          0            0        0            \n",
              "neutral.1 0          1            0        0            \n",
              "angry     0          0            0        0            \n",
              "sad       0          0            1        0            \n",
              "happy     1          0            0        0            "
            ]
          },
          "metadata": {}
        }
      ]
    },
    {
      "cell_type": "code",
      "source": [
        "str(model_data)"
      ],
      "metadata": {
        "colab": {
          "base_uri": "https://localhost:8080/"
        },
        "id": "OJs9F6uhQP_y",
        "outputId": "482b3b1d-9525-4835-851e-1836c8077ac6"
      },
      "execution_count": 105,
      "outputs": [
        {
          "output_type": "stream",
          "name": "stdout",
          "text": [
            "'data.frame':\t5477 obs. of  31 variables:\n",
            " $ file                 : chr  \"val/1269.jpg\" \"val/8609.jpg\" \"val/10024.jpg\" \"val/1695.jpg\" ...\n",
            " $ age                  : chr  \"20-29\" \"20-29\" \"20-29\" \"20-29\" ...\n",
            " $ gender               : chr  \"Female\" \"Male\" \"Male\" \"Male\" ...\n",
            " $ race                 : chr  \"East Asian\" \"Southeast Asian\" \"Black\" \"Southeast Asian\" ...\n",
            " $ service_test         : logi  FALSE TRUE FALSE TRUE TRUE TRUE ...\n",
            " $ image_path           : chr  \"/content/drive/MyDrive/Colab Notebooks/Implementation_of_AI_Project/Dataset/FairFace/val/1269.jpg\" \"/content/drive/MyDrive/Colab Notebooks/Implementation_of_AI_Project/Dataset/FairFace/val/8609.jpg\" \"/content/drive/MyDrive/Colab Notebooks/Implementation_of_AI_Project/Dataset/FairFace/val/10024.jpg\" \"/content/drive/MyDrive/Colab Notebooks/Implementation_of_AI_Project/Dataset/FairFace/val/1695.jpg\" ...\n",
            " $ angry                : num  4.154 7.68 0.137 69.01 4.91 ...\n",
            " $ disgust              : num  5.43e-04 3.19e-01 1.71e-08 7.70e-09 1.13e-02 ...\n",
            " $ fear                 : num  1.65618 58.87059 0.00235 0.07947 6.54553 ...\n",
            " $ happy                : num  0.087547 0.047138 0.947881 0.000336 1.58866 ...\n",
            " $ sad                  : num  9.67 23.22 42.35 20.87 82.37 ...\n",
            " $ surprise             : num  6.37e-03 4.20e-01 1.61e-05 2.46e-08 3.63e-02 ...\n",
            " $ neutral              : num  84.42 9.44 56.57 10.04 4.54 ...\n",
            " $ dominant_emotion     : chr  \"neutral\" \"fear\" \"neutral\" \"angry\" ...\n",
            " $ set                  : chr  \"val\" \"val\" \"val\" \"val\" ...\n",
            " $ emotion_encoded      : int  4 2 4 0 5 3 3 3 3 4 ...\n",
            " $ pred_angry           : num  0.0351 0.0962 0.0427 0.2117 0.1136 ...\n",
            " $ pred_disgust         : num  0.002286 0.003617 0.000743 0.001598 0.006284 ...\n",
            " $ pred_fear            : num  0.0828 0.0892 0.0134 0.0262 0.1454 ...\n",
            " $ pred_happy           : num  0.0948 0.0149 0.0273 0.0244 0.1231 ...\n",
            " $ pred_neutral         : num  0.567 0.385 0.754 0.328 0.338 ...\n",
            " $ pred_sad             : num  0.209 0.402 0.159 0.405 0.248 ...\n",
            " $ pred_surprise        : num  0.00901 0.00896 0.00251 0.00223 0.02554 ...\n",
            " $ pred_dominant_emotion: chr  \"neutral\" \"sad\" \"neutral\" \"sad\" ...\n",
            " $ true_angry           : int  0 0 0 1 0 0 0 0 0 0 ...\n",
            " $ true_disgust         : int  0 0 0 0 0 0 0 0 0 0 ...\n",
            " $ true_fear            : int  0 1 0 0 0 0 0 0 0 0 ...\n",
            " $ true_happy           : int  0 0 0 0 0 1 1 1 1 0 ...\n",
            " $ true_neutral         : int  1 0 1 0 0 0 0 0 0 1 ...\n",
            " $ true_sad             : int  0 0 0 0 1 0 0 0 0 0 ...\n",
            " $ true_surprise        : int  0 0 0 0 0 0 0 0 0 0 ...\n"
          ]
        }
      ]
    },
    {
      "cell_type": "code",
      "source": [
        "# Save the dataset as a CSV file in the local environment\n",
        "write.csv(model_data, \"binarized_test__predicted_data.csv\", row.names = FALSE)\n",
        "\n",
        "# Upload the file to Google Drive\n",
        "drive_upload(\n",
        "  media = \"binarized_test__predicted_data.csv\",\n",
        "  path = \"binarized_test__predicted_data.csv\"\n",
        ")\n",
        "\n",
        "# Confirm upload\n",
        "cat(\"File has been saved and uploaded to Google Drive!\")"
      ],
      "metadata": {
        "colab": {
          "base_uri": "https://localhost:8080/"
        },
        "id": "Fl8g8cWbHba-",
        "outputId": "47b68e67-195b-4892-bf5d-bfa21ea665b7"
      },
      "execution_count": 106,
      "outputs": [
        {
          "output_type": "stream",
          "name": "stderr",
          "text": [
            "Local file:\n",
            "\n",
            "• \u001b[34mbinarized_test__predicted_data.csv\u001b[39m\n",
            "\n",
            "Uploaded into Drive file:\n",
            "\n",
            "• \u001b[36mbinarized_test__predicted_data.csv\u001b[39m \u001b[90m<id: 1KHYUwbZLr7eDGOdXTD-qQRsEiUA6ObrL>\u001b[39m\n",
            "\n",
            "With MIME type:\n",
            "\n",
            "• \u001b[32mtext/csv\u001b[39m\n",
            "\n"
          ]
        },
        {
          "output_type": "stream",
          "name": "stdout",
          "text": [
            "File has been saved and uploaded to Google Drive!"
          ]
        }
      ]
    },
    {
      "cell_type": "code",
      "source": [
        "names(model_data)"
      ],
      "metadata": {
        "colab": {
          "base_uri": "https://localhost:8080/",
          "height": 52
        },
        "id": "ta1zRvMaoDG1",
        "outputId": "5057c990-1bb0-4379-f1f7-273692891795"
      },
      "execution_count": 107,
      "outputs": [
        {
          "output_type": "display_data",
          "data": {
            "text/html": [
              "<style>\n",
              ".list-inline {list-style: none; margin:0; padding: 0}\n",
              ".list-inline>li {display: inline-block}\n",
              ".list-inline>li:not(:last-child)::after {content: \"\\00b7\"; padding: 0 .5ex}\n",
              "</style>\n",
              "<ol class=list-inline><li>'file'</li><li>'age'</li><li>'gender'</li><li>'race'</li><li>'service_test'</li><li>'image_path'</li><li>'angry'</li><li>'disgust'</li><li>'fear'</li><li>'happy'</li><li>'sad'</li><li>'surprise'</li><li>'neutral'</li><li>'dominant_emotion'</li><li>'set'</li><li>'emotion_encoded'</li><li>'pred_angry'</li><li>'pred_disgust'</li><li>'pred_fear'</li><li>'pred_happy'</li><li>'pred_neutral'</li><li>'pred_sad'</li><li>'pred_surprise'</li><li>'pred_dominant_emotion'</li><li>'true_angry'</li><li>'true_disgust'</li><li>'true_fear'</li><li>'true_happy'</li><li>'true_neutral'</li><li>'true_sad'</li><li>'true_surprise'</li></ol>\n"
            ],
            "text/markdown": "1. 'file'\n2. 'age'\n3. 'gender'\n4. 'race'\n5. 'service_test'\n6. 'image_path'\n7. 'angry'\n8. 'disgust'\n9. 'fear'\n10. 'happy'\n11. 'sad'\n12. 'surprise'\n13. 'neutral'\n14. 'dominant_emotion'\n15. 'set'\n16. 'emotion_encoded'\n17. 'pred_angry'\n18. 'pred_disgust'\n19. 'pred_fear'\n20. 'pred_happy'\n21. 'pred_neutral'\n22. 'pred_sad'\n23. 'pred_surprise'\n24. 'pred_dominant_emotion'\n25. 'true_angry'\n26. 'true_disgust'\n27. 'true_fear'\n28. 'true_happy'\n29. 'true_neutral'\n30. 'true_sad'\n31. 'true_surprise'\n\n\n",
            "text/latex": "\\begin{enumerate*}\n\\item 'file'\n\\item 'age'\n\\item 'gender'\n\\item 'race'\n\\item 'service\\_test'\n\\item 'image\\_path'\n\\item 'angry'\n\\item 'disgust'\n\\item 'fear'\n\\item 'happy'\n\\item 'sad'\n\\item 'surprise'\n\\item 'neutral'\n\\item 'dominant\\_emotion'\n\\item 'set'\n\\item 'emotion\\_encoded'\n\\item 'pred\\_angry'\n\\item 'pred\\_disgust'\n\\item 'pred\\_fear'\n\\item 'pred\\_happy'\n\\item 'pred\\_neutral'\n\\item 'pred\\_sad'\n\\item 'pred\\_surprise'\n\\item 'pred\\_dominant\\_emotion'\n\\item 'true\\_angry'\n\\item 'true\\_disgust'\n\\item 'true\\_fear'\n\\item 'true\\_happy'\n\\item 'true\\_neutral'\n\\item 'true\\_sad'\n\\item 'true\\_surprise'\n\\end{enumerate*}\n",
            "text/plain": [
              " [1] \"file\"                  \"age\"                   \"gender\"               \n",
              " [4] \"race\"                  \"service_test\"          \"image_path\"           \n",
              " [7] \"angry\"                 \"disgust\"               \"fear\"                 \n",
              "[10] \"happy\"                 \"sad\"                   \"surprise\"             \n",
              "[13] \"neutral\"               \"dominant_emotion\"      \"set\"                  \n",
              "[16] \"emotion_encoded\"       \"pred_angry\"            \"pred_disgust\"         \n",
              "[19] \"pred_fear\"             \"pred_happy\"            \"pred_neutral\"         \n",
              "[22] \"pred_sad\"              \"pred_surprise\"         \"pred_dominant_emotion\"\n",
              "[25] \"true_angry\"            \"true_disgust\"          \"true_fear\"            \n",
              "[28] \"true_happy\"            \"true_neutral\"          \"true_sad\"             \n",
              "[31] \"true_surprise\"        "
            ]
          },
          "metadata": {}
        }
      ]
    },
    {
      "cell_type": "markdown",
      "source": [
        "### Visualize the Data"
      ],
      "metadata": {
        "id": "VkrN2FTpu5ly"
      }
    },
    {
      "cell_type": "code",
      "source": [
        "# Define the list of emotions\n",
        "emotions <- c(\"angry\", \"disgust\", \"fear\", \"happy\", \"neutral\", \"sad\", \"surprise\")\n",
        "\n",
        "# Step 2: Create a new column 'True_Emotion' by finding which 'true_*' column is 1\n",
        "model_data$True_Emotion <- apply(model_data[, paste0('true_', emotions)], 1, function(x) emotions[which(x == 1)])\n",
        "\n",
        "# Step 3: Compare 'pred_dominant_emotion' with 'True_Emotion' to check if the prediction is correct\n",
        "model_data$Prediction_Correct <- model_data$pred_dominant_emotion == model_data$True_Emotion\n",
        "\n",
        "# Step 4: Convert logical values to 'True' and 'False' labels for clarity\n",
        "model_data$Prediction_Correct_Label <- ifelse(model_data$Prediction_Correct, 'True', 'False')\n",
        "\n",
        "# Step 5: Aggregate the counts based on 'gender', 'True_Emotion', and 'Prediction_Correct_Label'\n",
        "summary_table <- model_data %>%\n",
        "  group_by(True_Emotion,gender, Prediction_Correct_Label) %>%\n",
        "  summarise(Count = n(), .groups = 'drop') %>%\n",
        "  pivot_wider(names_from = Prediction_Correct_Label, values_from = Count, values_fill = 0)\n",
        "\n",
        "# Assuming 'summary_table' is your data frame\n",
        "# Add a new column for accuracy\n",
        "summary_table <- summary_table %>%\n",
        "  mutate(\n",
        "    Total = True + False,\n",
        "    Accuracy = (True / Total) * 100\n",
        "  )\n",
        "\n",
        "# Display the updated table\n",
        "print(summary_table)"
      ],
      "metadata": {
        "colab": {
          "base_uri": "https://localhost:8080/"
        },
        "id": "PtuOzBnbdCUG",
        "outputId": "ecc92f82-da8b-4316-b9a8-8a65665b6ad2"
      },
      "execution_count": 108,
      "outputs": [
        {
          "output_type": "stream",
          "name": "stdout",
          "text": [
            "\u001b[90m# A tibble: 14 × 6\u001b[39m\n",
            "   True_Emotion gender False  True Total Accuracy\n",
            "   \u001b[3m\u001b[90m<chr>\u001b[39m\u001b[23m        \u001b[3m\u001b[90m<chr>\u001b[39m\u001b[23m  \u001b[3m\u001b[90m<int>\u001b[39m\u001b[23m \u001b[3m\u001b[90m<int>\u001b[39m\u001b[23m \u001b[3m\u001b[90m<int>\u001b[39m\u001b[23m    \u001b[3m\u001b[90m<dbl>\u001b[39m\u001b[23m\n",
            "\u001b[90m 1\u001b[39m angry        Female   167     9   176     5.11\n",
            "\u001b[90m 2\u001b[39m angry        Male     264    42   306    13.7 \n",
            "\u001b[90m 3\u001b[39m disgust      Female     5     0     5     0   \n",
            "\u001b[90m 4\u001b[39m disgust      Male       8     0     8     0   \n",
            "\u001b[90m 5\u001b[39m fear         Female   232    48   280    17.1 \n",
            "\u001b[90m 6\u001b[39m fear         Male     227    55   282    19.5 \n",
            "\u001b[90m 7\u001b[39m happy        Female   140   864  \u001b[4m1\u001b[24m004    86.1 \n",
            "\u001b[90m 8\u001b[39m happy        Male     161   501   662    75.7 \n",
            "\u001b[90m 9\u001b[39m neutral      Female   210   425   635    66.9 \n",
            "\u001b[90m10\u001b[39m neutral      Male     244   738   982    75.2 \n",
            "\u001b[90m11\u001b[39m sad          Female   244   231   475    48.6 \n",
            "\u001b[90m12\u001b[39m sad          Male     304   276   580    47.6 \n",
            "\u001b[90m13\u001b[39m surprise     Female    33     1    34     2.94\n",
            "\u001b[90m14\u001b[39m surprise     Male      46     2    48     4.17\n"
          ]
        }
      ]
    },
    {
      "cell_type": "code",
      "source": [
        "library(ggplot2)\n",
        "\n",
        "# Prepare data for plotting\n",
        "accuracy_plot_data <- summary_table %>%\n",
        "  select(True_Emotion, gender, Accuracy)\n",
        "\n",
        "# Plot\n",
        "ggplot(accuracy_plot_data, aes(x = True_Emotion, y = Accuracy, fill = gender)) +\n",
        "  geom_bar(stat = 'identity', position = 'dodge') +\n",
        "  labs(title = 'Classification Accuracy by Emotion and Gender',\n",
        "       x = 'Emotion',\n",
        "       y = 'Accuracy (%)') +\n",
        "  theme_minimal()\n"
      ],
      "metadata": {
        "colab": {
          "base_uri": "https://localhost:8080/",
          "height": 437
        },
        "id": "FkQ6w_jXsKt1",
        "outputId": "dba2a689-9718-44c1-c1ec-5ff49caeca7a"
      },
      "execution_count": 109,
      "outputs": [
        {
          "output_type": "display_data",
          "data": {
            "text/plain": [
              "plot without title"
            ],
            "image/png": "[encoded data removed]"
          },
          "metadata": {
            "image/png": {
              "width": 420,
              "height": 420
            }
          }
        }
      ]
    },
    {
      "cell_type": "code",
      "source": [
        "# Function to perform proportion test for each emotion\n",
        "# Proportion test between groups focus on comparing group-level outcomes (male vs female accuracy) fo each emotion categories\n",
        "\n",
        "# But SEM Model explores relationships between variables, include direct, indirect, and mediated effect to account for complex interrelationships between predictors and outcomes\n",
        "# Determining how gender and true emotion collectively affect predicted probabilities and uncovering latent biases in the model.\n",
        "perform_proportion_test <- function(data, emotion) {\n",
        "  subset_data <- data %>% filter(True_Emotion == emotion)\n",
        "\n",
        "  female_true <- subset_data %>% filter(gender == 'Female') %>% pull(True)\n",
        "  female_total <- subset_data %>% filter(gender == 'Female') %>% summarise(Total = sum(True + False)) %>% pull(Total)\n",
        "\n",
        "  male_true <- subset_data %>% filter(gender == 'Male') %>% pull(True)\n",
        "  male_total <- subset_data %>% filter(gender == 'Male') %>% summarise(Total = sum(True + False)) %>% pull(Total)\n",
        "\n",
        "  test_result <- prop.test(\n",
        "    x = c(female_true, male_true),\n",
        "    n = c(female_total, male_total),\n",
        "    alternative = \"two.sided\",\n",
        "    correct = FALSE\n",
        "  )\n",
        "\n",
        "  return(data.frame(\n",
        "    Emotion = emotion,\n",
        "    Female_Accuracy = (female_true / female_total) * 100,\n",
        "    Male_Accuracy = (male_true / male_total) * 100,\n",
        "    p_value = test_result$p.value\n",
        "  ))\n",
        "}\n",
        "\n",
        "# Perform the test for each emotion\n",
        "emotions_list <- unique(summary_table$True_Emotion)\n",
        "test_results <- do.call(rbind, lapply(emotions_list, function(e) perform_proportion_test(summary_table, e)))\n",
        "\n",
        "# Display the test results\n",
        "print(test_results)\n"
      ],
      "metadata": {
        "colab": {
          "base_uri": "https://localhost:8080/"
        },
        "id": "wSwvAFTUti4f",
        "outputId": "04c0be8f-54f7-49d9-e9cb-b68486ab13fa"
      },
      "execution_count": 110,
      "outputs": [
        {
          "output_type": "stream",
          "name": "stderr",
          "text": [
            "Warning message in prop.test(x = c(female_true, male_true), n = c(female_total, :\n",
            "“Chi-squared approximation may be incorrect”\n",
            "Warning message in prop.test(x = c(female_true, male_true), n = c(female_total, :\n",
            "“Chi-squared approximation may be incorrect”\n"
          ]
        },
        {
          "output_type": "stream",
          "name": "stdout",
          "text": [
            "   Emotion Female_Accuracy Male_Accuracy      p_value\n",
            "1    angry        5.113636     13.725490 3.081718e-03\n",
            "2  disgust        0.000000      0.000000          NaN\n",
            "3     fear       17.142857     19.503546 4.695293e-01\n",
            "4    happy       86.055777     75.679758 7.180403e-08\n",
            "5  neutral       66.929134     75.152749 3.260067e-04\n",
            "6      sad       48.631579     47.586207 7.352770e-01\n",
            "7 surprise        2.941176      4.166667 7.708926e-01\n"
          ]
        }
      ]
    },
    {
      "cell_type": "code",
      "source": [
        "# Aggregate the total True and False counts for each gender\n",
        "# Overall Accuracy\n",
        "overall_accuracy <- model_data %>%\n",
        "  group_by(gender) %>%\n",
        "  summarise(\n",
        "    Total_True = sum(Prediction_Correct),\n",
        "    Total_Count = n()\n",
        "  ) %>%\n",
        "  mutate(\n",
        "    Accuracy = (Total_True / Total_Count) * 100\n",
        "  )\n",
        "\n",
        "# Display the overall accuracy table\n",
        "print(overall_accuracy)"
      ],
      "metadata": {
        "colab": {
          "base_uri": "https://localhost:8080/"
        },
        "id": "xAiIJsYOwS7z",
        "outputId": "ed3cdd41-0704-4540-9af9-af3b1053d598"
      },
      "execution_count": 111,
      "outputs": [
        {
          "output_type": "stream",
          "name": "stdout",
          "text": [
            "\u001b[90m# A tibble: 2 × 4\u001b[39m\n",
            "  gender Total_True Total_Count Accuracy\n",
            "  \u001b[3m\u001b[90m<chr>\u001b[39m\u001b[23m       \u001b[3m\u001b[90m<int>\u001b[39m\u001b[23m       \u001b[3m\u001b[90m<int>\u001b[39m\u001b[23m    \u001b[3m\u001b[90m<dbl>\u001b[39m\u001b[23m\n",
            "\u001b[90m1\u001b[39m Female       \u001b[4m1\u001b[24m578        \u001b[4m2\u001b[24m609     60.5\n",
            "\u001b[90m2\u001b[39m Male         \u001b[4m1\u001b[24m614        \u001b[4m2\u001b[24m868     56.3\n"
          ]
        }
      ]
    },
    {
      "cell_type": "code",
      "source": [
        "# # Extract counts for the test\n",
        "# female_correct <- overall_accuracy %>% filter(gender == 'Female') %>% pull(Total_True)\n",
        "# female_total <- overall_accuracy %>% filter(gender == 'Female') %>% pull(Total_Count)\n",
        "\n",
        "# male_correct <- overall_accuracy %>% filter(gender == 'Male') %>% pull(Total_True)\n",
        "# male_total <- overall_accuracy %>% filter(gender == 'Male') %>% pull(Total_Count)\n",
        "\n",
        "# # Perform a proportion test\n",
        "# prop_test_result <- prop.test(\n",
        "#   x = c(female_correct, male_correct),\n",
        "#   n = c(female_total, male_total),\n",
        "#   alternative = \"two.sided\",\n",
        "#   correct = FALSE\n",
        "# )\n",
        "\n",
        "# # Display the test results\n",
        "# print(prop_test_result)\n"
      ],
      "metadata": {
        "id": "sxzsiXLvwYNp"
      },
      "execution_count": 112,
      "outputs": []
    },
    {
      "cell_type": "markdown",
      "source": [
        "Convert Gender into Binary Encoding (Male: 1, Female: 0)"
      ],
      "metadata": {
        "id": "duxJedaet194"
      }
    },
    {
      "cell_type": "code",
      "source": [
        "# Convert 'gender' to numeric (0 for Female, 1 for Male)\n",
        "model_data$Gender_Binary <- ifelse(model_data$gender == \"Male\", 1, 0)"
      ],
      "metadata": {
        "id": "RsUP9AXW1PVq"
      },
      "execution_count": 113,
      "outputs": []
    },
    {
      "cell_type": "code",
      "source": [
        "# Anger\n",
        "sem_model_angry <- '\n",
        "  # Regression equations\n",
        "  pred_angry ~ 1 + true_angry + Gender_Binary\n",
        "  true_angry ~ 1 + Gender_Binary\n",
        "'\n",
        "\n",
        "# Happy\n",
        "sem_model_happy <- '\n",
        "  # Regression equations\n",
        "  pred_happy ~ 1 + true_happy + Gender_Binary\n",
        "  true_happy ~ 1 + Gender_Binary\n",
        "'\n",
        "\n",
        "# Sad\n",
        "sem_model_sad <- '\n",
        "  # Regression equations\n",
        "  pred_sad ~ 1 + true_sad + Gender_Binary\n",
        "  true_sad ~ 1 + Gender_Binary\n",
        "'\n",
        "\n",
        "# Fear\n",
        "sem_model_fear <- '\n",
        "  # Regression equations\n",
        "  pred_fear ~ 1 + true_fear + Gender_Binary\n",
        "  true_fear ~ 1 + Gender_Binary\n",
        "'\n",
        "\n",
        "# Disgust\n",
        "sem_model_disgust <- '\n",
        "  # Regression equations\n",
        "  pred_disgust ~ 1 + true_disgust + Gender_Binary\n",
        "  true_disgust ~ 1 + Gender_Binary\n",
        "'\n",
        "\n",
        "# Neutral\n",
        "sem_model_neutral <- '\n",
        "  # Regression equations\n",
        "  pred_neutral ~ 1 + true_neutral + Gender_Binary\n",
        "  true_neutral ~ 1 + Gender_Binary\n",
        "'\n",
        "\n",
        "# Surprise\n",
        "sem_model_surprise <- '\n",
        "  # Regression equations\n",
        "  pred_surprise ~ 1 + true_surprise + Gender_Binary\n",
        "  true_surprise ~ 1 + Gender_Binary\n",
        "'\n"
      ],
      "metadata": {
        "id": "rxNMMwExlSE9"
      },
      "execution_count": 114,
      "outputs": []
    },
    {
      "cell_type": "code",
      "source": [
        "# Create a list of SEM models for all emotions\n",
        "sem_models <- list(\n",
        "  angry = sem_model_angry,\n",
        "  happy = sem_model_happy,\n",
        "  sad = sem_model_sad,\n",
        "  fear = sem_model_fear,\n",
        "  disgust = sem_model_disgust,\n",
        "  neutral = sem_model_neutral,\n",
        "  surprise = sem_model_surprise\n",
        ")\n",
        "\n",
        "# Fit each SEM model and store results\n",
        "sem_results <- lapply(sem_models, function(model) {\n",
        "  fit <- sem(model, data = model_data, missing = \"ML\")\n",
        "  summary(fit, standardized = FALSE, fit.measures = TRUE)\n",
        "})"
      ],
      "metadata": {
        "colab": {
          "base_uri": "https://localhost:8080/"
        },
        "id": "EPtcTsuo4VSz",
        "outputId": "7207d086-6ea3-48fc-e0b3-0efc44de93db"
      },
      "execution_count": 115,
      "outputs": [
        {
          "output_type": "stream",
          "name": "stderr",
          "text": [
            "Warning message:\n",
            "“lavaan->lav_mvnorm_missing_h1_estimate_moments():  \n",
            "   The smallest eigenvalue of the EM estimated variance-covariance matrix \n",
            "   (Sigma) is smaller than 1e-05; this may cause numerical instabilities; \n",
            "   interpret the results with caution.”\n",
            "Warning message:\n",
            "“lavaan->lav_model_vcov():  \n",
            "   The variance-covariance matrix of the estimated parameters (vcov) does not \n",
            "   appear to be positive definite! The smallest eigenvalue (= 3.388883e-14) \n",
            "   is close to zero. This may be a symptom that the model is not identified.”\n"
          ]
        }
      ]
    },
    {
      "cell_type": "markdown",
      "source": [
        "### Detect Significance of Beta using Causal Model"
      ],
      "metadata": {
        "id": "tuMEO4hdttP1"
      }
    },
    {
      "cell_type": "code",
      "source": [
        "# View results for each emotion\n",
        "sem_results$angry"
      ],
      "metadata": {
        "id": "Wc0L9XBnBv7C",
        "outputId": "61aaa38d-0db6-45f3-a5b3-62a473b7bed4",
        "colab": {
          "base_uri": "https://localhost:8080/",
          "height": 1000
        }
      },
      "execution_count": 116,
      "outputs": [
        {
          "output_type": "display_data",
          "data": {
            "text/html": [
              "<dl>\n",
              "\t<dt>$header</dt>\n",
              "\t\t<dd><dl>\n",
              "\t<dt>$lavaan.version</dt>\n",
              "\t\t<dd>'0.6-19'</dd>\n",
              "\t<dt>$sam.approach</dt>\n",
              "\t\t<dd>FALSE</dd>\n",
              "\t<dt>$optim.method</dt>\n",
              "\t\t<dd>'nlminb'</dd>\n",
              "\t<dt>$optim.iterations</dt>\n",
              "\t\t<dd>1</dd>\n",
              "\t<dt>$optim.converged</dt>\n",
              "\t\t<dd>TRUE</dd>\n",
              "</dl>\n",
              "</dd>\n",
              "\t<dt>$optim</dt>\n",
              "\t\t<dd><dl>\n",
              "\t<dt>$estimator</dt>\n",
              "\t\t<dd>'ML'</dd>\n",
              "\t<dt>$estimator.args</dt>\n",
              "\t\t<dd><ol>\n",
              "</ol>\n",
              "</dd>\n",
              "\t<dt>$optim.method</dt>\n",
              "\t\t<dd>'nlminb'</dd>\n",
              "\t<dt>$npar</dt>\n",
              "\t\t<dd>7</dd>\n",
              "\t<dt>$eq.constraints</dt>\n",
              "\t\t<dd>FALSE</dd>\n",
              "\t<dt>$nrow.ceq.jac</dt>\n",
              "\t\t<dd>0</dd>\n",
              "\t<dt>$nrow.cin.jac</dt>\n",
              "\t\t<dd>0</dd>\n",
              "\t<dt>$nrow.con.jac</dt>\n",
              "\t\t<dd>0</dd>\n",
              "\t<dt>$con.jac.rank</dt>\n",
              "\t\t<dd>0</dd>\n",
              "</dl>\n",
              "</dd>\n",
              "\t<dt>$data</dt>\n",
              "\t\t<dd><dl>\n",
              "\t<dt>$ngroups</dt>\n",
              "\t\t<dd>1</dd>\n",
              "\t<dt>$nobs</dt>\n",
              "\t\t<dd>5477</dd>\n",
              "\t<dt>$npatterns</dt>\n",
              "\t\t<dd>1</dd>\n",
              "</dl>\n",
              "</dd>\n",
              "\t<dt>$test</dt>\n",
              "\t\t<dd><strong>$standard</strong> = <dl>\n",
              "\t<dt>$test</dt>\n",
              "\t\t<dd>'standard'</dd>\n",
              "\t<dt>$stat</dt>\n",
              "\t\t<dd>0</dd>\n",
              "\t<dt>$stat.group</dt>\n",
              "\t\t<dd>0</dd>\n",
              "\t<dt>$df</dt>\n",
              "\t\t<dd>0</dd>\n",
              "\t<dt>$refdistr</dt>\n",
              "\t\t<dd>'chisq'</dd>\n",
              "\t<dt>$pvalue</dt>\n",
              "\t\t<dd>&lt;NA&gt;</dd>\n",
              "</dl>\n",
              "</dd>\n",
              "\t<dt>$fit</dt>\n",
              "\t\t<dd><style>\n",
              ".dl-inline {width: auto; margin:0; padding: 0}\n",
              ".dl-inline>dt, .dl-inline>dd {float: none; width: auto; display: inline-block}\n",
              ".dl-inline>dt::after {content: \":\\0020\"; padding-right: .5ex}\n",
              ".dl-inline>dt:not(:first-of-type) {padding-left: .5ex}\n",
              "</style><dl class=dl-inline><dt>npar</dt><dd>7</dd><dt>fmin</dt><dd>0</dd><dt>chisq</dt><dd>0</dd><dt>df</dt><dd>0</dd><dt>pvalue</dt><dd>&lt;NA&gt;</dd><dt>baseline.chisq</dt><dd>867.488192999239</dd><dt>baseline.df</dt><dd>3</dd><dt>baseline.pvalue</dt><dd>0</dd><dt>cfi</dt><dd>1</dd><dt>tli</dt><dd>1</dd><dt>cfi.robust</dt><dd>0.999999999999989</dd><dt>tli.robust</dt><dd>1</dd><dt>logl</dt><dd>5682.15524737996</dd><dt>unrestricted.logl</dt><dd>5682.15524737996</dd><dt>aic</dt><dd>-11350.3104947599</dd><dt>bic</dt><dd>-11304.0523052664</dd><dt>ntotal</dt><dd>5477</dd><dt>bic2</dt><dd>-11326.2961264016</dd><dt>rmsea</dt><dd>0</dd><dt>rmsea.ci.lower</dt><dd>0</dd><dt>rmsea.ci.upper</dt><dd>0</dd><dt>rmsea.ci.level</dt><dd>0.9</dd><dt>rmsea.pvalue</dt><dd>&lt;NA&gt;</dd><dt>rmsea.close.h0</dt><dd>0.05</dd><dt>rmsea.notclose.pvalue</dt><dd>&lt;NA&gt;</dd><dt>rmsea.notclose.h0</dt><dd>0.08</dd><dt>rmsea.robust</dt><dd>0</dd><dt>rmsea.ci.lower.robust</dt><dd>0</dd><dt>rmsea.ci.upper.robust</dt><dd>0</dd><dt>rmsea.pvalue.robust</dt><dd>&lt;NA&gt;</dd><dt>rmsea.notclose.pvalue.robust</dt><dd>&lt;NA&gt;</dd><dt>srmr</dt><dd>1.33512364956899e-16</dd></dl>\n",
              "</dd>\n",
              "\t<dt>$pe</dt>\n",
              "\t\t<dd><table class=\"dataframe\">\n",
              "<caption>A data.frame: 9 × 8</caption>\n",
              "<thead>\n",
              "\t<tr><th scope=col>lhs</th><th scope=col>op</th><th scope=col>rhs</th><th scope=col>exo</th><th scope=col>est</th><th scope=col>se</th><th scope=col>z</th><th scope=col>pvalue</th></tr>\n",
              "\t<tr><th scope=col>&lt;chr&gt;</th><th scope=col>&lt;chr&gt;</th><th scope=col>&lt;chr&gt;</th><th scope=col>&lt;int&gt;</th><th scope=col>&lt;dbl&gt;</th><th scope=col>&lt;dbl&gt;</th><th scope=col>&lt;dbl&gt;</th><th scope=col>&lt;dbl&gt;</th></tr>\n",
              "</thead>\n",
              "<tbody>\n",
              "\t<tr><td>pred_angry   </td><td>~1</td><td>             </td><td>0</td><td>0.058907277</td><td>0.0014565789</td><td>40.442214</td><td>0.000000e+00</td></tr>\n",
              "\t<tr><td>pred_angry   </td><td>~ </td><td>true_angry   </td><td>0</td><td>0.091074716</td><td>0.0035097645</td><td>25.948953</td><td>0.000000e+00</td></tr>\n",
              "\t<tr><td>pred_angry   </td><td>~ </td><td>Gender_Binary</td><td>0</td><td>0.026932053</td><td>0.0019908688</td><td>13.527789</td><td>0.000000e+00</td></tr>\n",
              "\t<tr><td>true_angry   </td><td>~1</td><td>             </td><td>0</td><td>0.067458796</td><td>0.0055331196</td><td>12.191820</td><td>0.000000e+00</td></tr>\n",
              "\t<tr><td>true_angry   </td><td>~ </td><td>Gender_Binary</td><td>0</td><td>0.039235764</td><td>0.0076463091</td><td> 5.131334</td><td>2.876962e-07</td></tr>\n",
              "\t<tr><td>pred_angry   </td><td>~~</td><td>pred_angry   </td><td>0</td><td>0.005389058</td><td>0.0001029809</td><td>52.330679</td><td>0.000000e+00</td></tr>\n",
              "\t<tr><td>true_angry   </td><td>~~</td><td>true_angry   </td><td>0</td><td>0.079875610</td><td>0.0015263629</td><td>52.330679</td><td>0.000000e+00</td></tr>\n",
              "\t<tr><td>Gender_Binary</td><td>~~</td><td>Gender_Binary</td><td>1</td><td>0.249440946</td><td>0.0000000000</td><td>       NA</td><td>          NA</td></tr>\n",
              "\t<tr><td>Gender_Binary</td><td>~1</td><td>             </td><td>1</td><td>0.523644331</td><td>0.0000000000</td><td>       NA</td><td>          NA</td></tr>\n",
              "</tbody>\n",
              "</table>\n",
              "</dd>\n",
              "</dl>\n"
            ],
            "text/markdown": "$header\n:   $lavaan.version\n:   '0.6-19'\n$sam.approach\n:   FALSE\n$optim.method\n:   'nlminb'\n$optim.iterations\n:   1\n$optim.converged\n:   TRUE\n\n\n\n$optim\n:   $estimator\n:   'ML'\n$estimator.args\n:   \n\n\n$optim.method\n:   'nlminb'\n$npar\n:   7\n$eq.constraints\n:   FALSE\n$nrow.ceq.jac\n:   0\n$nrow.cin.jac\n:   0\n$nrow.con.jac\n:   0\n$con.jac.rank\n:   0\n\n\n\n$data\n:   $ngroups\n:   1\n$nobs\n:   5477\n$npatterns\n:   1\n\n\n\n$test\n:   **$standard** = $test\n:   'standard'\n$stat\n:   0\n$stat.group\n:   0\n$df\n:   0\n$refdistr\n:   'chisq'\n$pvalue\n:   &lt;NA&gt;\n\n\n\n$fit\n:   npar\n:   7fmin\n:   0chisq\n:   0df\n:   0pvalue\n:   &lt;NA&gt;baseline.chisq\n:   867.488192999239baseline.df\n:   3baseline.pvalue\n:   0cfi\n:   1tli\n:   1cfi.robust\n:   0.999999999999989tli.robust\n:   1logl\n:   5682.15524737996unrestricted.logl\n:   5682.15524737996aic\n:   -11350.3104947599bic\n:   -11304.0523052664ntotal\n:   5477bic2\n:   -11326.2961264016rmsea\n:   0rmsea.ci.lower\n:   0rmsea.ci.upper\n:   0rmsea.ci.level\n:   0.9rmsea.pvalue\n:   &lt;NA&gt;rmsea.close.h0\n:   0.05rmsea.notclose.pvalue\n:   &lt;NA&gt;rmsea.notclose.h0\n:   0.08rmsea.robust\n:   0rmsea.ci.lower.robust\n:   0rmsea.ci.upper.robust\n:   0rmsea.pvalue.robust\n:   &lt;NA&gt;rmsea.notclose.pvalue.robust\n:   &lt;NA&gt;srmr\n:   1.33512364956899e-16\n\n\n$pe\n:   \nA data.frame: 9 × 8\n\n| lhs &lt;chr&gt; | op &lt;chr&gt; | rhs &lt;chr&gt; | exo &lt;int&gt; | est &lt;dbl&gt; | se &lt;dbl&gt; | z &lt;dbl&gt; | pvalue &lt;dbl&gt; |\n|---|---|---|---|---|---|---|---|\n| pred_angry    | ~1 | <!----> | 0 | 0.058907277 | 0.0014565789 | 40.442214 | 0.000000e+00 |\n| pred_angry    | ~  | true_angry    | 0 | 0.091074716 | 0.0035097645 | 25.948953 | 0.000000e+00 |\n| pred_angry    | ~  | Gender_Binary | 0 | 0.026932053 | 0.0019908688 | 13.527789 | 0.000000e+00 |\n| true_angry    | ~1 | <!----> | 0 | 0.067458796 | 0.0055331196 | 12.191820 | 0.000000e+00 |\n| true_angry    | ~  | Gender_Binary | 0 | 0.039235764 | 0.0076463091 |  5.131334 | 2.876962e-07 |\n| pred_angry    | ~~ | pred_angry    | 0 | 0.005389058 | 0.0001029809 | 52.330679 | 0.000000e+00 |\n| true_angry    | ~~ | true_angry    | 0 | 0.079875610 | 0.0015263629 | 52.330679 | 0.000000e+00 |\n| Gender_Binary | ~~ | Gender_Binary | 1 | 0.249440946 | 0.0000000000 |        NA |           NA |\n| Gender_Binary | ~1 | <!----> | 1 | 0.523644331 | 0.0000000000 |        NA |           NA |\n\n\n\n\n",
            "text/latex": "\\begin{description}\n\\item[\\$header] \\begin{description}\n\\item[\\$lavaan.version] '0.6-19'\n\\item[\\$sam.approach] FALSE\n\\item[\\$optim.method] 'nlminb'\n\\item[\\$optim.iterations] 1\n\\item[\\$optim.converged] TRUE\n\\end{description}\n\n\\item[\\$optim] \\begin{description}\n\\item[\\$estimator] 'ML'\n\\item[\\$estimator.args] \\begin{enumerate}\n\\end{enumerate}\n\n\\item[\\$optim.method] 'nlminb'\n\\item[\\$npar] 7\n\\item[\\$eq.constraints] FALSE\n\\item[\\$nrow.ceq.jac] 0\n\\item[\\$nrow.cin.jac] 0\n\\item[\\$nrow.con.jac] 0\n\\item[\\$con.jac.rank] 0\n\\end{description}\n\n\\item[\\$data] \\begin{description}\n\\item[\\$ngroups] 1\n\\item[\\$nobs] 5477\n\\item[\\$npatterns] 1\n\\end{description}\n\n\\item[\\$test] \\textbf{\\$standard} = \\begin{description}\n\\item[\\$test] 'standard'\n\\item[\\$stat] 0\n\\item[\\$stat.group] 0\n\\item[\\$df] 0\n\\item[\\$refdistr] 'chisq'\n\\item[\\$pvalue] <NA>\n\\end{description}\n\n\\item[\\$fit] \\begin{description*}\n\\item[npar] 7\n\\item[fmin] 0\n\\item[chisq] 0\n\\item[df] 0\n\\item[pvalue] <NA>\n\\item[baseline.chisq] 867.488192999239\n\\item[baseline.df] 3\n\\item[baseline.pvalue] 0\n\\item[cfi] 1\n\\item[tli] 1\n\\item[cfi.robust] 0.999999999999989\n\\item[tli.robust] 1\n\\item[logl] 5682.15524737996\n\\item[unrestricted.logl] 5682.15524737996\n\\item[aic] -11350.3104947599\n\\item[bic] -11304.0523052664\n\\item[ntotal] 5477\n\\item[bic2] -11326.2961264016\n\\item[rmsea] 0\n\\item[rmsea.ci.lower] 0\n\\item[rmsea.ci.upper] 0\n\\item[rmsea.ci.level] 0.9\n\\item[rmsea.pvalue] <NA>\n\\item[rmsea.close.h0] 0.05\n\\item[rmsea.notclose.pvalue] <NA>\n\\item[rmsea.notclose.h0] 0.08\n\\item[rmsea.robust] 0\n\\item[rmsea.ci.lower.robust] 0\n\\item[rmsea.ci.upper.robust] 0\n\\item[rmsea.pvalue.robust] <NA>\n\\item[rmsea.notclose.pvalue.robust] <NA>\n\\item[srmr] 1.33512364956899e-16\n\\end{description*}\n\n\\item[\\$pe] A data.frame: 9 × 8\n\\begin{tabular}{llllllll}\n lhs & op & rhs & exo & est & se & z & pvalue\\\\\n <chr> & <chr> & <chr> & <int> & <dbl> & <dbl> & <dbl> & <dbl>\\\\\n\\hline\n\t pred\\_angry    & \\textasciitilde{}1 &               & 0 & 0.058907277 & 0.0014565789 & 40.442214 & 0.000000e+00\\\\\n\t pred\\_angry    & \\textasciitilde{}  & true\\_angry    & 0 & 0.091074716 & 0.0035097645 & 25.948953 & 0.000000e+00\\\\\n\t pred\\_angry    & \\textasciitilde{}  & Gender\\_Binary & 0 & 0.026932053 & 0.0019908688 & 13.527789 & 0.000000e+00\\\\\n\t true\\_angry    & \\textasciitilde{}1 &               & 0 & 0.067458796 & 0.0055331196 & 12.191820 & 0.000000e+00\\\\\n\t true\\_angry    & \\textasciitilde{}  & Gender\\_Binary & 0 & 0.039235764 & 0.0076463091 &  5.131334 & 2.876962e-07\\\\\n\t pred\\_angry    & \\textasciitilde{}\\textasciitilde{} & pred\\_angry    & 0 & 0.005389058 & 0.0001029809 & 52.330679 & 0.000000e+00\\\\\n\t true\\_angry    & \\textasciitilde{}\\textasciitilde{} & true\\_angry    & 0 & 0.079875610 & 0.0015263629 & 52.330679 & 0.000000e+00\\\\\n\t Gender\\_Binary & \\textasciitilde{}\\textasciitilde{} & Gender\\_Binary & 1 & 0.249440946 & 0.0000000000 &        NA &           NA\\\\\n\t Gender\\_Binary & \\textasciitilde{}1 &               & 1 & 0.523644331 & 0.0000000000 &        NA &           NA\\\\\n\\end{tabular}\n\n\\end{description}\n",
            "text/plain": [
              "lavaan 0.6-19 ended normally after 1 iteration\n",
              "\n",
              "  Estimator                                         ML\n",
              "  Optimization method                           NLMINB\n",
              "  Number of model parameters                         7\n",
              "\n",
              "  Number of observations                          5477\n",
              "  Number of missing patterns                         1\n",
              "\n",
              "Model Test User Model:\n",
              "                                                      \n",
              "  Test statistic                                 0.000\n",
              "  Degrees of freedom                                 0\n",
              "\n",
              "Model Test Baseline Model:\n",
              "\n",
              "  Test statistic                               867.488\n",
              "  Degrees of freedom                                 3\n",
              "  P-value                                        0.000\n",
              "\n",
              "User Model versus Baseline Model:\n",
              "\n",
              "  Comparative Fit Index (CFI)                    1.000\n",
              "  Tucker-Lewis Index (TLI)                       1.000\n",
              "                                                      \n",
              "  Robust Comparative Fit Index (CFI)             1.000\n",
              "  Robust Tucker-Lewis Index (TLI)                1.000\n",
              "\n",
              "Loglikelihood and Information Criteria:\n",
              "\n",
              "  Loglikelihood user model (H0)               5682.155\n",
              "  Loglikelihood unrestricted model (H1)       5682.155\n",
              "                                                      \n",
              "  Akaike (AIC)                              -11350.310\n",
              "  Bayesian (BIC)                            -11304.052\n",
              "  Sample-size adjusted Bayesian (SABIC)     -11326.296\n",
              "\n",
              "Root Mean Square Error of Approximation:\n",
              "\n",
              "  RMSEA                                          0.000\n",
              "  90 Percent confidence interval - lower         0.000\n",
              "  90 Percent confidence interval - upper         0.000\n",
              "  P-value H_0: RMSEA <= 0.050                       NA\n",
              "  P-value H_0: RMSEA >= 0.080                       NA\n",
              "                                                      \n",
              "  Robust RMSEA                                   0.000\n",
              "  90 Percent confidence interval - lower         0.000\n",
              "  90 Percent confidence interval - upper         0.000\n",
              "  P-value H_0: Robust RMSEA <= 0.050                NA\n",
              "  P-value H_0: Robust RMSEA >= 0.080                NA\n",
              "\n",
              "Standardized Root Mean Square Residual:\n",
              "\n",
              "  SRMR                                           0.000\n",
              "\n",
              "Parameter Estimates:\n",
              "\n",
              "  Standard errors                             Standard\n",
              "  Information                                 Observed\n",
              "  Observed information based on                Hessian\n",
              "\n",
              "Regressions:\n",
              "                   Estimate  Std.Err  z-value  P(>|z|)\n",
              "  pred_angry ~                                        \n",
              "    true_angry        0.091    0.004   25.949    0.000\n",
              "    Gender_Binary     0.027    0.002   13.528    0.000\n",
              "  true_angry ~                                        \n",
              "    Gender_Binary     0.039    0.008    5.131    0.000\n",
              "\n",
              "Intercepts:\n",
              "                   Estimate  Std.Err  z-value  P(>|z|)\n",
              "   .pred_angry        0.059    0.001   40.442    0.000\n",
              "   .true_angry        0.067    0.006   12.192    0.000\n",
              "\n",
              "Variances:\n",
              "                   Estimate  Std.Err  z-value  P(>|z|)\n",
              "   .pred_angry        0.005    0.000   52.331    0.000\n",
              "   .true_angry        0.080    0.002   52.331    0.000\n"
            ]
          },
          "metadata": {}
        }
      ]
    },
    {
      "cell_type": "code",
      "source": [
        "sem_results$happy"
      ],
      "metadata": {
        "colab": {
          "base_uri": "https://localhost:8080/",
          "height": 1000
        },
        "id": "2xQe-0mMmb79",
        "outputId": "1104bbb3-eb6e-4217-e289-2aecffc27fea"
      },
      "execution_count": 117,
      "outputs": [
        {
          "output_type": "display_data",
          "data": {
            "text/html": [
              "<dl>\n",
              "\t<dt>$header</dt>\n",
              "\t\t<dd><dl>\n",
              "\t<dt>$lavaan.version</dt>\n",
              "\t\t<dd>'0.6-19'</dd>\n",
              "\t<dt>$sam.approach</dt>\n",
              "\t\t<dd>FALSE</dd>\n",
              "\t<dt>$optim.method</dt>\n",
              "\t\t<dd>'nlminb'</dd>\n",
              "\t<dt>$optim.iterations</dt>\n",
              "\t\t<dd>1</dd>\n",
              "\t<dt>$optim.converged</dt>\n",
              "\t\t<dd>TRUE</dd>\n",
              "</dl>\n",
              "</dd>\n",
              "\t<dt>$optim</dt>\n",
              "\t\t<dd><dl>\n",
              "\t<dt>$estimator</dt>\n",
              "\t\t<dd>'ML'</dd>\n",
              "\t<dt>$estimator.args</dt>\n",
              "\t\t<dd><ol>\n",
              "</ol>\n",
              "</dd>\n",
              "\t<dt>$optim.method</dt>\n",
              "\t\t<dd>'nlminb'</dd>\n",
              "\t<dt>$npar</dt>\n",
              "\t\t<dd>7</dd>\n",
              "\t<dt>$eq.constraints</dt>\n",
              "\t\t<dd>FALSE</dd>\n",
              "\t<dt>$nrow.ceq.jac</dt>\n",
              "\t\t<dd>0</dd>\n",
              "\t<dt>$nrow.cin.jac</dt>\n",
              "\t\t<dd>0</dd>\n",
              "\t<dt>$nrow.con.jac</dt>\n",
              "\t\t<dd>0</dd>\n",
              "\t<dt>$con.jac.rank</dt>\n",
              "\t\t<dd>0</dd>\n",
              "</dl>\n",
              "</dd>\n",
              "\t<dt>$data</dt>\n",
              "\t\t<dd><dl>\n",
              "\t<dt>$ngroups</dt>\n",
              "\t\t<dd>1</dd>\n",
              "\t<dt>$nobs</dt>\n",
              "\t\t<dd>5477</dd>\n",
              "\t<dt>$npatterns</dt>\n",
              "\t\t<dd>1</dd>\n",
              "</dl>\n",
              "</dd>\n",
              "\t<dt>$test</dt>\n",
              "\t\t<dd><strong>$standard</strong> = <dl>\n",
              "\t<dt>$test</dt>\n",
              "\t\t<dd>'standard'</dd>\n",
              "\t<dt>$stat</dt>\n",
              "\t\t<dd>0</dd>\n",
              "\t<dt>$stat.group</dt>\n",
              "\t\t<dd>0</dd>\n",
              "\t<dt>$df</dt>\n",
              "\t\t<dd>0</dd>\n",
              "\t<dt>$refdistr</dt>\n",
              "\t\t<dd>'chisq'</dd>\n",
              "\t<dt>$pvalue</dt>\n",
              "\t\t<dd>&lt;NA&gt;</dd>\n",
              "</dl>\n",
              "</dd>\n",
              "\t<dt>$fit</dt>\n",
              "\t\t<dd><style>\n",
              ".dl-inline {width: auto; margin:0; padding: 0}\n",
              ".dl-inline>dt, .dl-inline>dd {float: none; width: auto; display: inline-block}\n",
              ".dl-inline>dt::after {content: \":\\0020\"; padding-right: .5ex}\n",
              ".dl-inline>dt:not(:first-of-type) {padding-left: .5ex}\n",
              "</style><dl class=dl-inline><dt>npar</dt><dd>7</dd><dt>fmin</dt><dd>0</dd><dt>chisq</dt><dd>0</dd><dt>df</dt><dd>0</dd><dt>pvalue</dt><dd>&lt;NA&gt;</dd><dt>baseline.chisq</dt><dd>4286.33602068036</dd><dt>baseline.df</dt><dd>3</dd><dt>baseline.pvalue</dt><dd>0</dd><dt>cfi</dt><dd>1</dd><dt>tli</dt><dd>1</dd><dt>cfi.robust</dt><dd>0.999999999999999</dd><dt>tli.robust</dt><dd>1</dd><dt>logl</dt><dd>-3285.38750115938</dd><dt>unrestricted.logl</dt><dd>-3285.38750115939</dd><dt>aic</dt><dd>6584.77500231877</dd><dt>bic</dt><dd>6631.03319181225</dd><dt>ntotal</dt><dd>5477</dd><dt>bic2</dt><dd>6608.7893706771</dd><dt>rmsea</dt><dd>0</dd><dt>rmsea.ci.lower</dt><dd>0</dd><dt>rmsea.ci.upper</dt><dd>0</dd><dt>rmsea.ci.level</dt><dd>0.9</dd><dt>rmsea.pvalue</dt><dd>&lt;NA&gt;</dd><dt>rmsea.close.h0</dt><dd>0.05</dd><dt>rmsea.notclose.pvalue</dt><dd>&lt;NA&gt;</dd><dt>rmsea.notclose.h0</dt><dd>0.08</dd><dt>rmsea.robust</dt><dd>0</dd><dt>rmsea.ci.lower.robust</dt><dd>0</dd><dt>rmsea.ci.upper.robust</dt><dd>0</dd><dt>rmsea.pvalue.robust</dt><dd>&lt;NA&gt;</dd><dt>rmsea.notclose.pvalue.robust</dt><dd>&lt;NA&gt;</dd><dt>srmr</dt><dd>5.99588961666477e-17</dd></dl>\n",
              "</dd>\n",
              "\t<dt>$pe</dt>\n",
              "\t\t<dd><table class=\"dataframe\">\n",
              "<caption>A data.frame: 9 × 8</caption>\n",
              "<thead>\n",
              "\t<tr><th scope=col>lhs</th><th scope=col>op</th><th scope=col>rhs</th><th scope=col>exo</th><th scope=col>est</th><th scope=col>se</th><th scope=col>z</th><th scope=col>pvalue</th></tr>\n",
              "\t<tr><th scope=col>&lt;chr&gt;</th><th scope=col>&lt;chr&gt;</th><th scope=col>&lt;chr&gt;</th><th scope=col>&lt;int&gt;</th><th scope=col>&lt;dbl&gt;</th><th scope=col>&lt;dbl&gt;</th><th scope=col>&lt;dbl&gt;</th><th scope=col>&lt;dbl&gt;</th></tr>\n",
              "</thead>\n",
              "<tbody>\n",
              "\t<tr><td>pred_happy   </td><td>~1</td><td>             </td><td>0</td><td> 0.18095447</td><td>0.005335311</td><td> 33.916389</td><td> 0</td></tr>\n",
              "\t<tr><td>pred_happy   </td><td>~ </td><td>true_happy   </td><td>0</td><td> 0.52841960</td><td>0.007005663</td><td> 75.427490</td><td> 0</td></tr>\n",
              "\t<tr><td>pred_happy   </td><td>~ </td><td>Gender_Binary</td><td>0</td><td>-0.05772604</td><td>0.006453267</td><td> -8.945242</td><td> 0</td></tr>\n",
              "\t<tr><td>true_happy   </td><td>~1</td><td>             </td><td>0</td><td> 0.38482177</td><td>0.008880177</td><td> 43.334923</td><td> 0</td></tr>\n",
              "\t<tr><td>true_happy   </td><td>~ </td><td>Gender_Binary</td><td>0</td><td>-0.15399890</td><td>0.012271662</td><td>-12.549147</td><td> 0</td></tr>\n",
              "\t<tr><td>pred_happy   </td><td>~~</td><td>pred_happy   </td><td>0</td><td> 0.05530425</td><td>0.001056823</td><td> 52.330679</td><td> 0</td></tr>\n",
              "\t<tr><td>true_happy   </td><td>~~</td><td>true_happy   </td><td>0</td><td> 0.20573931</td><td>0.003931524</td><td> 52.330679</td><td> 0</td></tr>\n",
              "\t<tr><td>Gender_Binary</td><td>~~</td><td>Gender_Binary</td><td>1</td><td> 0.24944095</td><td>0.000000000</td><td>        NA</td><td>NA</td></tr>\n",
              "\t<tr><td>Gender_Binary</td><td>~1</td><td>             </td><td>1</td><td> 0.52364433</td><td>0.000000000</td><td>        NA</td><td>NA</td></tr>\n",
              "</tbody>\n",
              "</table>\n",
              "</dd>\n",
              "</dl>\n"
            ],
            "text/markdown": "$header\n:   $lavaan.version\n:   '0.6-19'\n$sam.approach\n:   FALSE\n$optim.method\n:   'nlminb'\n$optim.iterations\n:   1\n$optim.converged\n:   TRUE\n\n\n\n$optim\n:   $estimator\n:   'ML'\n$estimator.args\n:   \n\n\n$optim.method\n:   'nlminb'\n$npar\n:   7\n$eq.constraints\n:   FALSE\n$nrow.ceq.jac\n:   0\n$nrow.cin.jac\n:   0\n$nrow.con.jac\n:   0\n$con.jac.rank\n:   0\n\n\n\n$data\n:   $ngroups\n:   1\n$nobs\n:   5477\n$npatterns\n:   1\n\n\n\n$test\n:   **$standard** = $test\n:   'standard'\n$stat\n:   0\n$stat.group\n:   0\n$df\n:   0\n$refdistr\n:   'chisq'\n$pvalue\n:   &lt;NA&gt;\n\n\n\n$fit\n:   npar\n:   7fmin\n:   0chisq\n:   0df\n:   0pvalue\n:   &lt;NA&gt;baseline.chisq\n:   4286.33602068036baseline.df\n:   3baseline.pvalue\n:   0cfi\n:   1tli\n:   1cfi.robust\n:   0.999999999999999tli.robust\n:   1logl\n:   -3285.38750115938unrestricted.logl\n:   -3285.38750115939aic\n:   6584.77500231877bic\n:   6631.03319181225ntotal\n:   5477bic2\n:   6608.7893706771rmsea\n:   0rmsea.ci.lower\n:   0rmsea.ci.upper\n:   0rmsea.ci.level\n:   0.9rmsea.pvalue\n:   &lt;NA&gt;rmsea.close.h0\n:   0.05rmsea.notclose.pvalue\n:   &lt;NA&gt;rmsea.notclose.h0\n:   0.08rmsea.robust\n:   0rmsea.ci.lower.robust\n:   0rmsea.ci.upper.robust\n:   0rmsea.pvalue.robust\n:   &lt;NA&gt;rmsea.notclose.pvalue.robust\n:   &lt;NA&gt;srmr\n:   5.99588961666477e-17\n\n\n$pe\n:   \nA data.frame: 9 × 8\n\n| lhs &lt;chr&gt; | op &lt;chr&gt; | rhs &lt;chr&gt; | exo &lt;int&gt; | est &lt;dbl&gt; | se &lt;dbl&gt; | z &lt;dbl&gt; | pvalue &lt;dbl&gt; |\n|---|---|---|---|---|---|---|---|\n| pred_happy    | ~1 | <!----> | 0 |  0.18095447 | 0.005335311 |  33.916389 |  0 |\n| pred_happy    | ~  | true_happy    | 0 |  0.52841960 | 0.007005663 |  75.427490 |  0 |\n| pred_happy    | ~  | Gender_Binary | 0 | -0.05772604 | 0.006453267 |  -8.945242 |  0 |\n| true_happy    | ~1 | <!----> | 0 |  0.38482177 | 0.008880177 |  43.334923 |  0 |\n| true_happy    | ~  | Gender_Binary | 0 | -0.15399890 | 0.012271662 | -12.549147 |  0 |\n| pred_happy    | ~~ | pred_happy    | 0 |  0.05530425 | 0.001056823 |  52.330679 |  0 |\n| true_happy    | ~~ | true_happy    | 0 |  0.20573931 | 0.003931524 |  52.330679 |  0 |\n| Gender_Binary | ~~ | Gender_Binary | 1 |  0.24944095 | 0.000000000 |         NA | NA |\n| Gender_Binary | ~1 | <!----> | 1 |  0.52364433 | 0.000000000 |         NA | NA |\n\n\n\n\n",
            "text/latex": "\\begin{description}\n\\item[\\$header] \\begin{description}\n\\item[\\$lavaan.version] '0.6-19'\n\\item[\\$sam.approach] FALSE\n\\item[\\$optim.method] 'nlminb'\n\\item[\\$optim.iterations] 1\n\\item[\\$optim.converged] TRUE\n\\end{description}\n\n\\item[\\$optim] \\begin{description}\n\\item[\\$estimator] 'ML'\n\\item[\\$estimator.args] \\begin{enumerate}\n\\end{enumerate}\n\n\\item[\\$optim.method] 'nlminb'\n\\item[\\$npar] 7\n\\item[\\$eq.constraints] FALSE\n\\item[\\$nrow.ceq.jac] 0\n\\item[\\$nrow.cin.jac] 0\n\\item[\\$nrow.con.jac] 0\n\\item[\\$con.jac.rank] 0\n\\end{description}\n\n\\item[\\$data] \\begin{description}\n\\item[\\$ngroups] 1\n\\item[\\$nobs] 5477\n\\item[\\$npatterns] 1\n\\end{description}\n\n\\item[\\$test] \\textbf{\\$standard} = \\begin{description}\n\\item[\\$test] 'standard'\n\\item[\\$stat] 0\n\\item[\\$stat.group] 0\n\\item[\\$df] 0\n\\item[\\$refdistr] 'chisq'\n\\item[\\$pvalue] <NA>\n\\end{description}\n\n\\item[\\$fit] \\begin{description*}\n\\item[npar] 7\n\\item[fmin] 0\n\\item[chisq] 0\n\\item[df] 0\n\\item[pvalue] <NA>\n\\item[baseline.chisq] 4286.33602068036\n\\item[baseline.df] 3\n\\item[baseline.pvalue] 0\n\\item[cfi] 1\n\\item[tli] 1\n\\item[cfi.robust] 0.999999999999999\n\\item[tli.robust] 1\n\\item[logl] -3285.38750115938\n\\item[unrestricted.logl] -3285.38750115939\n\\item[aic] 6584.77500231877\n\\item[bic] 6631.03319181225\n\\item[ntotal] 5477\n\\item[bic2] 6608.7893706771\n\\item[rmsea] 0\n\\item[rmsea.ci.lower] 0\n\\item[rmsea.ci.upper] 0\n\\item[rmsea.ci.level] 0.9\n\\item[rmsea.pvalue] <NA>\n\\item[rmsea.close.h0] 0.05\n\\item[rmsea.notclose.pvalue] <NA>\n\\item[rmsea.notclose.h0] 0.08\n\\item[rmsea.robust] 0\n\\item[rmsea.ci.lower.robust] 0\n\\item[rmsea.ci.upper.robust] 0\n\\item[rmsea.pvalue.robust] <NA>\n\\item[rmsea.notclose.pvalue.robust] <NA>\n\\item[srmr] 5.99588961666477e-17\n\\end{description*}\n\n\\item[\\$pe] A data.frame: 9 × 8\n\\begin{tabular}{llllllll}\n lhs & op & rhs & exo & est & se & z & pvalue\\\\\n <chr> & <chr> & <chr> & <int> & <dbl> & <dbl> & <dbl> & <dbl>\\\\\n\\hline\n\t pred\\_happy    & \\textasciitilde{}1 &               & 0 &  0.18095447 & 0.005335311 &  33.916389 &  0\\\\\n\t pred\\_happy    & \\textasciitilde{}  & true\\_happy    & 0 &  0.52841960 & 0.007005663 &  75.427490 &  0\\\\\n\t pred\\_happy    & \\textasciitilde{}  & Gender\\_Binary & 0 & -0.05772604 & 0.006453267 &  -8.945242 &  0\\\\\n\t true\\_happy    & \\textasciitilde{}1 &               & 0 &  0.38482177 & 0.008880177 &  43.334923 &  0\\\\\n\t true\\_happy    & \\textasciitilde{}  & Gender\\_Binary & 0 & -0.15399890 & 0.012271662 & -12.549147 &  0\\\\\n\t pred\\_happy    & \\textasciitilde{}\\textasciitilde{} & pred\\_happy    & 0 &  0.05530425 & 0.001056823 &  52.330679 &  0\\\\\n\t true\\_happy    & \\textasciitilde{}\\textasciitilde{} & true\\_happy    & 0 &  0.20573931 & 0.003931524 &  52.330679 &  0\\\\\n\t Gender\\_Binary & \\textasciitilde{}\\textasciitilde{} & Gender\\_Binary & 1 &  0.24944095 & 0.000000000 &         NA & NA\\\\\n\t Gender\\_Binary & \\textasciitilde{}1 &               & 1 &  0.52364433 & 0.000000000 &         NA & NA\\\\\n\\end{tabular}\n\n\\end{description}\n",
            "text/plain": [
              "lavaan 0.6-19 ended normally after 1 iteration\n",
              "\n",
              "  Estimator                                         ML\n",
              "  Optimization method                           NLMINB\n",
              "  Number of model parameters                         7\n",
              "\n",
              "  Number of observations                          5477\n",
              "  Number of missing patterns                         1\n",
              "\n",
              "Model Test User Model:\n",
              "                                                      \n",
              "  Test statistic                                 0.000\n",
              "  Degrees of freedom                                 0\n",
              "\n",
              "Model Test Baseline Model:\n",
              "\n",
              "  Test statistic                              4286.336\n",
              "  Degrees of freedom                                 3\n",
              "  P-value                                        0.000\n",
              "\n",
              "User Model versus Baseline Model:\n",
              "\n",
              "  Comparative Fit Index (CFI)                    1.000\n",
              "  Tucker-Lewis Index (TLI)                       1.000\n",
              "                                                      \n",
              "  Robust Comparative Fit Index (CFI)             1.000\n",
              "  Robust Tucker-Lewis Index (TLI)                1.000\n",
              "\n",
              "Loglikelihood and Information Criteria:\n",
              "\n",
              "  Loglikelihood user model (H0)              -3285.388\n",
              "  Loglikelihood unrestricted model (H1)      -3285.388\n",
              "                                                      \n",
              "  Akaike (AIC)                                6584.775\n",
              "  Bayesian (BIC)                              6631.033\n",
              "  Sample-size adjusted Bayesian (SABIC)       6608.789\n",
              "\n",
              "Root Mean Square Error of Approximation:\n",
              "\n",
              "  RMSEA                                          0.000\n",
              "  90 Percent confidence interval - lower         0.000\n",
              "  90 Percent confidence interval - upper         0.000\n",
              "  P-value H_0: RMSEA <= 0.050                       NA\n",
              "  P-value H_0: RMSEA >= 0.080                       NA\n",
              "                                                      \n",
              "  Robust RMSEA                                   0.000\n",
              "  90 Percent confidence interval - lower         0.000\n",
              "  90 Percent confidence interval - upper         0.000\n",
              "  P-value H_0: Robust RMSEA <= 0.050                NA\n",
              "  P-value H_0: Robust RMSEA >= 0.080                NA\n",
              "\n",
              "Standardized Root Mean Square Residual:\n",
              "\n",
              "  SRMR                                           0.000\n",
              "\n",
              "Parameter Estimates:\n",
              "\n",
              "  Standard errors                             Standard\n",
              "  Information                                 Observed\n",
              "  Observed information based on                Hessian\n",
              "\n",
              "Regressions:\n",
              "                   Estimate  Std.Err  z-value  P(>|z|)\n",
              "  pred_happy ~                                        \n",
              "    true_happy        0.528    0.007   75.427    0.000\n",
              "    Gender_Binary    -0.058    0.006   -8.945    0.000\n",
              "  true_happy ~                                        \n",
              "    Gender_Binary    -0.154    0.012  -12.549    0.000\n",
              "\n",
              "Intercepts:\n",
              "                   Estimate  Std.Err  z-value  P(>|z|)\n",
              "   .pred_happy        0.181    0.005   33.916    0.000\n",
              "   .true_happy        0.385    0.009   43.335    0.000\n",
              "\n",
              "Variances:\n",
              "                   Estimate  Std.Err  z-value  P(>|z|)\n",
              "   .pred_happy        0.055    0.001   52.331    0.000\n",
              "   .true_happy        0.206    0.004   52.331    0.000\n"
            ]
          },
          "metadata": {}
        }
      ]
    },
    {
      "cell_type": "code",
      "source": [
        "sem_results$sad"
      ],
      "metadata": {
        "colab": {
          "base_uri": "https://localhost:8080/",
          "height": 1000
        },
        "id": "4DdLAz-ims75",
        "outputId": "2be2b0cf-2444-4a5e-db7f-6f388888b80a"
      },
      "execution_count": 118,
      "outputs": [
        {
          "output_type": "display_data",
          "data": {
            "text/html": [
              "<dl>\n",
              "\t<dt>$header</dt>\n",
              "\t\t<dd><dl>\n",
              "\t<dt>$lavaan.version</dt>\n",
              "\t\t<dd>'0.6-19'</dd>\n",
              "\t<dt>$sam.approach</dt>\n",
              "\t\t<dd>FALSE</dd>\n",
              "\t<dt>$optim.method</dt>\n",
              "\t\t<dd>'nlminb'</dd>\n",
              "\t<dt>$optim.iterations</dt>\n",
              "\t\t<dd>14</dd>\n",
              "\t<dt>$optim.converged</dt>\n",
              "\t\t<dd>TRUE</dd>\n",
              "</dl>\n",
              "</dd>\n",
              "\t<dt>$optim</dt>\n",
              "\t\t<dd><dl>\n",
              "\t<dt>$estimator</dt>\n",
              "\t\t<dd>'ML'</dd>\n",
              "\t<dt>$estimator.args</dt>\n",
              "\t\t<dd><ol>\n",
              "</ol>\n",
              "</dd>\n",
              "\t<dt>$optim.method</dt>\n",
              "\t\t<dd>'nlminb'</dd>\n",
              "\t<dt>$npar</dt>\n",
              "\t\t<dd>7</dd>\n",
              "\t<dt>$eq.constraints</dt>\n",
              "\t\t<dd>FALSE</dd>\n",
              "\t<dt>$nrow.ceq.jac</dt>\n",
              "\t\t<dd>0</dd>\n",
              "\t<dt>$nrow.cin.jac</dt>\n",
              "\t\t<dd>0</dd>\n",
              "\t<dt>$nrow.con.jac</dt>\n",
              "\t\t<dd>0</dd>\n",
              "\t<dt>$con.jac.rank</dt>\n",
              "\t\t<dd>0</dd>\n",
              "</dl>\n",
              "</dd>\n",
              "\t<dt>$data</dt>\n",
              "\t\t<dd><dl>\n",
              "\t<dt>$ngroups</dt>\n",
              "\t\t<dd>1</dd>\n",
              "\t<dt>$nobs</dt>\n",
              "\t\t<dd>5477</dd>\n",
              "\t<dt>$npatterns</dt>\n",
              "\t\t<dd>1</dd>\n",
              "</dl>\n",
              "</dd>\n",
              "\t<dt>$test</dt>\n",
              "\t\t<dd><strong>$standard</strong> = <dl>\n",
              "\t<dt>$test</dt>\n",
              "\t\t<dd>'standard'</dd>\n",
              "\t<dt>$stat</dt>\n",
              "\t\t<dd>4.86455320469759e-12</dd>\n",
              "\t<dt>$stat.group</dt>\n",
              "\t\t<dd>4.86455320469759e-12</dd>\n",
              "\t<dt>$df</dt>\n",
              "\t\t<dd>0</dd>\n",
              "\t<dt>$refdistr</dt>\n",
              "\t\t<dd>'chisq'</dd>\n",
              "\t<dt>$pvalue</dt>\n",
              "\t\t<dd>&lt;NA&gt;</dd>\n",
              "</dl>\n",
              "</dd>\n",
              "\t<dt>$fit</dt>\n",
              "\t\t<dd><style>\n",
              ".dl-inline {width: auto; margin:0; padding: 0}\n",
              ".dl-inline>dt, .dl-inline>dd {float: none; width: auto; display: inline-block}\n",
              ".dl-inline>dt::after {content: \":\\0020\"; padding-right: .5ex}\n",
              ".dl-inline>dt:not(:first-of-type) {padding-left: .5ex}\n",
              "</style><dl class=dl-inline><dt>npar</dt><dd>7</dd><dt>fmin</dt><dd>4.44089209850063e-16</dd><dt>chisq</dt><dd>4.86455320469759e-12</dd><dt>df</dt><dd>0</dd><dt>pvalue</dt><dd>&lt;NA&gt;</dd><dt>baseline.chisq</dt><dd>1109.89961541723</dd><dt>baseline.df</dt><dd>3</dd><dt>baseline.pvalue</dt><dd>0</dd><dt>cfi</dt><dd>0.999999999999996</dd><dt>tli</dt><dd>1</dd><dt>cfi.robust</dt><dd>0.999999999999996</dd><dt>tli.robust</dt><dd>1</dd><dt>logl</dt><dd>-110.42961212638</dd><dt>unrestricted.logl</dt><dd>-110.429612126376</dd><dt>aic</dt><dd>234.859224252759</dd><dt>bic</dt><dd>281.117413746245</dd><dt>ntotal</dt><dd>5477</dd><dt>bic2</dt><dd>258.873592611093</dd><dt>rmsea</dt><dd>0</dd><dt>rmsea.ci.lower</dt><dd>0</dd><dt>rmsea.ci.upper</dt><dd>0</dd><dt>rmsea.ci.level</dt><dd>0.9</dd><dt>rmsea.pvalue</dt><dd>&lt;NA&gt;</dd><dt>rmsea.close.h0</dt><dd>0.05</dd><dt>rmsea.notclose.pvalue</dt><dd>&lt;NA&gt;</dd><dt>rmsea.notclose.h0</dt><dd>0.08</dd><dt>rmsea.robust</dt><dd>0</dd><dt>rmsea.ci.lower.robust</dt><dd>0</dd><dt>rmsea.ci.upper.robust</dt><dd>0</dd><dt>rmsea.pvalue.robust</dt><dd>&lt;NA&gt;</dd><dt>rmsea.notclose.pvalue.robust</dt><dd>&lt;NA&gt;</dd><dt>srmr</dt><dd>1.27892188213018e-08</dd></dl>\n",
              "</dd>\n",
              "\t<dt>$pe</dt>\n",
              "\t\t<dd><table class=\"dataframe\">\n",
              "<caption>A data.frame: 9 × 8</caption>\n",
              "<thead>\n",
              "\t<tr><th scope=col>lhs</th><th scope=col>op</th><th scope=col>rhs</th><th scope=col>exo</th><th scope=col>est</th><th scope=col>se</th><th scope=col>z</th><th scope=col>pvalue</th></tr>\n",
              "\t<tr><th scope=col>&lt;chr&gt;</th><th scope=col>&lt;chr&gt;</th><th scope=col>&lt;chr&gt;</th><th scope=col>&lt;int&gt;</th><th scope=col>&lt;dbl&gt;</th><th scope=col>&lt;dbl&gt;</th><th scope=col>&lt;dbl&gt;</th><th scope=col>&lt;dbl&gt;</th></tr>\n",
              "</thead>\n",
              "<tbody>\n",
              "\t<tr><td>pred_sad     </td><td>~1</td><td>             </td><td>0</td><td>0.14371920</td><td>0.0031139003</td><td>46.154078</td><td>0.000000e+00</td></tr>\n",
              "\t<tr><td>pred_sad     </td><td>~ </td><td>true_sad     </td><td>0</td><td>0.17837000</td><td>0.0051940779</td><td>34.341033</td><td>0.000000e+00</td></tr>\n",
              "\t<tr><td>pred_sad     </td><td>~ </td><td>Gender_Binary</td><td>0</td><td>0.02441215</td><td>0.0041012614</td><td> 5.952352</td><td>2.643155e-09</td></tr>\n",
              "\t<tr><td>true_sad     </td><td>~1</td><td>             </td><td>0</td><td>0.18206209</td><td>0.0077181656</td><td>23.588778</td><td>0.000000e+00</td></tr>\n",
              "\t<tr><td>true_sad     </td><td>~ </td><td>Gender_Binary</td><td>0</td><td>0.02016943</td><td>0.0106658603</td><td> 1.891027</td><td>5.862077e-02</td></tr>\n",
              "\t<tr><td>pred_sad     </td><td>~~</td><td>pred_sad     </td><td>0</td><td>0.02296476</td><td>0.0004388393</td><td>52.330678</td><td>0.000000e+00</td></tr>\n",
              "\t<tr><td>true_sad     </td><td>~~</td><td>true_sad     </td><td>0</td><td>0.15541834</td><td>0.0029699279</td><td>52.330678</td><td>0.000000e+00</td></tr>\n",
              "\t<tr><td>Gender_Binary</td><td>~~</td><td>Gender_Binary</td><td>1</td><td>0.24944095</td><td>0.0000000000</td><td>       NA</td><td>          NA</td></tr>\n",
              "\t<tr><td>Gender_Binary</td><td>~1</td><td>             </td><td>1</td><td>0.52364433</td><td>0.0000000000</td><td>       NA</td><td>          NA</td></tr>\n",
              "</tbody>\n",
              "</table>\n",
              "</dd>\n",
              "</dl>\n"
            ],
            "text/markdown": "$header\n:   $lavaan.version\n:   '0.6-19'\n$sam.approach\n:   FALSE\n$optim.method\n:   'nlminb'\n$optim.iterations\n:   14\n$optim.converged\n:   TRUE\n\n\n\n$optim\n:   $estimator\n:   'ML'\n$estimator.args\n:   \n\n\n$optim.method\n:   'nlminb'\n$npar\n:   7\n$eq.constraints\n:   FALSE\n$nrow.ceq.jac\n:   0\n$nrow.cin.jac\n:   0\n$nrow.con.jac\n:   0\n$con.jac.rank\n:   0\n\n\n\n$data\n:   $ngroups\n:   1\n$nobs\n:   5477\n$npatterns\n:   1\n\n\n\n$test\n:   **$standard** = $test\n:   'standard'\n$stat\n:   4.86455320469759e-12\n$stat.group\n:   4.86455320469759e-12\n$df\n:   0\n$refdistr\n:   'chisq'\n$pvalue\n:   &lt;NA&gt;\n\n\n\n$fit\n:   npar\n:   7fmin\n:   4.44089209850063e-16chisq\n:   4.86455320469759e-12df\n:   0pvalue\n:   &lt;NA&gt;baseline.chisq\n:   1109.89961541723baseline.df\n:   3baseline.pvalue\n:   0cfi\n:   0.999999999999996tli\n:   1cfi.robust\n:   0.999999999999996tli.robust\n:   1logl\n:   -110.42961212638unrestricted.logl\n:   -110.429612126376aic\n:   234.859224252759bic\n:   281.117413746245ntotal\n:   5477bic2\n:   258.873592611093rmsea\n:   0rmsea.ci.lower\n:   0rmsea.ci.upper\n:   0rmsea.ci.level\n:   0.9rmsea.pvalue\n:   &lt;NA&gt;rmsea.close.h0\n:   0.05rmsea.notclose.pvalue\n:   &lt;NA&gt;rmsea.notclose.h0\n:   0.08rmsea.robust\n:   0rmsea.ci.lower.robust\n:   0rmsea.ci.upper.robust\n:   0rmsea.pvalue.robust\n:   &lt;NA&gt;rmsea.notclose.pvalue.robust\n:   &lt;NA&gt;srmr\n:   1.27892188213018e-08\n\n\n$pe\n:   \nA data.frame: 9 × 8\n\n| lhs &lt;chr&gt; | op &lt;chr&gt; | rhs &lt;chr&gt; | exo &lt;int&gt; | est &lt;dbl&gt; | se &lt;dbl&gt; | z &lt;dbl&gt; | pvalue &lt;dbl&gt; |\n|---|---|---|---|---|---|---|---|\n| pred_sad      | ~1 | <!----> | 0 | 0.14371920 | 0.0031139003 | 46.154078 | 0.000000e+00 |\n| pred_sad      | ~  | true_sad      | 0 | 0.17837000 | 0.0051940779 | 34.341033 | 0.000000e+00 |\n| pred_sad      | ~  | Gender_Binary | 0 | 0.02441215 | 0.0041012614 |  5.952352 | 2.643155e-09 |\n| true_sad      | ~1 | <!----> | 0 | 0.18206209 | 0.0077181656 | 23.588778 | 0.000000e+00 |\n| true_sad      | ~  | Gender_Binary | 0 | 0.02016943 | 0.0106658603 |  1.891027 | 5.862077e-02 |\n| pred_sad      | ~~ | pred_sad      | 0 | 0.02296476 | 0.0004388393 | 52.330678 | 0.000000e+00 |\n| true_sad      | ~~ | true_sad      | 0 | 0.15541834 | 0.0029699279 | 52.330678 | 0.000000e+00 |\n| Gender_Binary | ~~ | Gender_Binary | 1 | 0.24944095 | 0.0000000000 |        NA |           NA |\n| Gender_Binary | ~1 | <!----> | 1 | 0.52364433 | 0.0000000000 |        NA |           NA |\n\n\n\n\n",
            "text/latex": "\\begin{description}\n\\item[\\$header] \\begin{description}\n\\item[\\$lavaan.version] '0.6-19'\n\\item[\\$sam.approach] FALSE\n\\item[\\$optim.method] 'nlminb'\n\\item[\\$optim.iterations] 14\n\\item[\\$optim.converged] TRUE\n\\end{description}\n\n\\item[\\$optim] \\begin{description}\n\\item[\\$estimator] 'ML'\n\\item[\\$estimator.args] \\begin{enumerate}\n\\end{enumerate}\n\n\\item[\\$optim.method] 'nlminb'\n\\item[\\$npar] 7\n\\item[\\$eq.constraints] FALSE\n\\item[\\$nrow.ceq.jac] 0\n\\item[\\$nrow.cin.jac] 0\n\\item[\\$nrow.con.jac] 0\n\\item[\\$con.jac.rank] 0\n\\end{description}\n\n\\item[\\$data] \\begin{description}\n\\item[\\$ngroups] 1\n\\item[\\$nobs] 5477\n\\item[\\$npatterns] 1\n\\end{description}\n\n\\item[\\$test] \\textbf{\\$standard} = \\begin{description}\n\\item[\\$test] 'standard'\n\\item[\\$stat] 4.86455320469759e-12\n\\item[\\$stat.group] 4.86455320469759e-12\n\\item[\\$df] 0\n\\item[\\$refdistr] 'chisq'\n\\item[\\$pvalue] <NA>\n\\end{description}\n\n\\item[\\$fit] \\begin{description*}\n\\item[npar] 7\n\\item[fmin] 4.44089209850063e-16\n\\item[chisq] 4.86455320469759e-12\n\\item[df] 0\n\\item[pvalue] <NA>\n\\item[baseline.chisq] 1109.89961541723\n\\item[baseline.df] 3\n\\item[baseline.pvalue] 0\n\\item[cfi] 0.999999999999996\n\\item[tli] 1\n\\item[cfi.robust] 0.999999999999996\n\\item[tli.robust] 1\n\\item[logl] -110.42961212638\n\\item[unrestricted.logl] -110.429612126376\n\\item[aic] 234.859224252759\n\\item[bic] 281.117413746245\n\\item[ntotal] 5477\n\\item[bic2] 258.873592611093\n\\item[rmsea] 0\n\\item[rmsea.ci.lower] 0\n\\item[rmsea.ci.upper] 0\n\\item[rmsea.ci.level] 0.9\n\\item[rmsea.pvalue] <NA>\n\\item[rmsea.close.h0] 0.05\n\\item[rmsea.notclose.pvalue] <NA>\n\\item[rmsea.notclose.h0] 0.08\n\\item[rmsea.robust] 0\n\\item[rmsea.ci.lower.robust] 0\n\\item[rmsea.ci.upper.robust] 0\n\\item[rmsea.pvalue.robust] <NA>\n\\item[rmsea.notclose.pvalue.robust] <NA>\n\\item[srmr] 1.27892188213018e-08\n\\end{description*}\n\n\\item[\\$pe] A data.frame: 9 × 8\n\\begin{tabular}{llllllll}\n lhs & op & rhs & exo & est & se & z & pvalue\\\\\n <chr> & <chr> & <chr> & <int> & <dbl> & <dbl> & <dbl> & <dbl>\\\\\n\\hline\n\t pred\\_sad      & \\textasciitilde{}1 &               & 0 & 0.14371920 & 0.0031139003 & 46.154078 & 0.000000e+00\\\\\n\t pred\\_sad      & \\textasciitilde{}  & true\\_sad      & 0 & 0.17837000 & 0.0051940779 & 34.341033 & 0.000000e+00\\\\\n\t pred\\_sad      & \\textasciitilde{}  & Gender\\_Binary & 0 & 0.02441215 & 0.0041012614 &  5.952352 & 2.643155e-09\\\\\n\t true\\_sad      & \\textasciitilde{}1 &               & 0 & 0.18206209 & 0.0077181656 & 23.588778 & 0.000000e+00\\\\\n\t true\\_sad      & \\textasciitilde{}  & Gender\\_Binary & 0 & 0.02016943 & 0.0106658603 &  1.891027 & 5.862077e-02\\\\\n\t pred\\_sad      & \\textasciitilde{}\\textasciitilde{} & pred\\_sad      & 0 & 0.02296476 & 0.0004388393 & 52.330678 & 0.000000e+00\\\\\n\t true\\_sad      & \\textasciitilde{}\\textasciitilde{} & true\\_sad      & 0 & 0.15541834 & 0.0029699279 & 52.330678 & 0.000000e+00\\\\\n\t Gender\\_Binary & \\textasciitilde{}\\textasciitilde{} & Gender\\_Binary & 1 & 0.24944095 & 0.0000000000 &        NA &           NA\\\\\n\t Gender\\_Binary & \\textasciitilde{}1 &               & 1 & 0.52364433 & 0.0000000000 &        NA &           NA\\\\\n\\end{tabular}\n\n\\end{description}\n",
            "text/plain": [
              "lavaan 0.6-19 ended normally after 14 iterations\n",
              "\n",
              "  Estimator                                         ML\n",
              "  Optimization method                           NLMINB\n",
              "  Number of model parameters                         7\n",
              "\n",
              "  Number of observations                          5477\n",
              "  Number of missing patterns                         1\n",
              "\n",
              "Model Test User Model:\n",
              "                                                      \n",
              "  Test statistic                                 0.000\n",
              "  Degrees of freedom                                 0\n",
              "\n",
              "Model Test Baseline Model:\n",
              "\n",
              "  Test statistic                              1109.900\n",
              "  Degrees of freedom                                 3\n",
              "  P-value                                        0.000\n",
              "\n",
              "User Model versus Baseline Model:\n",
              "\n",
              "  Comparative Fit Index (CFI)                    1.000\n",
              "  Tucker-Lewis Index (TLI)                       1.000\n",
              "                                                      \n",
              "  Robust Comparative Fit Index (CFI)             1.000\n",
              "  Robust Tucker-Lewis Index (TLI)                1.000\n",
              "\n",
              "Loglikelihood and Information Criteria:\n",
              "\n",
              "  Loglikelihood user model (H0)               -110.430\n",
              "  Loglikelihood unrestricted model (H1)       -110.430\n",
              "                                                      \n",
              "  Akaike (AIC)                                 234.859\n",
              "  Bayesian (BIC)                               281.117\n",
              "  Sample-size adjusted Bayesian (SABIC)        258.874\n",
              "\n",
              "Root Mean Square Error of Approximation:\n",
              "\n",
              "  RMSEA                                          0.000\n",
              "  90 Percent confidence interval - lower         0.000\n",
              "  90 Percent confidence interval - upper         0.000\n",
              "  P-value H_0: RMSEA <= 0.050                       NA\n",
              "  P-value H_0: RMSEA >= 0.080                       NA\n",
              "                                                      \n",
              "  Robust RMSEA                                   0.000\n",
              "  90 Percent confidence interval - lower         0.000\n",
              "  90 Percent confidence interval - upper         0.000\n",
              "  P-value H_0: Robust RMSEA <= 0.050                NA\n",
              "  P-value H_0: Robust RMSEA >= 0.080                NA\n",
              "\n",
              "Standardized Root Mean Square Residual:\n",
              "\n",
              "  SRMR                                           0.000\n",
              "\n",
              "Parameter Estimates:\n",
              "\n",
              "  Standard errors                             Standard\n",
              "  Information                                 Observed\n",
              "  Observed information based on                Hessian\n",
              "\n",
              "Regressions:\n",
              "                   Estimate  Std.Err  z-value  P(>|z|)\n",
              "  pred_sad ~                                          \n",
              "    true_sad          0.178    0.005   34.341    0.000\n",
              "    Gender_Binary     0.024    0.004    5.952    0.000\n",
              "  true_sad ~                                          \n",
              "    Gender_Binary     0.020    0.011    1.891    0.059\n",
              "\n",
              "Intercepts:\n",
              "                   Estimate  Std.Err  z-value  P(>|z|)\n",
              "   .pred_sad          0.144    0.003   46.154    0.000\n",
              "   .true_sad          0.182    0.008   23.589    0.000\n",
              "\n",
              "Variances:\n",
              "                   Estimate  Std.Err  z-value  P(>|z|)\n",
              "   .pred_sad          0.023    0.000   52.331    0.000\n",
              "   .true_sad          0.155    0.003   52.331    0.000\n"
            ]
          },
          "metadata": {}
        }
      ]
    },
    {
      "cell_type": "code",
      "source": [
        "sem_results$fear"
      ],
      "metadata": {
        "colab": {
          "base_uri": "https://localhost:8080/",
          "height": 1000
        },
        "id": "4-qc3tr0mxuJ",
        "outputId": "c66ea78e-dc99-4cf2-edd5-3865a233cc82"
      },
      "execution_count": 119,
      "outputs": [
        {
          "output_type": "display_data",
          "data": {
            "text/html": [
              "<dl>\n",
              "\t<dt>$header</dt>\n",
              "\t\t<dd><dl>\n",
              "\t<dt>$lavaan.version</dt>\n",
              "\t\t<dd>'0.6-19'</dd>\n",
              "\t<dt>$sam.approach</dt>\n",
              "\t\t<dd>FALSE</dd>\n",
              "\t<dt>$optim.method</dt>\n",
              "\t\t<dd>'nlminb'</dd>\n",
              "\t<dt>$optim.iterations</dt>\n",
              "\t\t<dd>15</dd>\n",
              "\t<dt>$optim.converged</dt>\n",
              "\t\t<dd>TRUE</dd>\n",
              "</dl>\n",
              "</dd>\n",
              "\t<dt>$optim</dt>\n",
              "\t\t<dd><dl>\n",
              "\t<dt>$estimator</dt>\n",
              "\t\t<dd>'ML'</dd>\n",
              "\t<dt>$estimator.args</dt>\n",
              "\t\t<dd><ol>\n",
              "</ol>\n",
              "</dd>\n",
              "\t<dt>$optim.method</dt>\n",
              "\t\t<dd>'nlminb'</dd>\n",
              "\t<dt>$npar</dt>\n",
              "\t\t<dd>7</dd>\n",
              "\t<dt>$eq.constraints</dt>\n",
              "\t\t<dd>FALSE</dd>\n",
              "\t<dt>$nrow.ceq.jac</dt>\n",
              "\t\t<dd>0</dd>\n",
              "\t<dt>$nrow.cin.jac</dt>\n",
              "\t\t<dd>0</dd>\n",
              "\t<dt>$nrow.con.jac</dt>\n",
              "\t\t<dd>0</dd>\n",
              "\t<dt>$con.jac.rank</dt>\n",
              "\t\t<dd>0</dd>\n",
              "</dl>\n",
              "</dd>\n",
              "\t<dt>$data</dt>\n",
              "\t\t<dd><dl>\n",
              "\t<dt>$ngroups</dt>\n",
              "\t\t<dd>1</dd>\n",
              "\t<dt>$nobs</dt>\n",
              "\t\t<dd>5477</dd>\n",
              "\t<dt>$npatterns</dt>\n",
              "\t\t<dd>1</dd>\n",
              "</dl>\n",
              "</dd>\n",
              "\t<dt>$test</dt>\n",
              "\t\t<dd><strong>$standard</strong> = <dl>\n",
              "\t<dt>$test</dt>\n",
              "\t\t<dd>'standard'</dd>\n",
              "\t<dt>$stat</dt>\n",
              "\t\t<dd>4.86455320469759e-12</dd>\n",
              "\t<dt>$stat.group</dt>\n",
              "\t\t<dd>4.86455320469759e-12</dd>\n",
              "\t<dt>$df</dt>\n",
              "\t\t<dd>0</dd>\n",
              "\t<dt>$refdistr</dt>\n",
              "\t\t<dd>'chisq'</dd>\n",
              "\t<dt>$pvalue</dt>\n",
              "\t\t<dd>&lt;NA&gt;</dd>\n",
              "</dl>\n",
              "</dd>\n",
              "\t<dt>$fit</dt>\n",
              "\t\t<dd><style>\n",
              ".dl-inline {width: auto; margin:0; padding: 0}\n",
              ".dl-inline>dt, .dl-inline>dd {float: none; width: auto; display: inline-block}\n",
              ".dl-inline>dt::after {content: \":\\0020\"; padding-right: .5ex}\n",
              ".dl-inline>dt:not(:first-of-type) {padding-left: .5ex}\n",
              "</style><dl class=dl-inline><dt>npar</dt><dd>7</dd><dt>fmin</dt><dd>4.44089209850063e-16</dd><dt>chisq</dt><dd>4.86455320469759e-12</dd><dt>df</dt><dd>0</dd><dt>pvalue</dt><dd>&lt;NA&gt;</dd><dt>baseline.chisq</dt><dd>569.5764892835</dd><dt>baseline.df</dt><dd>3</dd><dt>baseline.pvalue</dt><dd>0</dd><dt>cfi</dt><dd>0.999999999999991</dd><dt>tli</dt><dd>1</dd><dt>cfi.robust</dt><dd>0.999999999999991</dd><dt>tli.robust</dt><dd>1</dd><dt>logl</dt><dd>4270.35463498552</dd><dt>unrestricted.logl</dt><dd>4270.35463498553</dd><dt>aic</dt><dd>-8526.70926997105</dd><dt>bic</dt><dd>-8480.45108047756</dd><dt>ntotal</dt><dd>5477</dd><dt>bic2</dt><dd>-8502.69490161271</dd><dt>rmsea</dt><dd>0</dd><dt>rmsea.ci.lower</dt><dd>0</dd><dt>rmsea.ci.upper</dt><dd>0</dd><dt>rmsea.ci.level</dt><dd>0.9</dd><dt>rmsea.pvalue</dt><dd>&lt;NA&gt;</dd><dt>rmsea.close.h0</dt><dd>0.05</dd><dt>rmsea.notclose.pvalue</dt><dd>&lt;NA&gt;</dd><dt>rmsea.notclose.h0</dt><dd>0.08</dd><dt>rmsea.robust</dt><dd>0</dd><dt>rmsea.ci.lower.robust</dt><dd>0</dd><dt>rmsea.ci.upper.robust</dt><dd>0</dd><dt>rmsea.pvalue.robust</dt><dd>&lt;NA&gt;</dd><dt>rmsea.notclose.pvalue.robust</dt><dd>&lt;NA&gt;</dd><dt>srmr</dt><dd>3.91599837133511e-09</dd></dl>\n",
              "</dd>\n",
              "\t<dt>$pe</dt>\n",
              "\t\t<dd><table class=\"dataframe\">\n",
              "<caption>A data.frame: 9 × 8</caption>\n",
              "<thead>\n",
              "\t<tr><th scope=col>lhs</th><th scope=col>op</th><th scope=col>rhs</th><th scope=col>exo</th><th scope=col>est</th><th scope=col>se</th><th scope=col>z</th><th scope=col>pvalue</th></tr>\n",
              "\t<tr><th scope=col>&lt;chr&gt;</th><th scope=col>&lt;chr&gt;</th><th scope=col>&lt;chr&gt;</th><th scope=col>&lt;int&gt;</th><th scope=col>&lt;dbl&gt;</th><th scope=col>&lt;dbl&gt;</th><th scope=col>&lt;dbl&gt;</th><th scope=col>&lt;dbl&gt;</th></tr>\n",
              "</thead>\n",
              "<tbody>\n",
              "\t<tr><td>pred_fear    </td><td>~1</td><td>             </td><td>0</td><td> 0.0852838533</td><td>0.001783219</td><td>47.82577553</td><td>0.0000000</td></tr>\n",
              "\t<tr><td>pred_fear    </td><td>~ </td><td>true_fear    </td><td>0</td><td> 0.0964292859</td><td>0.003940584</td><td>24.47080809</td><td>0.0000000</td></tr>\n",
              "\t<tr><td>pred_fear    </td><td>~ </td><td>Gender_Binary</td><td>0</td><td> 0.0001316176</td><td>0.002394219</td><td> 0.05497306</td><td>0.9561599</td></tr>\n",
              "\t<tr><td>true_fear    </td><td>~1</td><td>             </td><td>0</td><td> 0.1073208126</td><td>0.005940220</td><td>18.06680717</td><td>0.0000000</td></tr>\n",
              "\t<tr><td>true_fear    </td><td>~ </td><td>Gender_Binary</td><td>0</td><td>-0.0089944527</td><td>0.008208888</td><td>-1.09569683</td><td>0.2732115</td></tr>\n",
              "\t<tr><td>pred_fear    </td><td>~~</td><td>pred_fear    </td><td>0</td><td> 0.0078296652</td><td>0.000149619</td><td>52.33067935</td><td>0.0000000</td></tr>\n",
              "\t<tr><td>true_fear    </td><td>~~</td><td>true_fear    </td><td>0</td><td> 0.0920617371</td><td>0.001759231</td><td>52.33067985</td><td>0.0000000</td></tr>\n",
              "\t<tr><td>Gender_Binary</td><td>~~</td><td>Gender_Binary</td><td>1</td><td> 0.2494409456</td><td>0.000000000</td><td>         NA</td><td>       NA</td></tr>\n",
              "\t<tr><td>Gender_Binary</td><td>~1</td><td>             </td><td>1</td><td> 0.5236443308</td><td>0.000000000</td><td>         NA</td><td>       NA</td></tr>\n",
              "</tbody>\n",
              "</table>\n",
              "</dd>\n",
              "</dl>\n"
            ],
            "text/markdown": "$header\n:   $lavaan.version\n:   '0.6-19'\n$sam.approach\n:   FALSE\n$optim.method\n:   'nlminb'\n$optim.iterations\n:   15\n$optim.converged\n:   TRUE\n\n\n\n$optim\n:   $estimator\n:   'ML'\n$estimator.args\n:   \n\n\n$optim.method\n:   'nlminb'\n$npar\n:   7\n$eq.constraints\n:   FALSE\n$nrow.ceq.jac\n:   0\n$nrow.cin.jac\n:   0\n$nrow.con.jac\n:   0\n$con.jac.rank\n:   0\n\n\n\n$data\n:   $ngroups\n:   1\n$nobs\n:   5477\n$npatterns\n:   1\n\n\n\n$test\n:   **$standard** = $test\n:   'standard'\n$stat\n:   4.86455320469759e-12\n$stat.group\n:   4.86455320469759e-12\n$df\n:   0\n$refdistr\n:   'chisq'\n$pvalue\n:   &lt;NA&gt;\n\n\n\n$fit\n:   npar\n:   7fmin\n:   4.44089209850063e-16chisq\n:   4.86455320469759e-12df\n:   0pvalue\n:   &lt;NA&gt;baseline.chisq\n:   569.5764892835baseline.df\n:   3baseline.pvalue\n:   0cfi\n:   0.999999999999991tli\n:   1cfi.robust\n:   0.999999999999991tli.robust\n:   1logl\n:   4270.35463498552unrestricted.logl\n:   4270.35463498553aic\n:   -8526.70926997105bic\n:   -8480.45108047756ntotal\n:   5477bic2\n:   -8502.69490161271rmsea\n:   0rmsea.ci.lower\n:   0rmsea.ci.upper\n:   0rmsea.ci.level\n:   0.9rmsea.pvalue\n:   &lt;NA&gt;rmsea.close.h0\n:   0.05rmsea.notclose.pvalue\n:   &lt;NA&gt;rmsea.notclose.h0\n:   0.08rmsea.robust\n:   0rmsea.ci.lower.robust\n:   0rmsea.ci.upper.robust\n:   0rmsea.pvalue.robust\n:   &lt;NA&gt;rmsea.notclose.pvalue.robust\n:   &lt;NA&gt;srmr\n:   3.91599837133511e-09\n\n\n$pe\n:   \nA data.frame: 9 × 8\n\n| lhs &lt;chr&gt; | op &lt;chr&gt; | rhs &lt;chr&gt; | exo &lt;int&gt; | est &lt;dbl&gt; | se &lt;dbl&gt; | z &lt;dbl&gt; | pvalue &lt;dbl&gt; |\n|---|---|---|---|---|---|---|---|\n| pred_fear     | ~1 | <!----> | 0 |  0.0852838533 | 0.001783219 | 47.82577553 | 0.0000000 |\n| pred_fear     | ~  | true_fear     | 0 |  0.0964292859 | 0.003940584 | 24.47080809 | 0.0000000 |\n| pred_fear     | ~  | Gender_Binary | 0 |  0.0001316176 | 0.002394219 |  0.05497306 | 0.9561599 |\n| true_fear     | ~1 | <!----> | 0 |  0.1073208126 | 0.005940220 | 18.06680717 | 0.0000000 |\n| true_fear     | ~  | Gender_Binary | 0 | -0.0089944527 | 0.008208888 | -1.09569683 | 0.2732115 |\n| pred_fear     | ~~ | pred_fear     | 0 |  0.0078296652 | 0.000149619 | 52.33067935 | 0.0000000 |\n| true_fear     | ~~ | true_fear     | 0 |  0.0920617371 | 0.001759231 | 52.33067985 | 0.0000000 |\n| Gender_Binary | ~~ | Gender_Binary | 1 |  0.2494409456 | 0.000000000 |          NA |        NA |\n| Gender_Binary | ~1 | <!----> | 1 |  0.5236443308 | 0.000000000 |          NA |        NA |\n\n\n\n\n",
            "text/latex": "\\begin{description}\n\\item[\\$header] \\begin{description}\n\\item[\\$lavaan.version] '0.6-19'\n\\item[\\$sam.approach] FALSE\n\\item[\\$optim.method] 'nlminb'\n\\item[\\$optim.iterations] 15\n\\item[\\$optim.converged] TRUE\n\\end{description}\n\n\\item[\\$optim] \\begin{description}\n\\item[\\$estimator] 'ML'\n\\item[\\$estimator.args] \\begin{enumerate}\n\\end{enumerate}\n\n\\item[\\$optim.method] 'nlminb'\n\\item[\\$npar] 7\n\\item[\\$eq.constraints] FALSE\n\\item[\\$nrow.ceq.jac] 0\n\\item[\\$nrow.cin.jac] 0\n\\item[\\$nrow.con.jac] 0\n\\item[\\$con.jac.rank] 0\n\\end{description}\n\n\\item[\\$data] \\begin{description}\n\\item[\\$ngroups] 1\n\\item[\\$nobs] 5477\n\\item[\\$npatterns] 1\n\\end{description}\n\n\\item[\\$test] \\textbf{\\$standard} = \\begin{description}\n\\item[\\$test] 'standard'\n\\item[\\$stat] 4.86455320469759e-12\n\\item[\\$stat.group] 4.86455320469759e-12\n\\item[\\$df] 0\n\\item[\\$refdistr] 'chisq'\n\\item[\\$pvalue] <NA>\n\\end{description}\n\n\\item[\\$fit] \\begin{description*}\n\\item[npar] 7\n\\item[fmin] 4.44089209850063e-16\n\\item[chisq] 4.86455320469759e-12\n\\item[df] 0\n\\item[pvalue] <NA>\n\\item[baseline.chisq] 569.5764892835\n\\item[baseline.df] 3\n\\item[baseline.pvalue] 0\n\\item[cfi] 0.999999999999991\n\\item[tli] 1\n\\item[cfi.robust] 0.999999999999991\n\\item[tli.robust] 1\n\\item[logl] 4270.35463498552\n\\item[unrestricted.logl] 4270.35463498553\n\\item[aic] -8526.70926997105\n\\item[bic] -8480.45108047756\n\\item[ntotal] 5477\n\\item[bic2] -8502.69490161271\n\\item[rmsea] 0\n\\item[rmsea.ci.lower] 0\n\\item[rmsea.ci.upper] 0\n\\item[rmsea.ci.level] 0.9\n\\item[rmsea.pvalue] <NA>\n\\item[rmsea.close.h0] 0.05\n\\item[rmsea.notclose.pvalue] <NA>\n\\item[rmsea.notclose.h0] 0.08\n\\item[rmsea.robust] 0\n\\item[rmsea.ci.lower.robust] 0\n\\item[rmsea.ci.upper.robust] 0\n\\item[rmsea.pvalue.robust] <NA>\n\\item[rmsea.notclose.pvalue.robust] <NA>\n\\item[srmr] 3.91599837133511e-09\n\\end{description*}\n\n\\item[\\$pe] A data.frame: 9 × 8\n\\begin{tabular}{llllllll}\n lhs & op & rhs & exo & est & se & z & pvalue\\\\\n <chr> & <chr> & <chr> & <int> & <dbl> & <dbl> & <dbl> & <dbl>\\\\\n\\hline\n\t pred\\_fear     & \\textasciitilde{}1 &               & 0 &  0.0852838533 & 0.001783219 & 47.82577553 & 0.0000000\\\\\n\t pred\\_fear     & \\textasciitilde{}  & true\\_fear     & 0 &  0.0964292859 & 0.003940584 & 24.47080809 & 0.0000000\\\\\n\t pred\\_fear     & \\textasciitilde{}  & Gender\\_Binary & 0 &  0.0001316176 & 0.002394219 &  0.05497306 & 0.9561599\\\\\n\t true\\_fear     & \\textasciitilde{}1 &               & 0 &  0.1073208126 & 0.005940220 & 18.06680717 & 0.0000000\\\\\n\t true\\_fear     & \\textasciitilde{}  & Gender\\_Binary & 0 & -0.0089944527 & 0.008208888 & -1.09569683 & 0.2732115\\\\\n\t pred\\_fear     & \\textasciitilde{}\\textasciitilde{} & pred\\_fear     & 0 &  0.0078296652 & 0.000149619 & 52.33067935 & 0.0000000\\\\\n\t true\\_fear     & \\textasciitilde{}\\textasciitilde{} & true\\_fear     & 0 &  0.0920617371 & 0.001759231 & 52.33067985 & 0.0000000\\\\\n\t Gender\\_Binary & \\textasciitilde{}\\textasciitilde{} & Gender\\_Binary & 1 &  0.2494409456 & 0.000000000 &          NA &        NA\\\\\n\t Gender\\_Binary & \\textasciitilde{}1 &               & 1 &  0.5236443308 & 0.000000000 &          NA &        NA\\\\\n\\end{tabular}\n\n\\end{description}\n",
            "text/plain": [
              "lavaan 0.6-19 ended normally after 15 iterations\n",
              "\n",
              "  Estimator                                         ML\n",
              "  Optimization method                           NLMINB\n",
              "  Number of model parameters                         7\n",
              "\n",
              "  Number of observations                          5477\n",
              "  Number of missing patterns                         1\n",
              "\n",
              "Model Test User Model:\n",
              "                                                      \n",
              "  Test statistic                                 0.000\n",
              "  Degrees of freedom                                 0\n",
              "\n",
              "Model Test Baseline Model:\n",
              "\n",
              "  Test statistic                               569.576\n",
              "  Degrees of freedom                                 3\n",
              "  P-value                                        0.000\n",
              "\n",
              "User Model versus Baseline Model:\n",
              "\n",
              "  Comparative Fit Index (CFI)                    1.000\n",
              "  Tucker-Lewis Index (TLI)                       1.000\n",
              "                                                      \n",
              "  Robust Comparative Fit Index (CFI)             1.000\n",
              "  Robust Tucker-Lewis Index (TLI)                1.000\n",
              "\n",
              "Loglikelihood and Information Criteria:\n",
              "\n",
              "  Loglikelihood user model (H0)               4270.355\n",
              "  Loglikelihood unrestricted model (H1)       4270.355\n",
              "                                                      \n",
              "  Akaike (AIC)                               -8526.709\n",
              "  Bayesian (BIC)                             -8480.451\n",
              "  Sample-size adjusted Bayesian (SABIC)      -8502.695\n",
              "\n",
              "Root Mean Square Error of Approximation:\n",
              "\n",
              "  RMSEA                                          0.000\n",
              "  90 Percent confidence interval - lower         0.000\n",
              "  90 Percent confidence interval - upper         0.000\n",
              "  P-value H_0: RMSEA <= 0.050                       NA\n",
              "  P-value H_0: RMSEA >= 0.080                       NA\n",
              "                                                      \n",
              "  Robust RMSEA                                   0.000\n",
              "  90 Percent confidence interval - lower         0.000\n",
              "  90 Percent confidence interval - upper         0.000\n",
              "  P-value H_0: Robust RMSEA <= 0.050                NA\n",
              "  P-value H_0: Robust RMSEA >= 0.080                NA\n",
              "\n",
              "Standardized Root Mean Square Residual:\n",
              "\n",
              "  SRMR                                           0.000\n",
              "\n",
              "Parameter Estimates:\n",
              "\n",
              "  Standard errors                             Standard\n",
              "  Information                                 Observed\n",
              "  Observed information based on                Hessian\n",
              "\n",
              "Regressions:\n",
              "                   Estimate  Std.Err  z-value  P(>|z|)\n",
              "  pred_fear ~                                         \n",
              "    true_fear         0.096    0.004   24.471    0.000\n",
              "    Gender_Binary     0.000    0.002    0.055    0.956\n",
              "  true_fear ~                                         \n",
              "    Gender_Binary    -0.009    0.008   -1.096    0.273\n",
              "\n",
              "Intercepts:\n",
              "                   Estimate  Std.Err  z-value  P(>|z|)\n",
              "   .pred_fear         0.085    0.002   47.826    0.000\n",
              "   .true_fear         0.107    0.006   18.067    0.000\n",
              "\n",
              "Variances:\n",
              "                   Estimate  Std.Err  z-value  P(>|z|)\n",
              "   .pred_fear         0.008    0.000   52.331    0.000\n",
              "   .true_fear         0.092    0.002   52.331    0.000\n"
            ]
          },
          "metadata": {}
        }
      ]
    },
    {
      "cell_type": "code",
      "source": [
        "sem_results$disgust"
      ],
      "metadata": {
        "colab": {
          "base_uri": "https://localhost:8080/",
          "height": 1000
        },
        "id": "9e39bTFJm1Gw",
        "outputId": "a7c8819f-f58f-4145-b413-07d5da8efc19"
      },
      "execution_count": 120,
      "outputs": [
        {
          "output_type": "display_data",
          "data": {
            "text/html": [
              "<dl>\n",
              "\t<dt>$header</dt>\n",
              "\t\t<dd><dl>\n",
              "\t<dt>$lavaan.version</dt>\n",
              "\t\t<dd>'0.6-19'</dd>\n",
              "\t<dt>$sam.approach</dt>\n",
              "\t\t<dd>FALSE</dd>\n",
              "\t<dt>$optim.method</dt>\n",
              "\t\t<dd>'nlminb'</dd>\n",
              "\t<dt>$optim.iterations</dt>\n",
              "\t\t<dd>45</dd>\n",
              "\t<dt>$optim.converged</dt>\n",
              "\t\t<dd>TRUE</dd>\n",
              "</dl>\n",
              "</dd>\n",
              "\t<dt>$optim</dt>\n",
              "\t\t<dd><dl>\n",
              "\t<dt>$estimator</dt>\n",
              "\t\t<dd>'ML'</dd>\n",
              "\t<dt>$estimator.args</dt>\n",
              "\t\t<dd><ol>\n",
              "</ol>\n",
              "</dd>\n",
              "\t<dt>$optim.method</dt>\n",
              "\t\t<dd>'nlminb'</dd>\n",
              "\t<dt>$npar</dt>\n",
              "\t\t<dd>7</dd>\n",
              "\t<dt>$eq.constraints</dt>\n",
              "\t\t<dd>FALSE</dd>\n",
              "\t<dt>$nrow.ceq.jac</dt>\n",
              "\t\t<dd>0</dd>\n",
              "\t<dt>$nrow.cin.jac</dt>\n",
              "\t\t<dd>0</dd>\n",
              "\t<dt>$nrow.con.jac</dt>\n",
              "\t\t<dd>0</dd>\n",
              "\t<dt>$con.jac.rank</dt>\n",
              "\t\t<dd>0</dd>\n",
              "</dl>\n",
              "</dd>\n",
              "\t<dt>$data</dt>\n",
              "\t\t<dd><dl>\n",
              "\t<dt>$ngroups</dt>\n",
              "\t\t<dd>1</dd>\n",
              "\t<dt>$nobs</dt>\n",
              "\t\t<dd>5477</dd>\n",
              "\t<dt>$npatterns</dt>\n",
              "\t\t<dd>1</dd>\n",
              "</dl>\n",
              "</dd>\n",
              "\t<dt>$test</dt>\n",
              "\t\t<dd><strong>$standard</strong> = <dl>\n",
              "\t<dt>$test</dt>\n",
              "\t\t<dd>'standard'</dd>\n",
              "\t<dt>$stat</dt>\n",
              "\t\t<dd>1.94582128187903e-11</dd>\n",
              "\t<dt>$stat.group</dt>\n",
              "\t\t<dd>1.94582128187903e-11</dd>\n",
              "\t<dt>$df</dt>\n",
              "\t\t<dd>0</dd>\n",
              "\t<dt>$refdistr</dt>\n",
              "\t\t<dd>'chisq'</dd>\n",
              "\t<dt>$pvalue</dt>\n",
              "\t\t<dd>&lt;NA&gt;</dd>\n",
              "</dl>\n",
              "</dd>\n",
              "\t<dt>$fit</dt>\n",
              "\t\t<dd><style>\n",
              ".dl-inline {width: auto; margin:0; padding: 0}\n",
              ".dl-inline>dt, .dl-inline>dd {float: none; width: auto; display: inline-block}\n",
              ".dl-inline>dt::after {content: \":\\0020\"; padding-right: .5ex}\n",
              ".dl-inline>dt:not(:first-of-type) {padding-left: .5ex}\n",
              "</style><dl class=dl-inline><dt>npar</dt><dd>7</dd><dt>fmin</dt><dd>1.77635683940025e-15</dd><dt>chisq</dt><dd>1.94582128187903e-11</dd><dt>df</dt><dd>0</dd><dt>pvalue</dt><dd>&lt;NA&gt;</dd><dt>baseline.chisq</dt><dd>41.8318653476077</dd><dt>baseline.df</dt><dd>3</dd><dt>baseline.pvalue</dt><dd>4.35564462275551e-09</dd><dt>cfi</dt><dd>0.999999999999499</dd><dt>tli</dt><dd>1</dd><dt>cfi.robust</dt><dd>0.999999999999499</dd><dt>tli.robust</dt><dd>1</dd><dt>logl</dt><dd>32647.2765041259</dd><dt>unrestricted.logl</dt><dd>32647.2765041259</dd><dt>aic</dt><dd>-65280.5530082518</dd><dt>bic</dt><dd>-65234.2948187583</dd><dt>ntotal</dt><dd>5477</dd><dt>bic2</dt><dd>-65256.5386398935</dd><dt>rmsea</dt><dd>0</dd><dt>rmsea.ci.lower</dt><dd>0</dd><dt>rmsea.ci.upper</dt><dd>0</dd><dt>rmsea.ci.level</dt><dd>0.9</dd><dt>rmsea.pvalue</dt><dd>&lt;NA&gt;</dd><dt>rmsea.close.h0</dt><dd>0.05</dd><dt>rmsea.notclose.pvalue</dt><dd>&lt;NA&gt;</dd><dt>rmsea.notclose.h0</dt><dd>0.08</dd><dt>rmsea.robust</dt><dd>0</dd><dt>rmsea.ci.lower.robust</dt><dd>0</dd><dt>rmsea.ci.upper.robust</dt><dd>0</dd><dt>rmsea.pvalue.robust</dt><dd>&lt;NA&gt;</dd><dt>rmsea.notclose.pvalue.robust</dt><dd>&lt;NA&gt;</dd><dt>srmr</dt><dd>5.49193850538753e-10</dd></dl>\n",
              "</dd>\n",
              "\t<dt>$pe</dt>\n",
              "\t\t<dd><table class=\"dataframe\">\n",
              "<caption>A data.frame: 9 × 8</caption>\n",
              "<thead>\n",
              "\t<tr><th scope=col>lhs</th><th scope=col>op</th><th scope=col>rhs</th><th scope=col>exo</th><th scope=col>est</th><th scope=col>se</th><th scope=col>z</th><th scope=col>pvalue</th></tr>\n",
              "\t<tr><th scope=col>&lt;chr&gt;</th><th scope=col>&lt;chr&gt;</th><th scope=col>&lt;chr&gt;</th><th scope=col>&lt;int&gt;</th><th scope=col>&lt;dbl&gt;</th><th scope=col>&lt;dbl&gt;</th><th scope=col>&lt;dbl&gt;</th><th scope=col>&lt;dbl&gt;</th></tr>\n",
              "</thead>\n",
              "<tbody>\n",
              "\t<tr><td>pred_disgust </td><td>~1</td><td>             </td><td>0</td><td>3.139166e-03</td><td>6.074934e-05</td><td>51.6740726</td><td>0.000000e+00</td></tr>\n",
              "\t<tr><td>pred_disgust </td><td>~ </td><td>true_disgust </td><td>0</td><td>4.816634e-03</td><td>8.613507e-04</td><td> 5.5919545</td><td>2.245277e-08</td></tr>\n",
              "\t<tr><td>pred_disgust </td><td>~ </td><td>Gender_Binary</td><td>0</td><td>2.648490e-04</td><td>8.392289e-05</td><td> 3.1558612</td><td>1.600250e-03</td></tr>\n",
              "\t<tr><td>true_disgust </td><td>~1</td><td>             </td><td>0</td><td>1.916443e-03</td><td>9.526422e-04</td><td> 2.0117134</td><td>4.425016e-02</td></tr>\n",
              "\t<tr><td>true_disgust </td><td>~ </td><td>Gender_Binary</td><td>0</td><td>8.729572e-04</td><td>1.316472e-03</td><td> 0.6631036</td><td>5.072642e-01</td></tr>\n",
              "\t<tr><td>pred_disgust </td><td>~~</td><td>pred_disgust </td><td>0</td><td>9.621361e-06</td><td>1.840892e-07</td><td>52.2646678</td><td>0.000000e+00</td></tr>\n",
              "\t<tr><td>true_disgust </td><td>~~</td><td>true_disgust </td><td>0</td><td>2.367738e-03</td><td>4.524570e-05</td><td>52.3306793</td><td>0.000000e+00</td></tr>\n",
              "\t<tr><td>Gender_Binary</td><td>~~</td><td>Gender_Binary</td><td>1</td><td>2.494409e-01</td><td>0.000000e+00</td><td>        NA</td><td>          NA</td></tr>\n",
              "\t<tr><td>Gender_Binary</td><td>~1</td><td>             </td><td>1</td><td>5.236443e-01</td><td>0.000000e+00</td><td>        NA</td><td>          NA</td></tr>\n",
              "</tbody>\n",
              "</table>\n",
              "</dd>\n",
              "</dl>\n"
            ],
            "text/markdown": "$header\n:   $lavaan.version\n:   '0.6-19'\n$sam.approach\n:   FALSE\n$optim.method\n:   'nlminb'\n$optim.iterations\n:   45\n$optim.converged\n:   TRUE\n\n\n\n$optim\n:   $estimator\n:   'ML'\n$estimator.args\n:   \n\n\n$optim.method\n:   'nlminb'\n$npar\n:   7\n$eq.constraints\n:   FALSE\n$nrow.ceq.jac\n:   0\n$nrow.cin.jac\n:   0\n$nrow.con.jac\n:   0\n$con.jac.rank\n:   0\n\n\n\n$data\n:   $ngroups\n:   1\n$nobs\n:   5477\n$npatterns\n:   1\n\n\n\n$test\n:   **$standard** = $test\n:   'standard'\n$stat\n:   1.94582128187903e-11\n$stat.group\n:   1.94582128187903e-11\n$df\n:   0\n$refdistr\n:   'chisq'\n$pvalue\n:   &lt;NA&gt;\n\n\n\n$fit\n:   npar\n:   7fmin\n:   1.77635683940025e-15chisq\n:   1.94582128187903e-11df\n:   0pvalue\n:   &lt;NA&gt;baseline.chisq\n:   41.8318653476077baseline.df\n:   3baseline.pvalue\n:   4.35564462275551e-09cfi\n:   0.999999999999499tli\n:   1cfi.robust\n:   0.999999999999499tli.robust\n:   1logl\n:   32647.2765041259unrestricted.logl\n:   32647.2765041259aic\n:   -65280.5530082518bic\n:   -65234.2948187583ntotal\n:   5477bic2\n:   -65256.5386398935rmsea\n:   0rmsea.ci.lower\n:   0rmsea.ci.upper\n:   0rmsea.ci.level\n:   0.9rmsea.pvalue\n:   &lt;NA&gt;rmsea.close.h0\n:   0.05rmsea.notclose.pvalue\n:   &lt;NA&gt;rmsea.notclose.h0\n:   0.08rmsea.robust\n:   0rmsea.ci.lower.robust\n:   0rmsea.ci.upper.robust\n:   0rmsea.pvalue.robust\n:   &lt;NA&gt;rmsea.notclose.pvalue.robust\n:   &lt;NA&gt;srmr\n:   5.49193850538753e-10\n\n\n$pe\n:   \nA data.frame: 9 × 8\n\n| lhs &lt;chr&gt; | op &lt;chr&gt; | rhs &lt;chr&gt; | exo &lt;int&gt; | est &lt;dbl&gt; | se &lt;dbl&gt; | z &lt;dbl&gt; | pvalue &lt;dbl&gt; |\n|---|---|---|---|---|---|---|---|\n| pred_disgust  | ~1 | <!----> | 0 | 3.139166e-03 | 6.074934e-05 | 51.6740726 | 0.000000e+00 |\n| pred_disgust  | ~  | true_disgust  | 0 | 4.816634e-03 | 8.613507e-04 |  5.5919545 | 2.245277e-08 |\n| pred_disgust  | ~  | Gender_Binary | 0 | 2.648490e-04 | 8.392289e-05 |  3.1558612 | 1.600250e-03 |\n| true_disgust  | ~1 | <!----> | 0 | 1.916443e-03 | 9.526422e-04 |  2.0117134 | 4.425016e-02 |\n| true_disgust  | ~  | Gender_Binary | 0 | 8.729572e-04 | 1.316472e-03 |  0.6631036 | 5.072642e-01 |\n| pred_disgust  | ~~ | pred_disgust  | 0 | 9.621361e-06 | 1.840892e-07 | 52.2646678 | 0.000000e+00 |\n| true_disgust  | ~~ | true_disgust  | 0 | 2.367738e-03 | 4.524570e-05 | 52.3306793 | 0.000000e+00 |\n| Gender_Binary | ~~ | Gender_Binary | 1 | 2.494409e-01 | 0.000000e+00 |         NA |           NA |\n| Gender_Binary | ~1 | <!----> | 1 | 5.236443e-01 | 0.000000e+00 |         NA |           NA |\n\n\n\n\n",
            "text/latex": "\\begin{description}\n\\item[\\$header] \\begin{description}\n\\item[\\$lavaan.version] '0.6-19'\n\\item[\\$sam.approach] FALSE\n\\item[\\$optim.method] 'nlminb'\n\\item[\\$optim.iterations] 45\n\\item[\\$optim.converged] TRUE\n\\end{description}\n\n\\item[\\$optim] \\begin{description}\n\\item[\\$estimator] 'ML'\n\\item[\\$estimator.args] \\begin{enumerate}\n\\end{enumerate}\n\n\\item[\\$optim.method] 'nlminb'\n\\item[\\$npar] 7\n\\item[\\$eq.constraints] FALSE\n\\item[\\$nrow.ceq.jac] 0\n\\item[\\$nrow.cin.jac] 0\n\\item[\\$nrow.con.jac] 0\n\\item[\\$con.jac.rank] 0\n\\end{description}\n\n\\item[\\$data] \\begin{description}\n\\item[\\$ngroups] 1\n\\item[\\$nobs] 5477\n\\item[\\$npatterns] 1\n\\end{description}\n\n\\item[\\$test] \\textbf{\\$standard} = \\begin{description}\n\\item[\\$test] 'standard'\n\\item[\\$stat] 1.94582128187903e-11\n\\item[\\$stat.group] 1.94582128187903e-11\n\\item[\\$df] 0\n\\item[\\$refdistr] 'chisq'\n\\item[\\$pvalue] <NA>\n\\end{description}\n\n\\item[\\$fit] \\begin{description*}\n\\item[npar] 7\n\\item[fmin] 1.77635683940025e-15\n\\item[chisq] 1.94582128187903e-11\n\\item[df] 0\n\\item[pvalue] <NA>\n\\item[baseline.chisq] 41.8318653476077\n\\item[baseline.df] 3\n\\item[baseline.pvalue] 4.35564462275551e-09\n\\item[cfi] 0.999999999999499\n\\item[tli] 1\n\\item[cfi.robust] 0.999999999999499\n\\item[tli.robust] 1\n\\item[logl] 32647.2765041259\n\\item[unrestricted.logl] 32647.2765041259\n\\item[aic] -65280.5530082518\n\\item[bic] -65234.2948187583\n\\item[ntotal] 5477\n\\item[bic2] -65256.5386398935\n\\item[rmsea] 0\n\\item[rmsea.ci.lower] 0\n\\item[rmsea.ci.upper] 0\n\\item[rmsea.ci.level] 0.9\n\\item[rmsea.pvalue] <NA>\n\\item[rmsea.close.h0] 0.05\n\\item[rmsea.notclose.pvalue] <NA>\n\\item[rmsea.notclose.h0] 0.08\n\\item[rmsea.robust] 0\n\\item[rmsea.ci.lower.robust] 0\n\\item[rmsea.ci.upper.robust] 0\n\\item[rmsea.pvalue.robust] <NA>\n\\item[rmsea.notclose.pvalue.robust] <NA>\n\\item[srmr] 5.49193850538753e-10\n\\end{description*}\n\n\\item[\\$pe] A data.frame: 9 × 8\n\\begin{tabular}{llllllll}\n lhs & op & rhs & exo & est & se & z & pvalue\\\\\n <chr> & <chr> & <chr> & <int> & <dbl> & <dbl> & <dbl> & <dbl>\\\\\n\\hline\n\t pred\\_disgust  & \\textasciitilde{}1 &               & 0 & 3.139166e-03 & 6.074934e-05 & 51.6740726 & 0.000000e+00\\\\\n\t pred\\_disgust  & \\textasciitilde{}  & true\\_disgust  & 0 & 4.816634e-03 & 8.613507e-04 &  5.5919545 & 2.245277e-08\\\\\n\t pred\\_disgust  & \\textasciitilde{}  & Gender\\_Binary & 0 & 2.648490e-04 & 8.392289e-05 &  3.1558612 & 1.600250e-03\\\\\n\t true\\_disgust  & \\textasciitilde{}1 &               & 0 & 1.916443e-03 & 9.526422e-04 &  2.0117134 & 4.425016e-02\\\\\n\t true\\_disgust  & \\textasciitilde{}  & Gender\\_Binary & 0 & 8.729572e-04 & 1.316472e-03 &  0.6631036 & 5.072642e-01\\\\\n\t pred\\_disgust  & \\textasciitilde{}\\textasciitilde{} & pred\\_disgust  & 0 & 9.621361e-06 & 1.840892e-07 & 52.2646678 & 0.000000e+00\\\\\n\t true\\_disgust  & \\textasciitilde{}\\textasciitilde{} & true\\_disgust  & 0 & 2.367738e-03 & 4.524570e-05 & 52.3306793 & 0.000000e+00\\\\\n\t Gender\\_Binary & \\textasciitilde{}\\textasciitilde{} & Gender\\_Binary & 1 & 2.494409e-01 & 0.000000e+00 &         NA &           NA\\\\\n\t Gender\\_Binary & \\textasciitilde{}1 &               & 1 & 5.236443e-01 & 0.000000e+00 &         NA &           NA\\\\\n\\end{tabular}\n\n\\end{description}\n",
            "text/plain": [
              "lavaan 0.6-19 ended normally after 45 iterations\n",
              "\n",
              "  Estimator                                         ML\n",
              "  Optimization method                           NLMINB\n",
              "  Number of model parameters                         7\n",
              "\n",
              "  Number of observations                          5477\n",
              "  Number of missing patterns                         1\n",
              "\n",
              "Model Test User Model:\n",
              "                                                      \n",
              "  Test statistic                                 0.000\n",
              "  Degrees of freedom                                 0\n",
              "\n",
              "Model Test Baseline Model:\n",
              "\n",
              "  Test statistic                                41.832\n",
              "  Degrees of freedom                                 3\n",
              "  P-value                                        0.000\n",
              "\n",
              "User Model versus Baseline Model:\n",
              "\n",
              "  Comparative Fit Index (CFI)                    1.000\n",
              "  Tucker-Lewis Index (TLI)                       1.000\n",
              "                                                      \n",
              "  Robust Comparative Fit Index (CFI)             1.000\n",
              "  Robust Tucker-Lewis Index (TLI)                1.000\n",
              "\n",
              "Loglikelihood and Information Criteria:\n",
              "\n",
              "  Loglikelihood user model (H0)              32647.277\n",
              "  Loglikelihood unrestricted model (H1)      32647.277\n",
              "                                                      \n",
              "  Akaike (AIC)                              -65280.553\n",
              "  Bayesian (BIC)                            -65234.295\n",
              "  Sample-size adjusted Bayesian (SABIC)     -65256.539\n",
              "\n",
              "Root Mean Square Error of Approximation:\n",
              "\n",
              "  RMSEA                                          0.000\n",
              "  90 Percent confidence interval - lower         0.000\n",
              "  90 Percent confidence interval - upper         0.000\n",
              "  P-value H_0: RMSEA <= 0.050                       NA\n",
              "  P-value H_0: RMSEA >= 0.080                       NA\n",
              "                                                      \n",
              "  Robust RMSEA                                   0.000\n",
              "  90 Percent confidence interval - lower         0.000\n",
              "  90 Percent confidence interval - upper         0.000\n",
              "  P-value H_0: Robust RMSEA <= 0.050                NA\n",
              "  P-value H_0: Robust RMSEA >= 0.080                NA\n",
              "\n",
              "Standardized Root Mean Square Residual:\n",
              "\n",
              "  SRMR                                           0.000\n",
              "\n",
              "Parameter Estimates:\n",
              "\n",
              "  Standard errors                             Standard\n",
              "  Information                                 Observed\n",
              "  Observed information based on                Hessian\n",
              "\n",
              "Regressions:\n",
              "                   Estimate  Std.Err  z-value  P(>|z|)\n",
              "  pred_disgust ~                                      \n",
              "    true_disgust      0.005    0.001    5.592    0.000\n",
              "    Gender_Binary     0.000    0.000    3.156    0.002\n",
              "  true_disgust ~                                      \n",
              "    Gender_Binary     0.001    0.001    0.663    0.507\n",
              "\n",
              "Intercepts:\n",
              "                   Estimate  Std.Err  z-value  P(>|z|)\n",
              "   .pred_disgust      0.003    0.000   51.674    0.000\n",
              "   .true_disgust      0.002    0.001    2.012    0.044\n",
              "\n",
              "Variances:\n",
              "                   Estimate  Std.Err  z-value  P(>|z|)\n",
              "   .pred_disgust      0.000    0.000   52.265    0.000\n",
              "   .true_disgust      0.002    0.000   52.331    0.000\n"
            ]
          },
          "metadata": {}
        }
      ]
    },
    {
      "cell_type": "code",
      "source": [
        "sem_results$neutral"
      ],
      "metadata": {
        "colab": {
          "base_uri": "https://localhost:8080/",
          "height": 1000
        },
        "id": "ym99_BnOm5vK",
        "outputId": "84c23ac1-a99d-435b-f8e1-ab6d05bad4e8"
      },
      "execution_count": 121,
      "outputs": [
        {
          "output_type": "display_data",
          "data": {
            "text/html": [
              "<dl>\n",
              "\t<dt>$header</dt>\n",
              "\t\t<dd><dl>\n",
              "\t<dt>$lavaan.version</dt>\n",
              "\t\t<dd>'0.6-19'</dd>\n",
              "\t<dt>$sam.approach</dt>\n",
              "\t\t<dd>FALSE</dd>\n",
              "\t<dt>$optim.method</dt>\n",
              "\t\t<dd>'nlminb'</dd>\n",
              "\t<dt>$optim.iterations</dt>\n",
              "\t\t<dd>1</dd>\n",
              "\t<dt>$optim.converged</dt>\n",
              "\t\t<dd>TRUE</dd>\n",
              "</dl>\n",
              "</dd>\n",
              "\t<dt>$optim</dt>\n",
              "\t\t<dd><dl>\n",
              "\t<dt>$estimator</dt>\n",
              "\t\t<dd>'ML'</dd>\n",
              "\t<dt>$estimator.args</dt>\n",
              "\t\t<dd><ol>\n",
              "</ol>\n",
              "</dd>\n",
              "\t<dt>$optim.method</dt>\n",
              "\t\t<dd>'nlminb'</dd>\n",
              "\t<dt>$npar</dt>\n",
              "\t\t<dd>7</dd>\n",
              "\t<dt>$eq.constraints</dt>\n",
              "\t\t<dd>FALSE</dd>\n",
              "\t<dt>$nrow.ceq.jac</dt>\n",
              "\t\t<dd>0</dd>\n",
              "\t<dt>$nrow.cin.jac</dt>\n",
              "\t\t<dd>0</dd>\n",
              "\t<dt>$nrow.con.jac</dt>\n",
              "\t\t<dd>0</dd>\n",
              "\t<dt>$con.jac.rank</dt>\n",
              "\t\t<dd>0</dd>\n",
              "</dl>\n",
              "</dd>\n",
              "\t<dt>$data</dt>\n",
              "\t\t<dd><dl>\n",
              "\t<dt>$ngroups</dt>\n",
              "\t\t<dd>1</dd>\n",
              "\t<dt>$nobs</dt>\n",
              "\t\t<dd>5477</dd>\n",
              "\t<dt>$npatterns</dt>\n",
              "\t\t<dd>1</dd>\n",
              "</dl>\n",
              "</dd>\n",
              "\t<dt>$test</dt>\n",
              "\t\t<dd><strong>$standard</strong> = <dl>\n",
              "\t<dt>$test</dt>\n",
              "\t\t<dd>'standard'</dd>\n",
              "\t<dt>$stat</dt>\n",
              "\t\t<dd>0</dd>\n",
              "\t<dt>$stat.group</dt>\n",
              "\t\t<dd>0</dd>\n",
              "\t<dt>$df</dt>\n",
              "\t\t<dd>0</dd>\n",
              "\t<dt>$refdistr</dt>\n",
              "\t\t<dd>'chisq'</dd>\n",
              "\t<dt>$pvalue</dt>\n",
              "\t\t<dd>&lt;NA&gt;</dd>\n",
              "</dl>\n",
              "</dd>\n",
              "\t<dt>$fit</dt>\n",
              "\t\t<dd><style>\n",
              ".dl-inline {width: auto; margin:0; padding: 0}\n",
              ".dl-inline>dt, .dl-inline>dd {float: none; width: auto; display: inline-block}\n",
              ".dl-inline>dt::after {content: \":\\0020\"; padding-right: .5ex}\n",
              ".dl-inline>dt:not(:first-of-type) {padding-left: .5ex}\n",
              "</style><dl class=dl-inline><dt>npar</dt><dd>7</dd><dt>fmin</dt><dd>0</dd><dt>chisq</dt><dd>0</dd><dt>df</dt><dd>0</dd><dt>pvalue</dt><dd>&lt;NA&gt;</dd><dt>baseline.chisq</dt><dd>2071.49985559318</dd><dt>baseline.df</dt><dd>3</dd><dt>baseline.pvalue</dt><dd>0</dd><dt>cfi</dt><dd>1</dd><dt>tli</dt><dd>1</dd><dt>cfi.robust</dt><dd>1</dd><dt>tli.robust</dt><dd>1</dd><dt>logl</dt><dd>-2413.48334692181</dd><dt>unrestricted.logl</dt><dd>-2413.48334692181</dd><dt>aic</dt><dd>4840.96669384362</dd><dt>bic</dt><dd>4887.22488333711</dd><dt>ntotal</dt><dd>5477</dd><dt>bic2</dt><dd>4864.98106220196</dd><dt>rmsea</dt><dd>0</dd><dt>rmsea.ci.lower</dt><dd>0</dd><dt>rmsea.ci.upper</dt><dd>0</dd><dt>rmsea.ci.level</dt><dd>0.9</dd><dt>rmsea.pvalue</dt><dd>&lt;NA&gt;</dd><dt>rmsea.close.h0</dt><dd>0.05</dd><dt>rmsea.notclose.pvalue</dt><dd>&lt;NA&gt;</dd><dt>rmsea.notclose.h0</dt><dd>0.08</dd><dt>rmsea.robust</dt><dd>0</dd><dt>rmsea.ci.lower.robust</dt><dd>0</dd><dt>rmsea.ci.upper.robust</dt><dd>0</dd><dt>rmsea.pvalue.robust</dt><dd>&lt;NA&gt;</dd><dt>rmsea.notclose.pvalue.robust</dt><dd>&lt;NA&gt;</dd><dt>srmr</dt><dd>3.96995298606531e-16</dd></dl>\n",
              "</dd>\n",
              "\t<dt>$pe</dt>\n",
              "\t\t<dd><table class=\"dataframe\">\n",
              "<caption>A data.frame: 9 × 8</caption>\n",
              "<thead>\n",
              "\t<tr><th scope=col>lhs</th><th scope=col>op</th><th scope=col>rhs</th><th scope=col>exo</th><th scope=col>est</th><th scope=col>se</th><th scope=col>z</th><th scope=col>pvalue</th></tr>\n",
              "\t<tr><th scope=col>&lt;chr&gt;</th><th scope=col>&lt;chr&gt;</th><th scope=col>&lt;chr&gt;</th><th scope=col>&lt;int&gt;</th><th scope=col>&lt;dbl&gt;</th><th scope=col>&lt;dbl&gt;</th><th scope=col>&lt;dbl&gt;</th><th scope=col>&lt;dbl&gt;</th></tr>\n",
              "</thead>\n",
              "<tbody>\n",
              "\t<tr><td>pred_neutral </td><td>~1</td><td>             </td><td>0</td><td>0.19396996</td><td>0.0041884125</td><td>46.311092</td><td>0.000000e+00</td></tr>\n",
              "\t<tr><td>pred_neutral </td><td>~ </td><td>true_neutral </td><td>0</td><td>0.28022675</td><td>0.0059779445</td><td>46.876773</td><td>0.000000e+00</td></tr>\n",
              "\t<tr><td>pred_neutral </td><td>~ </td><td>Gender_Binary</td><td>0</td><td>0.05390080</td><td>0.0054597647</td><td> 9.872367</td><td>0.000000e+00</td></tr>\n",
              "\t<tr><td>true_neutral </td><td>~1</td><td>             </td><td>0</td><td>0.24338827</td><td>0.0088777275</td><td>27.415605</td><td>0.000000e+00</td></tr>\n",
              "\t<tr><td>true_neutral </td><td>~ </td><td>Gender_Binary</td><td>0</td><td>0.09901061</td><td>0.0122682779</td><td> 8.070457</td><td>6.661338e-16</td></tr>\n",
              "\t<tr><td>pred_neutral </td><td>~~</td><td>pred_neutral </td><td>0</td><td>0.04024614</td><td>0.0007690735</td><td>52.330679</td><td>0.000000e+00</td></tr>\n",
              "\t<tr><td>true_neutral </td><td>~~</td><td>true_neutral </td><td>0</td><td>0.20562584</td><td>0.0039293555</td><td>52.330679</td><td>0.000000e+00</td></tr>\n",
              "\t<tr><td>Gender_Binary</td><td>~~</td><td>Gender_Binary</td><td>1</td><td>0.24944095</td><td>0.0000000000</td><td>       NA</td><td>          NA</td></tr>\n",
              "\t<tr><td>Gender_Binary</td><td>~1</td><td>             </td><td>1</td><td>0.52364433</td><td>0.0000000000</td><td>       NA</td><td>          NA</td></tr>\n",
              "</tbody>\n",
              "</table>\n",
              "</dd>\n",
              "</dl>\n"
            ],
            "text/markdown": "$header\n:   $lavaan.version\n:   '0.6-19'\n$sam.approach\n:   FALSE\n$optim.method\n:   'nlminb'\n$optim.iterations\n:   1\n$optim.converged\n:   TRUE\n\n\n\n$optim\n:   $estimator\n:   'ML'\n$estimator.args\n:   \n\n\n$optim.method\n:   'nlminb'\n$npar\n:   7\n$eq.constraints\n:   FALSE\n$nrow.ceq.jac\n:   0\n$nrow.cin.jac\n:   0\n$nrow.con.jac\n:   0\n$con.jac.rank\n:   0\n\n\n\n$data\n:   $ngroups\n:   1\n$nobs\n:   5477\n$npatterns\n:   1\n\n\n\n$test\n:   **$standard** = $test\n:   'standard'\n$stat\n:   0\n$stat.group\n:   0\n$df\n:   0\n$refdistr\n:   'chisq'\n$pvalue\n:   &lt;NA&gt;\n\n\n\n$fit\n:   npar\n:   7fmin\n:   0chisq\n:   0df\n:   0pvalue\n:   &lt;NA&gt;baseline.chisq\n:   2071.49985559318baseline.df\n:   3baseline.pvalue\n:   0cfi\n:   1tli\n:   1cfi.robust\n:   1tli.robust\n:   1logl\n:   -2413.48334692181unrestricted.logl\n:   -2413.48334692181aic\n:   4840.96669384362bic\n:   4887.22488333711ntotal\n:   5477bic2\n:   4864.98106220196rmsea\n:   0rmsea.ci.lower\n:   0rmsea.ci.upper\n:   0rmsea.ci.level\n:   0.9rmsea.pvalue\n:   &lt;NA&gt;rmsea.close.h0\n:   0.05rmsea.notclose.pvalue\n:   &lt;NA&gt;rmsea.notclose.h0\n:   0.08rmsea.robust\n:   0rmsea.ci.lower.robust\n:   0rmsea.ci.upper.robust\n:   0rmsea.pvalue.robust\n:   &lt;NA&gt;rmsea.notclose.pvalue.robust\n:   &lt;NA&gt;srmr\n:   3.96995298606531e-16\n\n\n$pe\n:   \nA data.frame: 9 × 8\n\n| lhs &lt;chr&gt; | op &lt;chr&gt; | rhs &lt;chr&gt; | exo &lt;int&gt; | est &lt;dbl&gt; | se &lt;dbl&gt; | z &lt;dbl&gt; | pvalue &lt;dbl&gt; |\n|---|---|---|---|---|---|---|---|\n| pred_neutral  | ~1 | <!----> | 0 | 0.19396996 | 0.0041884125 | 46.311092 | 0.000000e+00 |\n| pred_neutral  | ~  | true_neutral  | 0 | 0.28022675 | 0.0059779445 | 46.876773 | 0.000000e+00 |\n| pred_neutral  | ~  | Gender_Binary | 0 | 0.05390080 | 0.0054597647 |  9.872367 | 0.000000e+00 |\n| true_neutral  | ~1 | <!----> | 0 | 0.24338827 | 0.0088777275 | 27.415605 | 0.000000e+00 |\n| true_neutral  | ~  | Gender_Binary | 0 | 0.09901061 | 0.0122682779 |  8.070457 | 6.661338e-16 |\n| pred_neutral  | ~~ | pred_neutral  | 0 | 0.04024614 | 0.0007690735 | 52.330679 | 0.000000e+00 |\n| true_neutral  | ~~ | true_neutral  | 0 | 0.20562584 | 0.0039293555 | 52.330679 | 0.000000e+00 |\n| Gender_Binary | ~~ | Gender_Binary | 1 | 0.24944095 | 0.0000000000 |        NA |           NA |\n| Gender_Binary | ~1 | <!----> | 1 | 0.52364433 | 0.0000000000 |        NA |           NA |\n\n\n\n\n",
            "text/latex": "\\begin{description}\n\\item[\\$header] \\begin{description}\n\\item[\\$lavaan.version] '0.6-19'\n\\item[\\$sam.approach] FALSE\n\\item[\\$optim.method] 'nlminb'\n\\item[\\$optim.iterations] 1\n\\item[\\$optim.converged] TRUE\n\\end{description}\n\n\\item[\\$optim] \\begin{description}\n\\item[\\$estimator] 'ML'\n\\item[\\$estimator.args] \\begin{enumerate}\n\\end{enumerate}\n\n\\item[\\$optim.method] 'nlminb'\n\\item[\\$npar] 7\n\\item[\\$eq.constraints] FALSE\n\\item[\\$nrow.ceq.jac] 0\n\\item[\\$nrow.cin.jac] 0\n\\item[\\$nrow.con.jac] 0\n\\item[\\$con.jac.rank] 0\n\\end{description}\n\n\\item[\\$data] \\begin{description}\n\\item[\\$ngroups] 1\n\\item[\\$nobs] 5477\n\\item[\\$npatterns] 1\n\\end{description}\n\n\\item[\\$test] \\textbf{\\$standard} = \\begin{description}\n\\item[\\$test] 'standard'\n\\item[\\$stat] 0\n\\item[\\$stat.group] 0\n\\item[\\$df] 0\n\\item[\\$refdistr] 'chisq'\n\\item[\\$pvalue] <NA>\n\\end{description}\n\n\\item[\\$fit] \\begin{description*}\n\\item[npar] 7\n\\item[fmin] 0\n\\item[chisq] 0\n\\item[df] 0\n\\item[pvalue] <NA>\n\\item[baseline.chisq] 2071.49985559318\n\\item[baseline.df] 3\n\\item[baseline.pvalue] 0\n\\item[cfi] 1\n\\item[tli] 1\n\\item[cfi.robust] 1\n\\item[tli.robust] 1\n\\item[logl] -2413.48334692181\n\\item[unrestricted.logl] -2413.48334692181\n\\item[aic] 4840.96669384362\n\\item[bic] 4887.22488333711\n\\item[ntotal] 5477\n\\item[bic2] 4864.98106220196\n\\item[rmsea] 0\n\\item[rmsea.ci.lower] 0\n\\item[rmsea.ci.upper] 0\n\\item[rmsea.ci.level] 0.9\n\\item[rmsea.pvalue] <NA>\n\\item[rmsea.close.h0] 0.05\n\\item[rmsea.notclose.pvalue] <NA>\n\\item[rmsea.notclose.h0] 0.08\n\\item[rmsea.robust] 0\n\\item[rmsea.ci.lower.robust] 0\n\\item[rmsea.ci.upper.robust] 0\n\\item[rmsea.pvalue.robust] <NA>\n\\item[rmsea.notclose.pvalue.robust] <NA>\n\\item[srmr] 3.96995298606531e-16\n\\end{description*}\n\n\\item[\\$pe] A data.frame: 9 × 8\n\\begin{tabular}{llllllll}\n lhs & op & rhs & exo & est & se & z & pvalue\\\\\n <chr> & <chr> & <chr> & <int> & <dbl> & <dbl> & <dbl> & <dbl>\\\\\n\\hline\n\t pred\\_neutral  & \\textasciitilde{}1 &               & 0 & 0.19396996 & 0.0041884125 & 46.311092 & 0.000000e+00\\\\\n\t pred\\_neutral  & \\textasciitilde{}  & true\\_neutral  & 0 & 0.28022675 & 0.0059779445 & 46.876773 & 0.000000e+00\\\\\n\t pred\\_neutral  & \\textasciitilde{}  & Gender\\_Binary & 0 & 0.05390080 & 0.0054597647 &  9.872367 & 0.000000e+00\\\\\n\t true\\_neutral  & \\textasciitilde{}1 &               & 0 & 0.24338827 & 0.0088777275 & 27.415605 & 0.000000e+00\\\\\n\t true\\_neutral  & \\textasciitilde{}  & Gender\\_Binary & 0 & 0.09901061 & 0.0122682779 &  8.070457 & 6.661338e-16\\\\\n\t pred\\_neutral  & \\textasciitilde{}\\textasciitilde{} & pred\\_neutral  & 0 & 0.04024614 & 0.0007690735 & 52.330679 & 0.000000e+00\\\\\n\t true\\_neutral  & \\textasciitilde{}\\textasciitilde{} & true\\_neutral  & 0 & 0.20562584 & 0.0039293555 & 52.330679 & 0.000000e+00\\\\\n\t Gender\\_Binary & \\textasciitilde{}\\textasciitilde{} & Gender\\_Binary & 1 & 0.24944095 & 0.0000000000 &        NA &           NA\\\\\n\t Gender\\_Binary & \\textasciitilde{}1 &               & 1 & 0.52364433 & 0.0000000000 &        NA &           NA\\\\\n\\end{tabular}\n\n\\end{description}\n",
            "text/plain": [
              "lavaan 0.6-19 ended normally after 1 iteration\n",
              "\n",
              "  Estimator                                         ML\n",
              "  Optimization method                           NLMINB\n",
              "  Number of model parameters                         7\n",
              "\n",
              "  Number of observations                          5477\n",
              "  Number of missing patterns                         1\n",
              "\n",
              "Model Test User Model:\n",
              "                                                      \n",
              "  Test statistic                                 0.000\n",
              "  Degrees of freedom                                 0\n",
              "\n",
              "Model Test Baseline Model:\n",
              "\n",
              "  Test statistic                              2071.500\n",
              "  Degrees of freedom                                 3\n",
              "  P-value                                        0.000\n",
              "\n",
              "User Model versus Baseline Model:\n",
              "\n",
              "  Comparative Fit Index (CFI)                    1.000\n",
              "  Tucker-Lewis Index (TLI)                       1.000\n",
              "                                                      \n",
              "  Robust Comparative Fit Index (CFI)             1.000\n",
              "  Robust Tucker-Lewis Index (TLI)                1.000\n",
              "\n",
              "Loglikelihood and Information Criteria:\n",
              "\n",
              "  Loglikelihood user model (H0)              -2413.483\n",
              "  Loglikelihood unrestricted model (H1)      -2413.483\n",
              "                                                      \n",
              "  Akaike (AIC)                                4840.967\n",
              "  Bayesian (BIC)                              4887.225\n",
              "  Sample-size adjusted Bayesian (SABIC)       4864.981\n",
              "\n",
              "Root Mean Square Error of Approximation:\n",
              "\n",
              "  RMSEA                                          0.000\n",
              "  90 Percent confidence interval - lower         0.000\n",
              "  90 Percent confidence interval - upper         0.000\n",
              "  P-value H_0: RMSEA <= 0.050                       NA\n",
              "  P-value H_0: RMSEA >= 0.080                       NA\n",
              "                                                      \n",
              "  Robust RMSEA                                   0.000\n",
              "  90 Percent confidence interval - lower         0.000\n",
              "  90 Percent confidence interval - upper         0.000\n",
              "  P-value H_0: Robust RMSEA <= 0.050                NA\n",
              "  P-value H_0: Robust RMSEA >= 0.080                NA\n",
              "\n",
              "Standardized Root Mean Square Residual:\n",
              "\n",
              "  SRMR                                           0.000\n",
              "\n",
              "Parameter Estimates:\n",
              "\n",
              "  Standard errors                             Standard\n",
              "  Information                                 Observed\n",
              "  Observed information based on                Hessian\n",
              "\n",
              "Regressions:\n",
              "                   Estimate  Std.Err  z-value  P(>|z|)\n",
              "  pred_neutral ~                                      \n",
              "    true_neutral      0.280    0.006   46.877    0.000\n",
              "    Gender_Binary     0.054    0.005    9.872    0.000\n",
              "  true_neutral ~                                      \n",
              "    Gender_Binary     0.099    0.012    8.070    0.000\n",
              "\n",
              "Intercepts:\n",
              "                   Estimate  Std.Err  z-value  P(>|z|)\n",
              "   .pred_neutral      0.194    0.004   46.311    0.000\n",
              "   .true_neutral      0.243    0.009   27.416    0.000\n",
              "\n",
              "Variances:\n",
              "                   Estimate  Std.Err  z-value  P(>|z|)\n",
              "   .pred_neutral      0.040    0.001   52.331    0.000\n",
              "   .true_neutral      0.206    0.004   52.331    0.000\n"
            ]
          },
          "metadata": {}
        }
      ]
    },
    {
      "cell_type": "code",
      "source": [
        "sem_results$surprise"
      ],
      "metadata": {
        "colab": {
          "base_uri": "https://localhost:8080/",
          "height": 1000
        },
        "id": "gS3vrtw7m-rc",
        "outputId": "2331aabe-153a-4f2f-b000-e2b194b99562"
      },
      "execution_count": 122,
      "outputs": [
        {
          "output_type": "display_data",
          "data": {
            "text/html": [
              "<dl>\n",
              "\t<dt>$header</dt>\n",
              "\t\t<dd><dl>\n",
              "\t<dt>$lavaan.version</dt>\n",
              "\t\t<dd>'0.6-19'</dd>\n",
              "\t<dt>$sam.approach</dt>\n",
              "\t\t<dd>FALSE</dd>\n",
              "\t<dt>$optim.method</dt>\n",
              "\t\t<dd>'nlminb'</dd>\n",
              "\t<dt>$optim.iterations</dt>\n",
              "\t\t<dd>20</dd>\n",
              "\t<dt>$optim.converged</dt>\n",
              "\t\t<dd>TRUE</dd>\n",
              "</dl>\n",
              "</dd>\n",
              "\t<dt>$optim</dt>\n",
              "\t\t<dd><dl>\n",
              "\t<dt>$estimator</dt>\n",
              "\t\t<dd>'ML'</dd>\n",
              "\t<dt>$estimator.args</dt>\n",
              "\t\t<dd><ol>\n",
              "</ol>\n",
              "</dd>\n",
              "\t<dt>$optim.method</dt>\n",
              "\t\t<dd>'nlminb'</dd>\n",
              "\t<dt>$npar</dt>\n",
              "\t\t<dd>7</dd>\n",
              "\t<dt>$eq.constraints</dt>\n",
              "\t\t<dd>FALSE</dd>\n",
              "\t<dt>$nrow.ceq.jac</dt>\n",
              "\t\t<dd>0</dd>\n",
              "\t<dt>$nrow.cin.jac</dt>\n",
              "\t\t<dd>0</dd>\n",
              "\t<dt>$nrow.con.jac</dt>\n",
              "\t\t<dd>0</dd>\n",
              "\t<dt>$con.jac.rank</dt>\n",
              "\t\t<dd>0</dd>\n",
              "</dl>\n",
              "</dd>\n",
              "\t<dt>$data</dt>\n",
              "\t\t<dd><dl>\n",
              "\t<dt>$ngroups</dt>\n",
              "\t\t<dd>1</dd>\n",
              "\t<dt>$nobs</dt>\n",
              "\t\t<dd>5477</dd>\n",
              "\t<dt>$npatterns</dt>\n",
              "\t\t<dd>1</dd>\n",
              "</dl>\n",
              "</dd>\n",
              "\t<dt>$test</dt>\n",
              "\t\t<dd><strong>$standard</strong> = <dl>\n",
              "\t<dt>$test</dt>\n",
              "\t\t<dd>'standard'</dd>\n",
              "\t<dt>$stat</dt>\n",
              "\t\t<dd>1.94582128187903e-11</dd>\n",
              "\t<dt>$stat.group</dt>\n",
              "\t\t<dd>1.94582128187903e-11</dd>\n",
              "\t<dt>$df</dt>\n",
              "\t\t<dd>0</dd>\n",
              "\t<dt>$refdistr</dt>\n",
              "\t\t<dd>'chisq'</dd>\n",
              "\t<dt>$pvalue</dt>\n",
              "\t\t<dd>&lt;NA&gt;</dd>\n",
              "</dl>\n",
              "</dd>\n",
              "\t<dt>$fit</dt>\n",
              "\t\t<dd><style>\n",
              ".dl-inline {width: auto; margin:0; padding: 0}\n",
              ".dl-inline>dt, .dl-inline>dd {float: none; width: auto; display: inline-block}\n",
              ".dl-inline>dt::after {content: \":\\0020\"; padding-right: .5ex}\n",
              ".dl-inline>dt:not(:first-of-type) {padding-left: .5ex}\n",
              "</style><dl class=dl-inline><dt>npar</dt><dd>7</dd><dt>fmin</dt><dd>1.77635683940025e-15</dd><dt>chisq</dt><dd>1.94582128187903e-11</dd><dt>df</dt><dd>0</dd><dt>pvalue</dt><dd>&lt;NA&gt;</dd><dt>baseline.chisq</dt><dd>446.778396688875</dd><dt>baseline.df</dt><dd>3</dd><dt>baseline.pvalue</dt><dd>0</dd><dt>cfi</dt><dd>0.999999999999956</dd><dt>tli</dt><dd>1</dd><dt>cfi.robust</dt><dd>0.999999999999978</dd><dt>tli.robust</dt><dd>1</dd><dt>logl</dt><dd>16681.6926223659</dd><dt>unrestricted.logl</dt><dd>16681.6926223659</dd><dt>aic</dt><dd>-33349.3852447318</dd><dt>bic</dt><dd>-33303.1270552383</dd><dt>ntotal</dt><dd>5477</dd><dt>bic2</dt><dd>-33325.3708763735</dd><dt>rmsea</dt><dd>0</dd><dt>rmsea.ci.lower</dt><dd>0</dd><dt>rmsea.ci.upper</dt><dd>0</dd><dt>rmsea.ci.level</dt><dd>0.9</dd><dt>rmsea.pvalue</dt><dd>&lt;NA&gt;</dd><dt>rmsea.close.h0</dt><dd>0.05</dd><dt>rmsea.notclose.pvalue</dt><dd>&lt;NA&gt;</dd><dt>rmsea.notclose.h0</dt><dd>0.08</dd><dt>rmsea.robust</dt><dd>0</dd><dt>rmsea.ci.lower.robust</dt><dd>0</dd><dt>rmsea.ci.upper.robust</dt><dd>0</dd><dt>rmsea.pvalue.robust</dt><dd>&lt;NA&gt;</dd><dt>rmsea.notclose.pvalue.robust</dt><dd>&lt;NA&gt;</dd><dt>srmr</dt><dd>1.28302734919387e-08</dd></dl>\n",
              "</dd>\n",
              "\t<dt>$pe</dt>\n",
              "\t\t<dd><table class=\"dataframe\">\n",
              "<caption>A data.frame: 9 × 8</caption>\n",
              "<thead>\n",
              "\t<tr><th scope=col>lhs</th><th scope=col>op</th><th scope=col>rhs</th><th scope=col>exo</th><th scope=col>est</th><th scope=col>se</th><th scope=col>z</th><th scope=col>pvalue</th></tr>\n",
              "\t<tr><th scope=col>&lt;chr&gt;</th><th scope=col>&lt;chr&gt;</th><th scope=col>&lt;chr&gt;</th><th scope=col>&lt;int&gt;</th><th scope=col>&lt;dbl&gt;</th><th scope=col>&lt;dbl&gt;</th><th scope=col>&lt;dbl&gt;</th><th scope=col>&lt;dbl&gt;</th></tr>\n",
              "</thead>\n",
              "<tbody>\n",
              "\t<tr><td>pred_surprise</td><td>~1</td><td>             </td><td>0</td><td> 0.0127827356</td><td>4.501999e-04</td><td>28.393467</td><td>0.000000e+00</td></tr>\n",
              "\t<tr><td>pred_surprise</td><td>~ </td><td>true_surprise</td><td>0</td><td> 0.0549243045</td><td>2.551957e-03</td><td>21.522425</td><td>0.000000e+00</td></tr>\n",
              "\t<tr><td>pred_surprise</td><td>~ </td><td>Gender_Binary</td><td>0</td><td>-0.0007961771</td><td>6.205109e-04</td><td>-1.283099</td><td>1.994572e-01</td></tr>\n",
              "\t<tr><td>true_surprise</td><td>~1</td><td>             </td><td>0</td><td> 0.0130318101</td><td>2.377237e-03</td><td> 5.481915</td><td>4.207467e-08</td></tr>\n",
              "\t<tr><td>true_surprise</td><td>~ </td><td>Gender_Binary</td><td>0</td><td> 0.0037045869</td><td>3.285143e-03</td><td> 1.127679</td><td>2.594555e-01</td></tr>\n",
              "\t<tr><td>pred_surprise</td><td>~~</td><td>pred_surprise</td><td>0</td><td> 0.0005259064</td><td>1.004968e-05</td><td>52.330679</td><td>0.000000e+00</td></tr>\n",
              "\t<tr><td>true_surprise</td><td>~~</td><td>true_surprise</td><td>0</td><td> 0.0147441245</td><td>2.817491e-04</td><td>52.330680</td><td>0.000000e+00</td></tr>\n",
              "\t<tr><td>Gender_Binary</td><td>~~</td><td>Gender_Binary</td><td>1</td><td> 0.2494409456</td><td>0.000000e+00</td><td>       NA</td><td>          NA</td></tr>\n",
              "\t<tr><td>Gender_Binary</td><td>~1</td><td>             </td><td>1</td><td> 0.5236443308</td><td>0.000000e+00</td><td>       NA</td><td>          NA</td></tr>\n",
              "</tbody>\n",
              "</table>\n",
              "</dd>\n",
              "</dl>\n"
            ],
            "text/markdown": "$header\n:   $lavaan.version\n:   '0.6-19'\n$sam.approach\n:   FALSE\n$optim.method\n:   'nlminb'\n$optim.iterations\n:   20\n$optim.converged\n:   TRUE\n\n\n\n$optim\n:   $estimator\n:   'ML'\n$estimator.args\n:   \n\n\n$optim.method\n:   'nlminb'\n$npar\n:   7\n$eq.constraints\n:   FALSE\n$nrow.ceq.jac\n:   0\n$nrow.cin.jac\n:   0\n$nrow.con.jac\n:   0\n$con.jac.rank\n:   0\n\n\n\n$data\n:   $ngroups\n:   1\n$nobs\n:   5477\n$npatterns\n:   1\n\n\n\n$test\n:   **$standard** = $test\n:   'standard'\n$stat\n:   1.94582128187903e-11\n$stat.group\n:   1.94582128187903e-11\n$df\n:   0\n$refdistr\n:   'chisq'\n$pvalue\n:   &lt;NA&gt;\n\n\n\n$fit\n:   npar\n:   7fmin\n:   1.77635683940025e-15chisq\n:   1.94582128187903e-11df\n:   0pvalue\n:   &lt;NA&gt;baseline.chisq\n:   446.778396688875baseline.df\n:   3baseline.pvalue\n:   0cfi\n:   0.999999999999956tli\n:   1cfi.robust\n:   0.999999999999978tli.robust\n:   1logl\n:   16681.6926223659unrestricted.logl\n:   16681.6926223659aic\n:   -33349.3852447318bic\n:   -33303.1270552383ntotal\n:   5477bic2\n:   -33325.3708763735rmsea\n:   0rmsea.ci.lower\n:   0rmsea.ci.upper\n:   0rmsea.ci.level\n:   0.9rmsea.pvalue\n:   &lt;NA&gt;rmsea.close.h0\n:   0.05rmsea.notclose.pvalue\n:   &lt;NA&gt;rmsea.notclose.h0\n:   0.08rmsea.robust\n:   0rmsea.ci.lower.robust\n:   0rmsea.ci.upper.robust\n:   0rmsea.pvalue.robust\n:   &lt;NA&gt;rmsea.notclose.pvalue.robust\n:   &lt;NA&gt;srmr\n:   1.28302734919387e-08\n\n\n$pe\n:   \nA data.frame: 9 × 8\n\n| lhs &lt;chr&gt; | op &lt;chr&gt; | rhs &lt;chr&gt; | exo &lt;int&gt; | est &lt;dbl&gt; | se &lt;dbl&gt; | z &lt;dbl&gt; | pvalue &lt;dbl&gt; |\n|---|---|---|---|---|---|---|---|\n| pred_surprise | ~1 | <!----> | 0 |  0.0127827356 | 4.501999e-04 | 28.393467 | 0.000000e+00 |\n| pred_surprise | ~  | true_surprise | 0 |  0.0549243045 | 2.551957e-03 | 21.522425 | 0.000000e+00 |\n| pred_surprise | ~  | Gender_Binary | 0 | -0.0007961771 | 6.205109e-04 | -1.283099 | 1.994572e-01 |\n| true_surprise | ~1 | <!----> | 0 |  0.0130318101 | 2.377237e-03 |  5.481915 | 4.207467e-08 |\n| true_surprise | ~  | Gender_Binary | 0 |  0.0037045869 | 3.285143e-03 |  1.127679 | 2.594555e-01 |\n| pred_surprise | ~~ | pred_surprise | 0 |  0.0005259064 | 1.004968e-05 | 52.330679 | 0.000000e+00 |\n| true_surprise | ~~ | true_surprise | 0 |  0.0147441245 | 2.817491e-04 | 52.330680 | 0.000000e+00 |\n| Gender_Binary | ~~ | Gender_Binary | 1 |  0.2494409456 | 0.000000e+00 |        NA |           NA |\n| Gender_Binary | ~1 | <!----> | 1 |  0.5236443308 | 0.000000e+00 |        NA |           NA |\n\n\n\n\n",
            "text/latex": "\\begin{description}\n\\item[\\$header] \\begin{description}\n\\item[\\$lavaan.version] '0.6-19'\n\\item[\\$sam.approach] FALSE\n\\item[\\$optim.method] 'nlminb'\n\\item[\\$optim.iterations] 20\n\\item[\\$optim.converged] TRUE\n\\end{description}\n\n\\item[\\$optim] \\begin{description}\n\\item[\\$estimator] 'ML'\n\\item[\\$estimator.args] \\begin{enumerate}\n\\end{enumerate}\n\n\\item[\\$optim.method] 'nlminb'\n\\item[\\$npar] 7\n\\item[\\$eq.constraints] FALSE\n\\item[\\$nrow.ceq.jac] 0\n\\item[\\$nrow.cin.jac] 0\n\\item[\\$nrow.con.jac] 0\n\\item[\\$con.jac.rank] 0\n\\end{description}\n\n\\item[\\$data] \\begin{description}\n\\item[\\$ngroups] 1\n\\item[\\$nobs] 5477\n\\item[\\$npatterns] 1\n\\end{description}\n\n\\item[\\$test] \\textbf{\\$standard} = \\begin{description}\n\\item[\\$test] 'standard'\n\\item[\\$stat] 1.94582128187903e-11\n\\item[\\$stat.group] 1.94582128187903e-11\n\\item[\\$df] 0\n\\item[\\$refdistr] 'chisq'\n\\item[\\$pvalue] <NA>\n\\end{description}\n\n\\item[\\$fit] \\begin{description*}\n\\item[npar] 7\n\\item[fmin] 1.77635683940025e-15\n\\item[chisq] 1.94582128187903e-11\n\\item[df] 0\n\\item[pvalue] <NA>\n\\item[baseline.chisq] 446.778396688875\n\\item[baseline.df] 3\n\\item[baseline.pvalue] 0\n\\item[cfi] 0.999999999999956\n\\item[tli] 1\n\\item[cfi.robust] 0.999999999999978\n\\item[tli.robust] 1\n\\item[logl] 16681.6926223659\n\\item[unrestricted.logl] 16681.6926223659\n\\item[aic] -33349.3852447318\n\\item[bic] -33303.1270552383\n\\item[ntotal] 5477\n\\item[bic2] -33325.3708763735\n\\item[rmsea] 0\n\\item[rmsea.ci.lower] 0\n\\item[rmsea.ci.upper] 0\n\\item[rmsea.ci.level] 0.9\n\\item[rmsea.pvalue] <NA>\n\\item[rmsea.close.h0] 0.05\n\\item[rmsea.notclose.pvalue] <NA>\n\\item[rmsea.notclose.h0] 0.08\n\\item[rmsea.robust] 0\n\\item[rmsea.ci.lower.robust] 0\n\\item[rmsea.ci.upper.robust] 0\n\\item[rmsea.pvalue.robust] <NA>\n\\item[rmsea.notclose.pvalue.robust] <NA>\n\\item[srmr] 1.28302734919387e-08\n\\end{description*}\n\n\\item[\\$pe] A data.frame: 9 × 8\n\\begin{tabular}{llllllll}\n lhs & op & rhs & exo & est & se & z & pvalue\\\\\n <chr> & <chr> & <chr> & <int> & <dbl> & <dbl> & <dbl> & <dbl>\\\\\n\\hline\n\t pred\\_surprise & \\textasciitilde{}1 &               & 0 &  0.0127827356 & 4.501999e-04 & 28.393467 & 0.000000e+00\\\\\n\t pred\\_surprise & \\textasciitilde{}  & true\\_surprise & 0 &  0.0549243045 & 2.551957e-03 & 21.522425 & 0.000000e+00\\\\\n\t pred\\_surprise & \\textasciitilde{}  & Gender\\_Binary & 0 & -0.0007961771 & 6.205109e-04 & -1.283099 & 1.994572e-01\\\\\n\t true\\_surprise & \\textasciitilde{}1 &               & 0 &  0.0130318101 & 2.377237e-03 &  5.481915 & 4.207467e-08\\\\\n\t true\\_surprise & \\textasciitilde{}  & Gender\\_Binary & 0 &  0.0037045869 & 3.285143e-03 &  1.127679 & 2.594555e-01\\\\\n\t pred\\_surprise & \\textasciitilde{}\\textasciitilde{} & pred\\_surprise & 0 &  0.0005259064 & 1.004968e-05 & 52.330679 & 0.000000e+00\\\\\n\t true\\_surprise & \\textasciitilde{}\\textasciitilde{} & true\\_surprise & 0 &  0.0147441245 & 2.817491e-04 & 52.330680 & 0.000000e+00\\\\\n\t Gender\\_Binary & \\textasciitilde{}\\textasciitilde{} & Gender\\_Binary & 1 &  0.2494409456 & 0.000000e+00 &        NA &           NA\\\\\n\t Gender\\_Binary & \\textasciitilde{}1 &               & 1 &  0.5236443308 & 0.000000e+00 &        NA &           NA\\\\\n\\end{tabular}\n\n\\end{description}\n",
            "text/plain": [
              "lavaan 0.6-19 ended normally after 20 iterations\n",
              "\n",
              "  Estimator                                         ML\n",
              "  Optimization method                           NLMINB\n",
              "  Number of model parameters                         7\n",
              "\n",
              "  Number of observations                          5477\n",
              "  Number of missing patterns                         1\n",
              "\n",
              "Model Test User Model:\n",
              "                                                      \n",
              "  Test statistic                                 0.000\n",
              "  Degrees of freedom                                 0\n",
              "\n",
              "Model Test Baseline Model:\n",
              "\n",
              "  Test statistic                               446.778\n",
              "  Degrees of freedom                                 3\n",
              "  P-value                                        0.000\n",
              "\n",
              "User Model versus Baseline Model:\n",
              "\n",
              "  Comparative Fit Index (CFI)                    1.000\n",
              "  Tucker-Lewis Index (TLI)                       1.000\n",
              "                                                      \n",
              "  Robust Comparative Fit Index (CFI)             1.000\n",
              "  Robust Tucker-Lewis Index (TLI)                1.000\n",
              "\n",
              "Loglikelihood and Information Criteria:\n",
              "\n",
              "  Loglikelihood user model (H0)              16681.693\n",
              "  Loglikelihood unrestricted model (H1)      16681.693\n",
              "                                                      \n",
              "  Akaike (AIC)                              -33349.385\n",
              "  Bayesian (BIC)                            -33303.127\n",
              "  Sample-size adjusted Bayesian (SABIC)     -33325.371\n",
              "\n",
              "Root Mean Square Error of Approximation:\n",
              "\n",
              "  RMSEA                                          0.000\n",
              "  90 Percent confidence interval - lower         0.000\n",
              "  90 Percent confidence interval - upper         0.000\n",
              "  P-value H_0: RMSEA <= 0.050                       NA\n",
              "  P-value H_0: RMSEA >= 0.080                       NA\n",
              "                                                      \n",
              "  Robust RMSEA                                   0.000\n",
              "  90 Percent confidence interval - lower         0.000\n",
              "  90 Percent confidence interval - upper         0.000\n",
              "  P-value H_0: Robust RMSEA <= 0.050                NA\n",
              "  P-value H_0: Robust RMSEA >= 0.080                NA\n",
              "\n",
              "Standardized Root Mean Square Residual:\n",
              "\n",
              "  SRMR                                           0.000\n",
              "\n",
              "Parameter Estimates:\n",
              "\n",
              "  Standard errors                             Standard\n",
              "  Information                                 Observed\n",
              "  Observed information based on                Hessian\n",
              "\n",
              "Regressions:\n",
              "                   Estimate  Std.Err  z-value  P(>|z|)\n",
              "  pred_surprise ~                                     \n",
              "    true_surprise     0.055    0.003   21.522    0.000\n",
              "    Gender_Binary    -0.001    0.001   -1.283    0.199\n",
              "  true_surprise ~                                     \n",
              "    Gender_Binary     0.004    0.003    1.128    0.259\n",
              "\n",
              "Intercepts:\n",
              "                   Estimate  Std.Err  z-value  P(>|z|)\n",
              "   .pred_surprise     0.013    0.000   28.393    0.000\n",
              "   .true_surprise     0.013    0.002    5.482    0.000\n",
              "\n",
              "Variances:\n",
              "                   Estimate  Std.Err  z-value  P(>|z|)\n",
              "   .pred_surprise     0.001    0.000   52.331    0.000\n",
              "   .true_surprise     0.015    0.000   52.331    0.000\n"
            ]
          },
          "metadata": {}
        }
      ]
    },
    {
      "cell_type": "markdown",
      "source": [
        "## Mitigation Method\n",
        "\n"
      ],
      "metadata": {
        "id": "u2Hg2xcqr4z9"
      }
    },
    {
      "cell_type": "code",
      "source": [
        "# Fit each SEM model and store fitted models\n",
        "sem_fits <- lapply(sem_models, function(model) {\n",
        "  fit <- sem(model, data = model_data, missing = \"ML\")\n",
        "  return(fit)\n",
        "})\n",
        "\n",
        "# Assign names to the list elements\n",
        "names(sem_fits) <- names(sem_models)"
      ],
      "metadata": {
        "colab": {
          "base_uri": "https://localhost:8080/"
        },
        "id": "fPRPrNfJvz4R",
        "outputId": "645998c0-dd6a-467c-ad0d-3743ef519a0c"
      },
      "execution_count": 123,
      "outputs": [
        {
          "output_type": "stream",
          "name": "stderr",
          "text": [
            "Warning message:\n",
            "“lavaan->lav_mvnorm_missing_h1_estimate_moments():  \n",
            "   The smallest eigenvalue of the EM estimated variance-covariance matrix \n",
            "   (Sigma) is smaller than 1e-05; this may cause numerical instabilities; \n",
            "   interpret the results with caution.”\n",
            "Warning message:\n",
            "“lavaan->lav_model_vcov():  \n",
            "   The variance-covariance matrix of the estimated parameters (vcov) does not \n",
            "   appear to be positive definite! The smallest eigenvalue (= 3.388883e-14) \n",
            "   is close to zero. This may be a symptom that the model is not identified.”\n"
          ]
        }
      ]
    },
    {
      "cell_type": "markdown",
      "source": [
        "Extract parameters of Emotion which has p-value less than 0.05"
      ],
      "metadata": {
        "id": "kSMiyke8wkQ-"
      }
    },
    {
      "cell_type": "code",
      "source": [
        "# Initialize lists to store emotions with significant Gender effect\n",
        "significant_emotions <- c()\n",
        "bias_coefficients <- c()\n",
        "\n",
        "# Loop over each emotion to extract parameters\n",
        "for (emotion in names(sem_fits)) {\n",
        "  fit <- sem_fits[[emotion]]\n",
        "\n",
        "  # Extract parameter estimates\n",
        "  params <- parameterEstimates(fit)\n",
        "\n",
        "  # Find the row corresponding to Gender_Binary effect on predicted emotion\n",
        "  param_row <- params %>%\n",
        "    filter(lhs == paste0(\"pred_\", emotion) & rhs == \"Gender_Binary\")\n",
        "\n",
        "  # Check if param_row is not empty\n",
        "  if (nrow(param_row) == 0) {\n",
        "    next  # Skip if Gender_Binary effect is not found\n",
        "  }\n",
        "\n",
        "  # Extract the estimate and p-value\n",
        "  beta_gender <- param_row$est\n",
        "  p_value <- param_row$pvalue\n",
        "\n",
        "  # Check if p-value < 0.05\n",
        "  if (!is.na(p_value) && p_value < 0.05) {\n",
        "    significant_emotions <- c(significant_emotions, emotion)\n",
        "    bias_coefficients <- c(bias_coefficients, beta_gender)\n",
        "  }\n",
        "}\n",
        "\n",
        "# Create a data frame with significant emotions and their bias coefficients\n",
        "bias_info <- data.frame(\n",
        "  emotion = significant_emotions,\n",
        "  beta_gender = bias_coefficients\n",
        ")\n",
        "print(bias_info)"
      ],
      "metadata": {
        "colab": {
          "base_uri": "https://localhost:8080/"
        },
        "id": "noMIaZpDv1oi",
        "outputId": "0a5777ec-13c7-4cd0-8093-68cfcae2f100"
      },
      "execution_count": 124,
      "outputs": [
        {
          "output_type": "stream",
          "name": "stdout",
          "text": [
            "  emotion  beta_gender\n",
            "1   angry  0.026932053\n",
            "2   happy -0.057726037\n",
            "3     sad  0.024412153\n",
            "4 disgust  0.000264849\n",
            "5 neutral  0.053900802\n"
          ]
        }
      ]
    },
    {
      "cell_type": "markdown",
      "source": [
        "Creation of Logit Columns + Copying original probabilites"
      ],
      "metadata": {
        "id": "hVHeYveiw25D"
      }
    },
    {
      "cell_type": "code",
      "source": [
        "# List of emotions\n",
        "emotions <- c(\"angry\", \"disgust\", \"fear\", \"happy\", \"neutral\", \"sad\", \"surprise\")\n",
        "\n",
        "# Step 1: Copy predicted probabilities to 'logit_' columns (no actual logit transformation here)\n",
        "for (emotion in emotions) {\n",
        "  prob_column <- paste0('pred_', emotion)\n",
        "  logit_column <- paste0('logit_', emotion)\n",
        "\n",
        "  # Assign predicted probabilities to 'logit_' columns\n",
        "  model_data[[logit_column]] <- (model_data[[prob_column]] )\n",
        "}"
      ],
      "metadata": {
        "id": "V3SO4CHNw-tZ"
      },
      "execution_count": 125,
      "outputs": []
    },
    {
      "cell_type": "markdown",
      "source": [
        "Adjust Logit for Emotions with Bias Introduced by subtracting the weight of gender bias"
      ],
      "metadata": {
        "id": "NfRXq6bvxIA5"
      }
    },
    {
      "cell_type": "code",
      "source": [
        "# Step 2: Adjust the \"logits\" for emotions with significant gender bias\n",
        "for (i in seq_along(bias_info$emotion)) {\n",
        "  emotion <- bias_info$emotion[i]\n",
        "  beta_gender <- bias_info$beta_gender[i]\n",
        "\n",
        "  logit_column <- paste0('logit_', emotion)\n",
        "  adj_logit_column <- paste0('logit_', emotion, '_adj') # Adjusted \"logit\" column\n",
        "\n",
        "  # Subtract the gender bias from the logits\n",
        "  model_data[[adj_logit_column]] <- model_data[[logit_column]] - beta_gender * model_data$Gender_Binary\n",
        "}"
      ],
      "metadata": {
        "id": "iKNalLWcxJoQ"
      },
      "execution_count": 126,
      "outputs": []
    },
    {
      "cell_type": "markdown",
      "source": [
        "Rescale the adjusted logits to match the original scale."
      ],
      "metadata": {
        "id": "CTeqAcy8zW70"
      }
    },
    {
      "cell_type": "code",
      "source": [
        "# Step 3: Rescale adjusted logits to match the original scale for biased emotions\n",
        "# This ensures that adjusted logits have the same min and max values as the original logits\n",
        "model_data$logit_angry_adj = min(model_data$logit_angry)+(model_data$logit_angry_adj-min(model_data$logit_angry_adj))*(max(model_data$logit_angry)-min(model_data$logit_angry))/(max(model_data$logit_angry_adj)-min(model_data$logit_angry_adj))\n",
        "model_data$logit_happy_adj = min(model_data$logit_happy)+(model_data$logit_happy_adj-min(model_data$logit_happy_adj))*(max(model_data$logit_happy)-min(model_data$logit_happy))/(max(model_data$logit_happy_adj)-min(model_data$logit_happy_adj))\n",
        "model_data$logit_sad_adj = min(model_data$logit_sad)+(model_data$logit_sad_adj-min(model_data$logit_sad_adj))*(max(model_data$logit_sad)-min(model_data$logit_sad))/(max(model_data$logit_sad_adj)-min(model_data$logit_sad_adj))\n",
        "model_data$logit_disgust_adj = min(model_data$logit_disgust)+(model_data$logit_disgust_adj-min(model_data$logit_disgust_adj))*(max(model_data$logit_disgust)-min(model_data$logit_disgust))/(max(model_data$logit_disgust_adj)-min(model_data$logit_disgust_adj))\n",
        "model_data$logit_neutral_adj = min(model_data$logit_neutral)+(model_data$logit_neutral_adj-min(model_data$logit_neutral_adj))*(max(model_data$logit_neutral)-min(model_data$logit_neutral))/(max(model_data$logit_neutral_adj)-min(model_data$logit_neutral_adj))\n",
        "\n",
        "# Step 4: Summarize the original and adjusted logits for comparison\n",
        "summary(model_data$logit_angry)\n",
        "summary(model_data$logit_angry_adj)\n",
        "summary(model_data$logit_happy)\n",
        "summary(model_data$logit_happy_adj)\n",
        "summary(model_data$logit_sad)\n",
        "summary(model_data$logit_sad_adj)\n",
        "summary(model_data$logit_disgust)\n",
        "summary(model_data$logit_disgust_adj)\n",
        "summary(model_data$logit_neutral)\n",
        "summary(model_data$logit_neutral_adj)"
      ],
      "metadata": {
        "colab": {
          "base_uri": "https://localhost:8080/",
          "height": 364
        },
        "id": "55CqhaLyzl5V",
        "outputId": "a32cd358-49f4-48f1-d89c-78481ee7e1f2"
      },
      "execution_count": 127,
      "outputs": [
        {
          "output_type": "display_data",
          "data": {
            "text/plain": [
              "     Min.   1st Qu.    Median      Mean   3rd Qu.      Max. \n",
              "0.0000036 0.0206512 0.0624778 0.0810251 0.1156037 0.6462339 "
            ]
          },
          "metadata": {}
        },
        {
          "output_type": "display_data",
          "data": {
            "text/plain": [
              "     Min.   1st Qu.    Median      Mean   3rd Qu.      Max. \n",
              "0.0000036 0.0364880 0.0757140 0.0938280 0.1278222 0.6462339 "
            ]
          },
          "metadata": {}
        },
        {
          "output_type": "display_data",
          "data": {
            "text/plain": [
              "     Min.   1st Qu.    Median      Mean   3rd Qu.      Max. \n",
              "0.0001306 0.0352659 0.1296947 0.3114618 0.5989177 0.9993316 "
            ]
          },
          "metadata": {}
        },
        {
          "output_type": "display_data",
          "data": {
            "text/plain": [
              "     Min.   1st Qu.    Median      Mean   3rd Qu.      Max. \n",
              "0.0001306 0.0721168 0.1536105 0.3234046 0.5916155 0.9993316 "
            ]
          },
          "metadata": {}
        },
        {
          "output_type": "display_data",
          "data": {
            "text/plain": [
              "     Min.   1st Qu.    Median      Mean   3rd Qu.      Max. \n",
              "0.0000324 0.0420519 0.1548875 0.1908608 0.2978826 0.8682731 "
            ]
          },
          "metadata": {}
        },
        {
          "output_type": "display_data",
          "data": {
            "text/plain": [
              "     Min.   1st Qu.    Median      Mean   3rd Qu.      Max. \n",
              "0.0000324 0.0543822 0.1605029 0.1968784 0.2995567 0.8682731 "
            ]
          },
          "metadata": {}
        },
        {
          "output_type": "display_data",
          "data": {
            "text/plain": [
              "     Min.   1st Qu.    Median      Mean   3rd Qu.      Max. \n",
              "5.790e-07 8.546e-04 2.425e-03 3.289e-03 4.841e-03 2.839e-02 "
            ]
          },
          "metadata": {}
        },
        {
          "output_type": "display_data",
          "data": {
            "text/plain": [
              "     Min.   1st Qu.    Median      Mean   3rd Qu.      Max. \n",
              "5.790e-07 9.775e-04 2.525e-03 3.413e-03 4.968e-03 2.839e-02 "
            ]
          },
          "metadata": {}
        },
        {
          "output_type": "display_data",
          "data": {
            "text/plain": [
              "     Min.   1st Qu.    Median      Mean   3rd Qu.      Max. \n",
              "0.0000711 0.1149623 0.2459269 0.3049274 0.4547520 0.9855292 "
            ]
          },
          "metadata": {}
        },
        {
          "output_type": "display_data",
          "data": {
            "text/plain": [
              "     Min.   1st Qu.    Median      Mean   3rd Qu.      Max. \n",
              "0.0000711 0.1331214 0.2581074 0.3158164 0.4536814 0.9855292 "
            ]
          },
          "metadata": {}
        }
      ]
    },
    {
      "cell_type": "markdown",
      "source": [
        "Emotions without bias are unadjsuted\n",
        "\n"
      ],
      "metadata": {
        "id": "wA0LntlA6U1A"
      }
    },
    {
      "cell_type": "code",
      "source": [
        "# Step 5: For emotions without significant bias, copy original logits to adjusted logits\n",
        "for (emotion in setdiff(emotions, bias_info$emotion)) {\n",
        "  logit_column <- paste0('logit_', emotion)\n",
        "  adj_logit_column <- paste0('logit_', emotion, '_adj')\n",
        "\n",
        "  model_data[[adj_logit_column]] <- model_data[[logit_column]]\n",
        "}\n",
        "\n",
        "# Step 6: Summarize adjusted logits for all emotions\n",
        "summary(model_data$logit_angry_adj)\n",
        "summary(model_data$logit_happy_adj)\n",
        "summary(model_data$logit_sad_adj)\n",
        "summary(model_data$logit_disgust_adj)\n",
        "summary(model_data$logit_neutral_adj)\n",
        "summary(model_data$logit_fear_adj)\n",
        "summary(model_data$logit_surprise_adj)"
      ],
      "metadata": {
        "colab": {
          "base_uri": "https://localhost:8080/",
          "height": 260
        },
        "id": "tNYI-JctztzN",
        "outputId": "7182eded-aa74-4616-a1c1-e7b2a26011e7"
      },
      "execution_count": 128,
      "outputs": [
        {
          "output_type": "display_data",
          "data": {
            "text/plain": [
              "     Min.   1st Qu.    Median      Mean   3rd Qu.      Max. \n",
              "0.0000036 0.0364880 0.0757140 0.0938280 0.1278222 0.6462339 "
            ]
          },
          "metadata": {}
        },
        {
          "output_type": "display_data",
          "data": {
            "text/plain": [
              "     Min.   1st Qu.    Median      Mean   3rd Qu.      Max. \n",
              "0.0001306 0.0721168 0.1536105 0.3234046 0.5916155 0.9993316 "
            ]
          },
          "metadata": {}
        },
        {
          "output_type": "display_data",
          "data": {
            "text/plain": [
              "     Min.   1st Qu.    Median      Mean   3rd Qu.      Max. \n",
              "0.0000324 0.0543822 0.1605029 0.1968784 0.2995567 0.8682731 "
            ]
          },
          "metadata": {}
        },
        {
          "output_type": "display_data",
          "data": {
            "text/plain": [
              "     Min.   1st Qu.    Median      Mean   3rd Qu.      Max. \n",
              "5.790e-07 9.775e-04 2.525e-03 3.413e-03 4.968e-03 2.839e-02 "
            ]
          },
          "metadata": {}
        },
        {
          "output_type": "display_data",
          "data": {
            "text/plain": [
              "     Min.   1st Qu.    Median      Mean   3rd Qu.      Max. \n",
              "0.0000711 0.1331214 0.2581074 0.3158164 0.4536814 0.9855292 "
            ]
          },
          "metadata": {}
        },
        {
          "output_type": "display_data",
          "data": {
            "text/plain": [
              "     Min.   1st Qu.    Median      Mean   3rd Qu.      Max. \n",
              "0.0000578 0.0241028 0.0668727 0.0952475 0.1355609 0.5972042 "
            ]
          },
          "metadata": {}
        },
        {
          "output_type": "display_data",
          "data": {
            "text/plain": [
              "     Min.   1st Qu.    Median      Mean   3rd Qu.      Max. \n",
              "0.0000167 0.0029486 0.0065389 0.0131881 0.0136840 0.4495460 "
            ]
          },
          "metadata": {}
        }
      ]
    },
    {
      "cell_type": "markdown",
      "source": [
        "Recompute the adjusted probabilities using the Softmax function"
      ],
      "metadata": {
        "id": "OH_sVngi1U-S"
      }
    },
    {
      "cell_type": "code",
      "source": [
        "# Step 7: Prepare adjusted logits for softmax computation\n",
        "adj_logit_columns <- paste0('logit_', emotions, '_adj')\n",
        "adj_logits_matrix <- as.matrix(model_data[, adj_logit_columns])\n",
        "\n",
        "# Step 8: Apply the softmax function to obtain adjusted probabilities\n",
        "exp_adj_logits <- exp(adj_logits_matrix)\n",
        "sum_exp_adj_logits <- rowSums(exp_adj_logits)\n",
        "\n",
        "# Calculate adjusted probabilities by dividing exponentials by the sum\n",
        "adj_prob_matrix <- exp_adj_logits / sum_exp_adj_logits\n",
        "\n",
        "# Step 9: Store adjusted probabilities back into the data frame\n",
        "adj_prob_columns <- paste0('pred_', emotions, '_adj')\n",
        "model_data[, adj_prob_columns] <- adj_prob_matrix"
      ],
      "metadata": {
        "id": "po963uXW1aJh"
      },
      "execution_count": 129,
      "outputs": []
    },
    {
      "cell_type": "markdown",
      "source": [
        "Update the predicted dominant emotion"
      ],
      "metadata": {
        "id": "LvMm6J-I1dYK"
      }
    },
    {
      "cell_type": "code",
      "source": [
        "# Step 10: Determine the predicted dominant emotion after adjustment\n",
        "model_data$pred_dominant_emotion_adj <- apply(model_data[, adj_prob_columns], 1, function(x) {\n",
        "  emotions[which.max(x)]\n",
        "})"
      ],
      "metadata": {
        "id": "iIt8iHt61g70"
      },
      "execution_count": 130,
      "outputs": []
    },
    {
      "cell_type": "markdown",
      "source": [
        "### Evaluation & Visualization"
      ],
      "metadata": {
        "id": "0V7m_Ya12QHL"
      }
    },
    {
      "cell_type": "markdown",
      "source": [
        "Evaluate the impact of Mitigation (Comparing Accuracy before and after)"
      ],
      "metadata": {
        "id": "MC43O_0Q1jbx"
      }
    },
    {
      "cell_type": "code",
      "source": [
        "# Prepare data for plotting\n",
        "library(dplyr)\n",
        "library(tidyr)\n",
        "library(ggplot2)\n",
        "\n",
        "\n",
        "model_data$Prediction_Correct_Before <- model_data$pred_dominant_emotion == model_data$True_Emotion\n",
        "model_data$Prediction_Correct_After <- model_data$pred_dominant_emotion_adj == model_data$True_Emotion"
      ],
      "metadata": {
        "id": "rNmSX2Km1q0d"
      },
      "execution_count": 131,
      "outputs": []
    },
    {
      "cell_type": "markdown",
      "source": [
        "Compare Accuracy by Gender and Emotion"
      ],
      "metadata": {
        "id": "Xv809hrE3teU"
      }
    },
    {
      "cell_type": "code",
      "source": [
        "emotion_gender_accuracy <- model_data %>%\n",
        "  group_by(True_Emotion, gender) %>%\n",
        "  summarise(\n",
        "    Count = n(),\n",
        "    Correct_Before = sum(Prediction_Correct_Before),\n",
        "    Correct_After = sum(Prediction_Correct_After)\n",
        "  ) %>%\n",
        "  mutate(\n",
        "    Accuracy_Before = (Correct_Before / Count) * 100,\n",
        "    Accuracy_After = (Correct_After / Count) * 100\n",
        "  ) %>%\n",
        "  select(True_Emotion, gender, Accuracy_Before, Accuracy_After) %>%\n",
        "  arrange(True_Emotion, gender)\n",
        "\n",
        "print(emotion_gender_accuracy)\n",
        "\n",
        "accuracy_long <- emotion_gender_accuracy %>%\n",
        "  pivot_longer(\n",
        "    cols = c(\"Accuracy_Before\", \"Accuracy_After\"),\n",
        "    names_to = \"Condition\",\n",
        "    values_to = \"Accuracy\"\n",
        "  ) %>%\n",
        "  mutate(\n",
        "    # Simplify the Condition labels\n",
        "    Condition = factor(Condition, levels = c(\"Accuracy_Before\", \"Accuracy_After\"), labels = c(\"Before\", \"After\"))\n",
        "  )\n",
        "\n",
        "# Plot the accuracy by emotion and gender before and after mitigation\n",
        "ggplot(accuracy_long, aes(x = True_Emotion, y = Accuracy, fill = gender)) +\n",
        "  geom_bar(stat = 'identity', position = 'dodge') +\n",
        "  facet_wrap(~ Condition) +\n",
        "  labs(\n",
        "    title = 'Accuracy by Emotion and Gender Before and After Mitigation',\n",
        "    x = 'True Emotion',\n",
        "    y = 'Accuracy (%)',\n",
        "    fill = 'Gender'\n",
        "  ) +\n",
        "  theme_minimal() +\n",
        "  theme(\n",
        "    axis.text.x = element_text(angle = 45, hjust = 1),\n",
        "    legend.position = \"bottom\"\n",
        "  )"
      ],
      "metadata": {
        "colab": {
          "base_uri": "https://localhost:8080/",
          "height": 784
        },
        "id": "gZ0Tb5w03qdm",
        "outputId": "84f55776-74aa-4fdd-a90c-a0287c45e8e2"
      },
      "execution_count": 132,
      "outputs": [
        {
          "output_type": "stream",
          "name": "stderr",
          "text": [
            "\u001b[1m\u001b[22m`summarise()` has grouped output by 'True_Emotion'. You can override using the\n",
            "`.groups` argument.\n"
          ]
        },
        {
          "output_type": "stream",
          "name": "stdout",
          "text": [
            "\u001b[90m# A tibble: 14 × 4\u001b[39m\n",
            "\u001b[90m# Groups:   True_Emotion [7]\u001b[39m\n",
            "   True_Emotion gender Accuracy_Before Accuracy_After\n",
            "   \u001b[3m\u001b[90m<chr>\u001b[39m\u001b[23m        \u001b[3m\u001b[90m<chr>\u001b[39m\u001b[23m            \u001b[3m\u001b[90m<dbl>\u001b[39m\u001b[23m          \u001b[3m\u001b[90m<dbl>\u001b[39m\u001b[23m\n",
            "\u001b[90m 1\u001b[39m angry        Female            5.11           6.82\n",
            "\u001b[90m 2\u001b[39m angry        Male             13.7           14.1 \n",
            "\u001b[90m 3\u001b[39m disgust      Female            0              0   \n",
            "\u001b[90m 4\u001b[39m disgust      Male              0              0   \n",
            "\u001b[90m 5\u001b[39m fear         Female           17.1           14.3 \n",
            "\u001b[90m 6\u001b[39m fear         Male             19.5           19.1 \n",
            "\u001b[90m 7\u001b[39m happy        Female           86.1           84.9 \n",
            "\u001b[90m 8\u001b[39m happy        Male             75.7           78.4 \n",
            "\u001b[90m 9\u001b[39m neutral      Female           66.9           70.4 \n",
            "\u001b[90m10\u001b[39m neutral      Male             75.2           73.3 \n",
            "\u001b[90m11\u001b[39m sad          Female           48.6           48.2 \n",
            "\u001b[90m12\u001b[39m sad          Male             47.6           47.8 \n",
            "\u001b[90m13\u001b[39m surprise     Female            2.94           2.94\n",
            "\u001b[90m14\u001b[39m surprise     Male              4.17           4.17\n"
          ]
        },
        {
          "output_type": "display_data",
          "data": {
            "text/plain": [
              "plot without title"
            ],
            "image/png": "[encoded data removed]"
          },
          "metadata": {
            "image/png": {
              "width": 420,
              "height": 420
            }
          }
        }
      ]
    },
    {
      "cell_type": "markdown",
      "source": [
        "Compare Accuracy by Gender"
      ],
      "metadata": {
        "id": "CLrNEmRL1uyh"
      }
    },
    {
      "cell_type": "code",
      "source": [
        "accuracy_comparison <- model_data %>%\n",
        "  group_by(gender) %>%\n",
        "  summarise(\n",
        "    Accuracy_Before = mean(Prediction_Correct_Before) * 100,\n",
        "    Accuracy_After = mean(Prediction_Correct_After) * 100\n",
        "  )\n",
        "\n",
        "print(accuracy_comparison)\n",
        "\n",
        "# Prepare data for plotting\n",
        "accuracy_gender_long <- accuracy_comparison %>%\n",
        "  pivot_longer(\n",
        "    cols = c(\"Accuracy_Before\", \"Accuracy_After\"),\n",
        "    names_to = \"Condition\",\n",
        "    values_to = \"Accuracy\"\n",
        "  ) %>%\n",
        "  mutate(\n",
        "    # Convert Condition to a factor and specify the desired order and labels\n",
        "    Condition = factor(Condition, levels = c(\"Accuracy_Before\", \"Accuracy_After\"), labels = c(\"Before\", \"After\")),\n",
        "    # Ensure gender is a factor with desired order\n",
        "    gender = factor(gender, levels = c(\"Female\", \"Male\"))\n",
        "  )\n",
        "\n",
        "# Plot the accuracy by condition before and after mitigation\n",
        "ggplot(accuracy_gender_long, aes(x = Condition, y = Accuracy, fill = gender)) +\n",
        "  geom_bar(stat = 'identity', position = 'dodge') +\n",
        "  labs(\n",
        "    title = 'Overall Accuracy by Gender Before and After Mitigation',\n",
        "    x = 'Condition',\n",
        "    y = 'Accuracy (%)',\n",
        "    fill = 'Gender'\n",
        "  ) +\n",
        "  theme_minimal() +\n",
        "  theme(\n",
        "    legend.position = \"bottom\"\n",
        "  )"
      ],
      "metadata": {
        "colab": {
          "base_uri": "https://localhost:8080/",
          "height": 524
        },
        "id": "CQJMecRh1x-2",
        "outputId": "4c0c9a66-8213-4d4e-e1e4-ae8acccf6efb"
      },
      "execution_count": 133,
      "outputs": [
        {
          "output_type": "stream",
          "name": "stdout",
          "text": [
            "\u001b[90m# A tibble: 2 × 3\u001b[39m\n",
            "  gender Accuracy_Before Accuracy_After\n",
            "  \u001b[3m\u001b[90m<chr>\u001b[39m\u001b[23m            \u001b[3m\u001b[90m<dbl>\u001b[39m\u001b[23m          \u001b[3m\u001b[90m<dbl>\u001b[39m\u001b[23m\n",
            "\u001b[90m1\u001b[39m Female            60.5           60.6\n",
            "\u001b[90m2\u001b[39m Male              56.3           56.3\n"
          ]
        },
        {
          "output_type": "display_data",
          "data": {
            "text/plain": [
              "plot without title"
            ],
            "image/png": "[encoded data removed]"
          },
          "metadata": {
            "image/png": {
              "width": 420,
              "height": 420
            }
          }
        }
      ]
    },
    {
      "cell_type": "markdown",
      "source": [
        "Compare by Overall accuracy"
      ],
      "metadata": {
        "id": "-5LCQjhx1y1v"
      }
    },
    {
      "cell_type": "code",
      "source": [
        "overall_accuracy <- model_data %>%\n",
        "  summarise(\n",
        "    Accuracy_Before = mean(Prediction_Correct_Before) * 100,\n",
        "    Accuracy_After = mean(Prediction_Correct_After) * 100\n",
        "  )\n",
        "\n",
        "print(overall_accuracy)\n",
        "\n",
        "# Prepare data for plotting\n",
        "overall_accuracy_long <- overall_accuracy %>%\n",
        "  pivot_longer(\n",
        "    cols = c(\"Accuracy_Before\", \"Accuracy_After\"),\n",
        "    names_to = \"Condition\",\n",
        "    values_to = \"Accuracy\"\n",
        "  ) %>%\n",
        "  mutate(\n",
        "    # Simplify the Condition labels\n",
        "    Condition = factor(Condition, levels = c(\"Accuracy_Before\", \"Accuracy_After\"), labels = c(\"Before\", \"After\"))\n",
        "  )\n",
        "\n",
        "# Plot the overall accuracy before and after mitigation\n",
        "ggplot(overall_accuracy_long, aes(x = Condition, y = Accuracy, fill = Condition)) +\n",
        "  geom_bar(stat = 'identity', width = 0.5) +\n",
        "  labs(\n",
        "    title = 'Overall Accuracy Before and After Mitigation',\n",
        "    x = 'Condition',\n",
        "    y = 'Accuracy (%)',\n",
        "    fill = 'Condition'\n",
        "  ) +\n",
        "  theme_minimal() +\n",
        "  theme(\n",
        "    legend.position = \"none\"\n",
        "  )"
      ],
      "metadata": {
        "colab": {
          "base_uri": "https://localhost:8080/",
          "height": 472
        },
        "id": "XFvehP5G15Wk",
        "outputId": "96af4994-2300-43fe-8751-4624cfa101a7"
      },
      "execution_count": 134,
      "outputs": [
        {
          "output_type": "stream",
          "name": "stdout",
          "text": [
            "  Accuracy_Before Accuracy_After\n",
            "1        58.28008       58.35311\n"
          ]
        },
        {
          "output_type": "display_data",
          "data": {
            "text/plain": [
              "plot without title"
            ],
            "image/png": "[encoded data removed]"
          },
          "metadata": {
            "image/png": {
              "width": 420,
              "height": 420
            }
          }
        }
      ]
    }
  ]
}